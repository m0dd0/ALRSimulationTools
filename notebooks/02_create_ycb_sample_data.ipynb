{
 "cells": [
  {
   "cell_type": "code",
   "execution_count": 1,
   "metadata": {},
   "outputs": [
    {
     "name": "stderr",
     "output_type": "stream",
     "text": [
      "pybullet build time: Oct 28 2022 16:11:27\n"
     ]
    }
   ],
   "source": [
    "%load_ext autoreload\n",
    "%autoreload 2\n",
    "\n",
    "from pathlib import Path\n",
    "import logging\n",
    "\n",
    "import yaml\n",
    "import numpy as np\n",
    "\n",
    "from alr_sim.core.Scene import Scene\n",
    "\n",
    "from alr_simulation_tools.ycb_utils import YCBLoader\n",
    "from alr_simulation_tools.scene_utils import create_sample_data\n",
    "\n",
    "logging.basicConfig(level=logging.INFO)"
   ]
  },
  {
   "cell_type": "code",
   "execution_count": 2,
   "metadata": {},
   "outputs": [],
   "source": [
    "destination_path = Path.home() / \"Documents\" / \"ycb_sim_data_1\"\n",
    "destination_path.mkdir(parents=True, exist_ok=True)"
   ]
  },
  {
   "cell_type": "code",
   "execution_count": 3,
   "metadata": {},
   "outputs": [],
   "source": [
    "factory_string = \"mj_beta\"\n",
    "\n",
    "ycb_loader = YCBLoader(\n",
    "    ycb_base_folder=Path.home() / \"Documents\" / \"ycb\",\n",
    "    factory_string=factory_string,\n",
    ")"
   ]
  },
  {
   "cell_type": "code",
   "execution_count": 4,
   "metadata": {},
   "outputs": [
    {
     "name": "stderr",
     "output_type": "stream",
     "text": [
      "INFO:root:Creating sample data for 001_chips_can\n",
      "INFO:root:Creating sample data for 002_master_chef_can\n",
      "INFO:root:Creating sample data for 003_cracker_box\n"
     ]
    },
    {
     "name": "stdout",
     "output_type": "stream",
     "text": [
      "WARNING: Nan, Inf or huge value in QACC at DOF 0. The simulation is unstable. Time = 0.1140.\n",
      "\n"
     ]
    },
    {
     "name": "stderr",
     "output_type": "stream",
     "text": [
      "INFO:root:Creating sample data for 004_sugar_box\n"
     ]
    },
    {
     "name": "stdout",
     "output_type": "stream",
     "text": [
      "WARNING: Nan, Inf or huge value in QACC at DOF 0. The simulation is unstable. Time = 0.0102.\n",
      "\n"
     ]
    },
    {
     "name": "stderr",
     "output_type": "stream",
     "text": [
      "INFO:root:Creating sample data for 005_tomato_soup_can\n",
      "INFO:root:Creating sample data for 006_mustard_bottle\n",
      "INFO:root:Creating sample data for 007_tuna_fish_can\n",
      "INFO:root:Creating sample data for 008_pudding_box\n",
      "INFO:root:Creating sample data for 009_gelatin_box\n"
     ]
    },
    {
     "name": "stdout",
     "output_type": "stream",
     "text": [
      "WARNING: Nan, Inf or huge value in QACC at DOF 1. The simulation is unstable. Time = 0.0266.\n",
      "\n"
     ]
    },
    {
     "name": "stderr",
     "output_type": "stream",
     "text": [
      "INFO:root:Creating sample data for 010_potted_meat_can\n"
     ]
    },
    {
     "name": "stdout",
     "output_type": "stream",
     "text": [
      "WARNING: Nan, Inf or huge value in QACC at DOF 0. The simulation is unstable. Time = 0.1192.\n",
      "\n"
     ]
    },
    {
     "name": "stderr",
     "output_type": "stream",
     "text": [
      "INFO:root:Creating sample data for 011_banana\n"
     ]
    },
    {
     "name": "stdout",
     "output_type": "stream",
     "text": [
      "WARNING: Nan, Inf or huge value in QACC at DOF 3. The simulation is unstable. Time = 0.0142.\n",
      "\n"
     ]
    },
    {
     "ename": "KeyboardInterrupt",
     "evalue": "",
     "output_type": "error",
     "traceback": [
      "\u001b[0;31m---------------------------------------------------------------------------\u001b[0m",
      "\u001b[0;31mKeyboardInterrupt\u001b[0m                         Traceback (most recent call last)",
      "Cell \u001b[0;32mIn[4], line 6\u001b[0m\n\u001b[1;32m      2\u001b[0m logging\u001b[39m.\u001b[39minfo(\u001b[39mf\u001b[39m\u001b[39m\"\u001b[39m\u001b[39mCreating sample data for \u001b[39m\u001b[39m{\u001b[39;00mycb_loader\u001b[39m.\u001b[39mget_obj_name(i)\u001b[39m}\u001b[39;00m\u001b[39m\"\u001b[39m)\n\u001b[1;32m      4\u001b[0m sim_obj, name \u001b[39m=\u001b[39m ycb_loader\u001b[39m.\u001b[39mget_ycb_object(index\u001b[39m=\u001b[39mi)\n\u001b[0;32m----> 6\u001b[0m result \u001b[39m=\u001b[39m create_sample_data(\n\u001b[1;32m      7\u001b[0m     factory_string\u001b[39m=\u001b[39;49mfactory_string,\n\u001b[1;32m      8\u001b[0m     object_list\u001b[39m=\u001b[39;49m[sim_obj],\n\u001b[1;32m      9\u001b[0m     target_obj_name\u001b[39m=\u001b[39;49mname,\n\u001b[1;32m     10\u001b[0m )\n\u001b[1;32m     12\u001b[0m np\u001b[39m.\u001b[39msavez(\n\u001b[1;32m     13\u001b[0m     destination_path \u001b[39m/\u001b[39m \u001b[39mf\u001b[39m\u001b[39m\"\u001b[39m\u001b[39mycb_simulation_sample_\u001b[39m\u001b[39m{\u001b[39;00mname\u001b[39m}\u001b[39;00m\u001b[39m.npz\u001b[39m\u001b[39m\"\u001b[39m,\n\u001b[1;32m     14\u001b[0m     \u001b[39m*\u001b[39m\u001b[39m*\u001b[39mresult,\n\u001b[1;32m     15\u001b[0m )\n",
      "File \u001b[0;32m~/Documents/ALRSimulationTools/alr_simulation_tools/scene_utils.py:77\u001b[0m, in \u001b[0;36mcreate_sample_data\u001b[0;34m(factory_string, cam_pos, cam_quat, cam_height, cam_width, robot_pos, robot_quat, object_list, target_obj_name, render_mode)\u001b[0m\n\u001b[1;32m     74\u001b[0m scene\u001b[39m.\u001b[39mstart()\n\u001b[1;32m     76\u001b[0m \u001b[39m# go to start position\u001b[39;00m\n\u001b[0;32m---> 77\u001b[0m agent\u001b[39m.\u001b[39;49mgotoCartPositionAndQuat(robot_pos, robot_quat, duration\u001b[39m=\u001b[39;49m\u001b[39m0.5\u001b[39;49m)\n\u001b[1;32m     79\u001b[0m \u001b[39m# get camera data\u001b[39;00m\n\u001b[1;32m     80\u001b[0m rgb_img, depth_img \u001b[39m=\u001b[39m cam\u001b[39m.\u001b[39mget_image()\n",
      "File \u001b[0;32m~/Documents/SimulationFramework/alr_sim/core/Robots.py:329\u001b[0m, in \u001b[0;36mRobotBase.gotoCartPositionAndQuat\u001b[0;34m(self, desiredPos, desiredQuat, duration, global_coord, block)\u001b[0m\n\u001b[1;32m    324\u001b[0m     desiredQuat \u001b[39m=\u001b[39m \u001b[39mself\u001b[39m\u001b[39m.\u001b[39m_localize_cart_quat(desiredQuat)\n\u001b[1;32m    326\u001b[0m \u001b[39mself\u001b[39m\u001b[39m.\u001b[39mgotoCartPosQuatController\u001b[39m.\u001b[39msetDesiredPos(\n\u001b[1;32m    327\u001b[0m     np\u001b[39m.\u001b[39mhstack((desiredPos, desiredQuat))\n\u001b[1;32m    328\u001b[0m )\n\u001b[0;32m--> 329\u001b[0m \u001b[39mself\u001b[39;49m\u001b[39m.\u001b[39;49mgotoCartPosQuatController\u001b[39m.\u001b[39;49mexecuteController(\u001b[39mself\u001b[39;49m, duration, block\u001b[39m=\u001b[39;49mblock)\n",
      "File \u001b[0;32m~/Documents/SimulationFramework/alr_sim/controllers/Controller.py:78\u001b[0m, in \u001b[0;36mControllerBase.executeController\u001b[0;34m(self, robot, maxDuration, block)\u001b[0m\n\u001b[1;32m     75\u001b[0m robot\u001b[39m.\u001b[39mactiveController \u001b[39m=\u001b[39m \u001b[39mself\u001b[39m\n\u001b[1;32m     77\u001b[0m \u001b[39mif\u001b[39;00m block:\n\u001b[0;32m---> 78\u001b[0m     \u001b[39mself\u001b[39;49m\u001b[39m.\u001b[39;49mrun(robot)\n",
      "File \u001b[0;32m~/Documents/SimulationFramework/alr_sim/controllers/Controller.py:60\u001b[0m, in \u001b[0;36mControllerBase.run\u001b[0;34m(self, robot)\u001b[0m\n\u001b[1;32m     54\u001b[0m \u001b[39m\u001b[39m\u001b[39m\"\"\"Drive the Simulation via the robot.\u001b[39;00m\n\u001b[1;32m     55\u001b[0m \n\u001b[1;32m     56\u001b[0m \u001b[39mArgs:\u001b[39;00m\n\u001b[1;32m     57\u001b[0m \u001b[39m    robot (RobotBase): Robot running the controller\u001b[39;00m\n\u001b[1;32m     58\u001b[0m \u001b[39m\"\"\"\u001b[39;00m\n\u001b[1;32m     59\u001b[0m \u001b[39mwhile\u001b[39;00m \u001b[39mnot\u001b[39;00m \u001b[39mself\u001b[39m\u001b[39m.\u001b[39misFinished(robot):\n\u001b[0;32m---> 60\u001b[0m     robot\u001b[39m.\u001b[39;49mnextStep()\n",
      "File \u001b[0;32m~/Documents/SimulationFramework/alr_sim/core/Robots.py:498\u001b[0m, in \u001b[0;36mRobotBase.nextStep\u001b[0;34m(self)\u001b[0m\n\u001b[1;32m    494\u001b[0m \u001b[39mdef\u001b[39;00m \u001b[39mnextStep\u001b[39m(\u001b[39mself\u001b[39m):\n\u001b[1;32m    495\u001b[0m \u001b[39m    \u001b[39m\u001b[39m\"\"\"legacy method used by the controllers to run the simulation.\u001b[39;00m\n\u001b[1;32m    496\u001b[0m \u001b[39m    The function call is now 'redirected' to the scene to support Multibots.\u001b[39;00m\n\u001b[1;32m    497\u001b[0m \u001b[39m    \"\"\"\u001b[39;00m\n\u001b[0;32m--> 498\u001b[0m     \u001b[39mself\u001b[39;49m\u001b[39m.\u001b[39;49mscene\u001b[39m.\u001b[39;49mnext_step()\n",
      "File \u001b[0;32m~/Documents/SimulationFramework/alr_sim/core/Scene.py:123\u001b[0m, in \u001b[0;36mScene.next_step\u001b[0;34m(self)\u001b[0m\n\u001b[1;32m    121\u001b[0m \u001b[39mdef\u001b[39;00m \u001b[39mnext_step\u001b[39m(\u001b[39mself\u001b[39m):\n\u001b[1;32m    122\u001b[0m     \u001b[39mfor\u001b[39;00m rb \u001b[39min\u001b[39;00m \u001b[39mself\u001b[39m\u001b[39m.\u001b[39mrobots:\n\u001b[0;32m--> 123\u001b[0m         rb\u001b[39m.\u001b[39;49mprepare_step()\n\u001b[1;32m    125\u001b[0m     \u001b[39mself\u001b[39m\u001b[39m.\u001b[39m_sim_step()\n\u001b[1;32m    127\u001b[0m     \u001b[39mself\u001b[39m\u001b[39m.\u001b[39mtime_keeper\u001b[39m.\u001b[39mtick()\n",
      "File \u001b[0;32m~/Documents/SimulationFramework/alr_sim/sims/mj_beta/MjRobot.py:158\u001b[0m, in \u001b[0;36mMjRobot.prepare_step\u001b[0;34m(self)\u001b[0m\n\u001b[1;32m    156\u001b[0m \u001b[39mself\u001b[39m\u001b[39m.\u001b[39mscene\u001b[39m.\u001b[39mdata\u001b[39m.\u001b[39mctrl[\u001b[39mself\u001b[39m\u001b[39m.\u001b[39mjoint_act_indices] \u001b[39m=\u001b[39m \u001b[39mself\u001b[39m\u001b[39m.\u001b[39muff\u001b[39m.\u001b[39mcopy()[: \u001b[39mself\u001b[39m\u001b[39m.\u001b[39mnum_DoF]\n\u001b[1;32m    157\u001b[0m \u001b[39mself\u001b[39m\u001b[39m.\u001b[39mscene\u001b[39m.\u001b[39mdata\u001b[39m.\u001b[39mctrl[\u001b[39mself\u001b[39m\u001b[39m.\u001b[39mgripper_act_indices] \u001b[39m=\u001b[39m \u001b[39mself\u001b[39m\u001b[39m.\u001b[39mfinger_commands\n\u001b[0;32m--> 158\u001b[0m \u001b[39mself\u001b[39;49m\u001b[39m.\u001b[39;49mreceiveState()\n",
      "File \u001b[0;32m~/Documents/SimulationFramework/alr_sim/sims/mj_beta/MjRobot.py:177\u001b[0m, in \u001b[0;36mMjRobot.receiveState\u001b[0;34m(self)\u001b[0m\n\u001b[1;32m    175\u001b[0m \u001b[39m### ENDEFFECTOR GLOBAL\u001b[39;00m\n\u001b[1;32m    176\u001b[0m \u001b[39mself\u001b[39m\u001b[39m.\u001b[39mcurrent_c_pos_global \u001b[39m=\u001b[39m \u001b[39mself\u001b[39m\u001b[39m.\u001b[39mscene\u001b[39m.\u001b[39mdata\u001b[39m.\u001b[39mbody(tcp_name)\u001b[39m.\u001b[39mxpos\u001b[39m.\u001b[39mcopy()\n\u001b[0;32m--> 177\u001b[0m \u001b[39mself\u001b[39m\u001b[39m.\u001b[39mcurrent_c_vel_global \u001b[39m=\u001b[39m get_body_xvelp(\n\u001b[1;32m    178\u001b[0m     \u001b[39mself\u001b[39;49m\u001b[39m.\u001b[39;49mscene\u001b[39m.\u001b[39;49mmodel,\n\u001b[1;32m    179\u001b[0m     \u001b[39mself\u001b[39;49m\u001b[39m.\u001b[39;49mscene\u001b[39m.\u001b[39;49mdata,\n\u001b[1;32m    180\u001b[0m     tcp_name,\n\u001b[1;32m    181\u001b[0m )\n\u001b[1;32m    182\u001b[0m \u001b[39mself\u001b[39m\u001b[39m.\u001b[39mcurrent_c_quat_global \u001b[39m=\u001b[39m \u001b[39mself\u001b[39m\u001b[39m.\u001b[39mscene\u001b[39m.\u001b[39mdata\u001b[39m.\u001b[39mbody(tcp_name)\u001b[39m.\u001b[39mxquat\u001b[39m.\u001b[39mcopy()\n\u001b[1;32m    183\u001b[0m \u001b[39mself\u001b[39m\u001b[39m.\u001b[39mcurrent_c_quat_vel_global \u001b[39m=\u001b[39m np\u001b[39m.\u001b[39mzeros(\u001b[39m4\u001b[39m)\n",
      "File \u001b[0;32m~/Documents/SimulationFramework/alr_sim/sims/mj_beta/mj_utils/mj_helper.py:116\u001b[0m, in \u001b[0;36mget_body_xvelp\u001b[0;34m(model, data, name)\u001b[0m\n\u001b[1;32m    114\u001b[0m \u001b[39mdef\u001b[39;00m \u001b[39mget_body_xvelp\u001b[39m(model, data, name):\n\u001b[1;32m    115\u001b[0m     jacp \u001b[39m=\u001b[39m get_body_jacp(model, data, name)\u001b[39m.\u001b[39mreshape((\u001b[39m3\u001b[39m, model\u001b[39m.\u001b[39mnv))\n\u001b[0;32m--> 116\u001b[0m     xvelp \u001b[39m=\u001b[39m np\u001b[39m.\u001b[39;49mdot(jacp, data\u001b[39m.\u001b[39;49mqvel\u001b[39m.\u001b[39;49mcopy())\n\u001b[1;32m    117\u001b[0m     \u001b[39mreturn\u001b[39;00m xvelp\n",
      "\u001b[0;31mKeyboardInterrupt\u001b[0m: "
     ]
    }
   ],
   "source": [
    "for i in range(len(ycb_loader)):\n",
    "    logging.info(f\"Creating sample data for {ycb_loader.get_obj_name(i)}\")\n",
    "\n",
    "    sim_obj, name = ycb_loader.get_ycb_object(index=i)\n",
    "\n",
    "    result = create_sample_data(\n",
    "        factory_string=factory_string,\n",
    "        object_list=[sim_obj],\n",
    "        target_obj_name=name,\n",
    "    )\n",
    "\n",
    "    np.savez(\n",
    "        destination_path / f\"ycb_simulation_sample_{i:03}_{name}.npz\",\n",
    "        **result,\n",
    "    )"
   ]
  }
 ],
 "metadata": {
  "kernelspec": {
   "display_name": "Python 3.10.9 ('alr')",
   "language": "python",
   "name": "python3"
  },
  "language_info": {
   "codemirror_mode": {
    "name": "ipython",
    "version": 3
   },
   "file_extension": ".py",
   "mimetype": "text/x-python",
   "name": "python",
   "nbconvert_exporter": "python",
   "pygments_lexer": "ipython3",
   "version": "3.10.9"
  },
  "orig_nbformat": 4,
  "vscode": {
   "interpreter": {
    "hash": "ef7e1541b8e7b6b5672ac838d3c045be09c9245709d40ce12336bbbdd1b51144"
   }
  }
 },
 "nbformat": 4,
 "nbformat_minor": 2
}
