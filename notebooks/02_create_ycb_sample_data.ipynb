{
 "cells": [
  {
   "cell_type": "code",
   "execution_count": 1,
   "metadata": {},
   "outputs": [
    {
     "name": "stderr",
     "output_type": "stream",
     "text": [
      "pybullet build time: Oct 28 2022 16:11:27\n"
     ]
    }
   ],
   "source": [
    "%load_ext autoreload\n",
    "%autoreload 2\n",
    "\n",
    "from pathlib import Path\n",
    "import logging\n",
    "\n",
    "import yaml\n",
    "import numpy as np\n",
    "from scipy.spatial.transform import Rotation as R\n",
    "\n",
    "from alr_sim.core.Scene import Scene\n",
    "\n",
    "from alr_simulation_tools.ycb_utils import YCBLoader\n",
    "from alr_simulation_tools.scene_utils import create_sample_data\n",
    "\n",
    "logging.basicConfig(level=logging.INFO)"
   ]
  },
  {
   "cell_type": "code",
   "execution_count": 2,
   "metadata": {},
   "outputs": [],
   "source": [
    "config = {\n",
    "    \"factory_string\": \"mj_beta\",\n",
    "    \"object_pos\": (0.5, 0.0, 0.2),\n",
    "    \"adhust_object_position\": False,\n",
    "    \"cam_pos\": (0.5, 0.0, 1.0),\n",
    "    \"cam_quat\": R.from_euler(\"xyz\", (0.0, 0.0, -90), degrees=True).as_quat()[\n",
    "            [3, 0, 1, 2]\n",
    "        ].tolist(),\n",
    "    \"cam_height\": 480,\n",
    "    \"cam_width\": 640,\n",
    "    \"robot_pos\": (0.0, 0.5, 0.2),\n",
    "    \"robot_quat\": (0,1,0,0),\n",
    "    \"render_mode\": Scene.RenderMode.BLIND,\n",
    "    \"wait_time\": 0.5,\n",
    "    \"move_duration\": 2,\n",
    "}"
   ]
  },
  {
   "cell_type": "code",
   "execution_count": 3,
   "metadata": {},
   "outputs": [],
   "source": [
    "destination_path = Path.home() / \"Documents\" / \"ycb_sim_data_1\"\n",
    "destination_path.mkdir(parents=True, exist_ok=True)"
   ]
  },
  {
   "cell_type": "code",
   "execution_count": 4,
   "metadata": {},
   "outputs": [],
   "source": [
    "with open(destination_path / \"config.yaml\", \"w\") as f:\n",
    "    yaml.dump(config, f, sort_keys=False)"
   ]
  },
  {
   "cell_type": "code",
   "execution_count": 5,
   "metadata": {},
   "outputs": [],
   "source": [
    "ycb_loader = YCBLoader(\n",
    "    ycb_base_folder=Path.home() / \"Documents\" / \"ycb\",\n",
    "    factory_string=config[\"factory_string\"],\n",
    ")"
   ]
  },
  {
   "cell_type": "code",
   "execution_count": 6,
   "metadata": {},
   "outputs": [
    {
     "name": "stderr",
     "output_type": "stream",
     "text": [
      "INFO:root:Skipping broken object 001_chips_can\n",
      "INFO:root:Creating sample data for 002_master_chef_can\n",
      "INFO:root:Creating sample data for 003_cracker_box\n",
      "INFO:root:Creating sample data for 004_sugar_box\n",
      "INFO:root:Creating sample data for 005_tomato_soup_can\n",
      "INFO:root:Creating sample data for 006_mustard_bottle\n",
      "INFO:root:Creating sample data for 007_tuna_fish_can\n",
      "INFO:root:Creating sample data for 008_pudding_box\n",
      "INFO:root:Creating sample data for 009_gelatin_box\n",
      "/home/moritz/mambaforge/envs/alr/lib/python3.10/site-packages/glfw/__init__.py:912: GLFWError: (65537) b'The GLFW library is not initialized'\n",
      "  warnings.warn(message, GLFWError)\n"
     ]
    },
    {
     "ename": "KeyboardInterrupt",
     "evalue": "",
     "output_type": "error",
     "traceback": [
      "\u001b[0;31m---------------------------------------------------------------------------\u001b[0m",
      "\u001b[0;31mKeyboardInterrupt\u001b[0m                         Traceback (most recent call last)",
      "Cell \u001b[0;32mIn[6], line 12\u001b[0m\n\u001b[1;32m      6\u001b[0m logging\u001b[39m.\u001b[39minfo(\u001b[39mf\u001b[39m\u001b[39m\"\u001b[39m\u001b[39mCreating sample data for \u001b[39m\u001b[39m{\u001b[39;00mycb_loader\u001b[39m.\u001b[39mget_obj_name(i)\u001b[39m}\u001b[39;00m\u001b[39m\"\u001b[39m)\n\u001b[1;32m      8\u001b[0m sim_obj, name \u001b[39m=\u001b[39m ycb_loader\u001b[39m.\u001b[39mget_ycb_object(\n\u001b[1;32m      9\u001b[0m     index\u001b[39m=\u001b[39mi, adjust_object_position\u001b[39m=\u001b[39mconfig[\u001b[39m\"\u001b[39m\u001b[39madhust_object_position\u001b[39m\u001b[39m\"\u001b[39m], pos\u001b[39m=\u001b[39mconfig[\u001b[39m\"\u001b[39m\u001b[39mobject_pos\u001b[39m\u001b[39m\"\u001b[39m]\n\u001b[1;32m     10\u001b[0m )\n\u001b[0;32m---> 12\u001b[0m result \u001b[39m=\u001b[39m create_sample_data(\n\u001b[1;32m     13\u001b[0m     factory_string\u001b[39m=\u001b[39;49mconfig[\u001b[39m\"\u001b[39;49m\u001b[39mfactory_string\u001b[39;49m\u001b[39m\"\u001b[39;49m],\n\u001b[1;32m     14\u001b[0m     cam_pos\u001b[39m=\u001b[39;49mconfig[\u001b[39m\"\u001b[39;49m\u001b[39mcam_pos\u001b[39;49m\u001b[39m\"\u001b[39;49m],\n\u001b[1;32m     15\u001b[0m     cam_quat\u001b[39m=\u001b[39;49mconfig[\u001b[39m\"\u001b[39;49m\u001b[39mcam_quat\u001b[39;49m\u001b[39m\"\u001b[39;49m],\n\u001b[1;32m     16\u001b[0m     cam_height\u001b[39m=\u001b[39;49mconfig[\u001b[39m\"\u001b[39;49m\u001b[39mcam_height\u001b[39;49m\u001b[39m\"\u001b[39;49m],\n\u001b[1;32m     17\u001b[0m     cam_width\u001b[39m=\u001b[39;49mconfig[\u001b[39m\"\u001b[39;49m\u001b[39mcam_width\u001b[39;49m\u001b[39m\"\u001b[39;49m],\n\u001b[1;32m     18\u001b[0m     robot_pos\u001b[39m=\u001b[39;49mconfig[\u001b[39m\"\u001b[39;49m\u001b[39mrobot_pos\u001b[39;49m\u001b[39m\"\u001b[39;49m],\n\u001b[1;32m     19\u001b[0m     robot_quat\u001b[39m=\u001b[39;49mconfig[\u001b[39m\"\u001b[39;49m\u001b[39mrobot_quat\u001b[39;49m\u001b[39m\"\u001b[39;49m],\n\u001b[1;32m     20\u001b[0m     object_list\u001b[39m=\u001b[39;49m[sim_obj],\n\u001b[1;32m     21\u001b[0m     target_obj_name\u001b[39m=\u001b[39;49mname,\n\u001b[1;32m     22\u001b[0m     render_mode\u001b[39m=\u001b[39;49mconfig[\u001b[39m\"\u001b[39;49m\u001b[39mrender_mode\u001b[39;49m\u001b[39m\"\u001b[39;49m],\n\u001b[1;32m     23\u001b[0m     wait_time\u001b[39m=\u001b[39;49mconfig[\u001b[39m\"\u001b[39;49m\u001b[39mwait_time\u001b[39;49m\u001b[39m\"\u001b[39;49m],\n\u001b[1;32m     24\u001b[0m     move_duration\u001b[39m=\u001b[39;49mconfig[\u001b[39m\"\u001b[39;49m\u001b[39mmove_duration\u001b[39;49m\u001b[39m\"\u001b[39;49m],\n\u001b[1;32m     25\u001b[0m )\n\u001b[1;32m     27\u001b[0m np\u001b[39m.\u001b[39msavez(\n\u001b[1;32m     28\u001b[0m     destination_path \u001b[39m/\u001b[39m \u001b[39mf\u001b[39m\u001b[39m\"\u001b[39m\u001b[39mycb_simulation_sample_\u001b[39m\u001b[39m{\u001b[39;00mi\u001b[39m:\u001b[39;00m\u001b[39m03\u001b[39m\u001b[39m}\u001b[39;00m\u001b[39m_\u001b[39m\u001b[39m{\u001b[39;00mname\u001b[39m}\u001b[39;00m\u001b[39m.npz\u001b[39m\u001b[39m\"\u001b[39m,\n\u001b[1;32m     29\u001b[0m     \u001b[39m*\u001b[39m\u001b[39m*\u001b[39mresult,\n\u001b[1;32m     30\u001b[0m )\n",
      "File \u001b[0;32m~/Documents/ALRSimulationTools/alr_simulation_tools/scene_utils.py:82\u001b[0m, in \u001b[0;36mcreate_sample_data\u001b[0;34m(factory_string, cam_pos, cam_quat, cam_height, cam_width, robot_pos, robot_quat, object_list, target_obj_name, render_mode, wait_time, move_duration)\u001b[0m\n\u001b[1;32m     79\u001b[0m scene\u001b[39m.\u001b[39mstart()\n\u001b[1;32m     81\u001b[0m \u001b[39m# go to start position\u001b[39;00m\n\u001b[0;32m---> 82\u001b[0m agent\u001b[39m.\u001b[39;49mgotoCartPositionAndQuat(robot_pos, robot_quat, duration\u001b[39m=\u001b[39;49mmove_duration)\n\u001b[1;32m     83\u001b[0m agent\u001b[39m.\u001b[39mwait(wait_time)\n\u001b[1;32m     85\u001b[0m \u001b[39m# get camera data\u001b[39;00m\n",
      "File \u001b[0;32m~/Documents/SimulationFramework/alr_sim/core/Robots.py:329\u001b[0m, in \u001b[0;36mRobotBase.gotoCartPositionAndQuat\u001b[0;34m(self, desiredPos, desiredQuat, duration, global_coord, block)\u001b[0m\n\u001b[1;32m    324\u001b[0m     desiredQuat \u001b[39m=\u001b[39m \u001b[39mself\u001b[39m\u001b[39m.\u001b[39m_localize_cart_quat(desiredQuat)\n\u001b[1;32m    326\u001b[0m \u001b[39mself\u001b[39m\u001b[39m.\u001b[39mgotoCartPosQuatController\u001b[39m.\u001b[39msetDesiredPos(\n\u001b[1;32m    327\u001b[0m     np\u001b[39m.\u001b[39mhstack((desiredPos, desiredQuat))\n\u001b[1;32m    328\u001b[0m )\n\u001b[0;32m--> 329\u001b[0m \u001b[39mself\u001b[39;49m\u001b[39m.\u001b[39;49mgotoCartPosQuatController\u001b[39m.\u001b[39;49mexecuteController(\u001b[39mself\u001b[39;49m, duration, block\u001b[39m=\u001b[39;49mblock)\n",
      "File \u001b[0;32m~/Documents/SimulationFramework/alr_sim/controllers/Controller.py:78\u001b[0m, in \u001b[0;36mControllerBase.executeController\u001b[0;34m(self, robot, maxDuration, block)\u001b[0m\n\u001b[1;32m     75\u001b[0m robot\u001b[39m.\u001b[39mactiveController \u001b[39m=\u001b[39m \u001b[39mself\u001b[39m\n\u001b[1;32m     77\u001b[0m \u001b[39mif\u001b[39;00m block:\n\u001b[0;32m---> 78\u001b[0m     \u001b[39mself\u001b[39;49m\u001b[39m.\u001b[39;49mrun(robot)\n",
      "File \u001b[0;32m~/Documents/SimulationFramework/alr_sim/controllers/Controller.py:60\u001b[0m, in \u001b[0;36mControllerBase.run\u001b[0;34m(self, robot)\u001b[0m\n\u001b[1;32m     54\u001b[0m \u001b[39m\u001b[39m\u001b[39m\"\"\"Drive the Simulation via the robot.\u001b[39;00m\n\u001b[1;32m     55\u001b[0m \n\u001b[1;32m     56\u001b[0m \u001b[39mArgs:\u001b[39;00m\n\u001b[1;32m     57\u001b[0m \u001b[39m    robot (RobotBase): Robot running the controller\u001b[39;00m\n\u001b[1;32m     58\u001b[0m \u001b[39m\"\"\"\u001b[39;00m\n\u001b[1;32m     59\u001b[0m \u001b[39mwhile\u001b[39;00m \u001b[39mnot\u001b[39;00m \u001b[39mself\u001b[39m\u001b[39m.\u001b[39misFinished(robot):\n\u001b[0;32m---> 60\u001b[0m     robot\u001b[39m.\u001b[39;49mnextStep()\n",
      "File \u001b[0;32m~/Documents/SimulationFramework/alr_sim/core/Robots.py:498\u001b[0m, in \u001b[0;36mRobotBase.nextStep\u001b[0;34m(self)\u001b[0m\n\u001b[1;32m    494\u001b[0m \u001b[39mdef\u001b[39;00m \u001b[39mnextStep\u001b[39m(\u001b[39mself\u001b[39m):\n\u001b[1;32m    495\u001b[0m \u001b[39m    \u001b[39m\u001b[39m\"\"\"legacy method used by the controllers to run the simulation.\u001b[39;00m\n\u001b[1;32m    496\u001b[0m \u001b[39m    The function call is now 'redirected' to the scene to support Multibots.\u001b[39;00m\n\u001b[1;32m    497\u001b[0m \u001b[39m    \"\"\"\u001b[39;00m\n\u001b[0;32m--> 498\u001b[0m     \u001b[39mself\u001b[39;49m\u001b[39m.\u001b[39;49mscene\u001b[39m.\u001b[39;49mnext_step()\n",
      "File \u001b[0;32m~/Documents/SimulationFramework/alr_sim/core/Scene.py:125\u001b[0m, in \u001b[0;36mScene.next_step\u001b[0;34m(self)\u001b[0m\n\u001b[1;32m    122\u001b[0m \u001b[39mfor\u001b[39;00m rb \u001b[39min\u001b[39;00m \u001b[39mself\u001b[39m\u001b[39m.\u001b[39mrobots:\n\u001b[1;32m    123\u001b[0m     rb\u001b[39m.\u001b[39mprepare_step()\n\u001b[0;32m--> 125\u001b[0m \u001b[39mself\u001b[39;49m\u001b[39m.\u001b[39;49m_sim_step()\n\u001b[1;32m    127\u001b[0m \u001b[39mself\u001b[39m\u001b[39m.\u001b[39mtime_keeper\u001b[39m.\u001b[39mtick()\n\u001b[1;32m    129\u001b[0m \u001b[39mfor\u001b[39;00m rb \u001b[39min\u001b[39;00m \u001b[39mself\u001b[39m\u001b[39m.\u001b[39mrobots:\n",
      "File \u001b[0;32m~/Documents/SimulationFramework/alr_sim/sims/mj_beta/MjScene.py:111\u001b[0m, in \u001b[0;36mMjScene._sim_step\u001b[0;34m(self)\u001b[0m\n\u001b[1;32m    110\u001b[0m \u001b[39mdef\u001b[39;00m \u001b[39m_sim_step\u001b[39m(\u001b[39mself\u001b[39m):\n\u001b[0;32m--> 111\u001b[0m     mujoco\u001b[39m.\u001b[39;49mmj_step(\u001b[39mself\u001b[39;49m\u001b[39m.\u001b[39;49mmodel, \u001b[39mself\u001b[39;49m\u001b[39m.\u001b[39;49mdata)\n",
      "\u001b[0;31mKeyboardInterrupt\u001b[0m: "
     ]
    }
   ],
   "source": [
    "for i in range(len(ycb_loader)):\n",
    "    if ycb_loader.is_broken(i):\n",
    "        logging.info(f\"Skipping broken object {ycb_loader.get_obj_name(i)}\")\n",
    "        continue\n",
    "\n",
    "    logging.info(f\"Creating sample data for {ycb_loader.get_obj_name(i)}\")\n",
    "\n",
    "    sim_obj, name = ycb_loader.get_ycb_object(\n",
    "        index=i, adjust_object_position=config[\"adhust_object_position\"], pos=config[\"object_pos\"]\n",
    "    )\n",
    "\n",
    "    result = create_sample_data(\n",
    "        factory_string=config[\"factory_string\"],\n",
    "        cam_pos=config[\"cam_pos\"],\n",
    "        cam_quat=config[\"cam_quat\"],\n",
    "        cam_height=config[\"cam_height\"],\n",
    "        cam_width=config[\"cam_width\"],\n",
    "        robot_pos=config[\"robot_pos\"],\n",
    "        robot_quat=config[\"robot_quat\"],\n",
    "        object_list=[sim_obj],\n",
    "        target_obj_name=name,\n",
    "        render_mode=config[\"render_mode\"],\n",
    "        wait_time=config[\"wait_time\"],\n",
    "        move_duration=config[\"move_duration\"],\n",
    "    )\n",
    "\n",
    "    np.savez(\n",
    "        destination_path / f\"ycb_simulation_sample_{i:03}_{name}.npz\",\n",
    "        **result,\n",
    "    )\n"
   ]
  }
 ],
 "metadata": {
  "kernelspec": {
   "display_name": "Python 3.10.9 ('alr')",
   "language": "python",
   "name": "python3"
  },
  "language_info": {
   "codemirror_mode": {
    "name": "ipython",
    "version": 3
   },
   "file_extension": ".py",
   "mimetype": "text/x-python",
   "name": "python",
   "nbconvert_exporter": "python",
   "pygments_lexer": "ipython3",
   "version": "3.10.9"
  },
  "orig_nbformat": 4,
  "vscode": {
   "interpreter": {
    "hash": "ef7e1541b8e7b6b5672ac838d3c045be09c9245709d40ce12336bbbdd1b51144"
   }
  }
 },
 "nbformat": 4,
 "nbformat_minor": 2
}
