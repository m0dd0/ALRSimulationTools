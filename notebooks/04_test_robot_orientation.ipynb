{
 "cells": [
  {
   "cell_type": "code",
   "execution_count": 1,
   "metadata": {},
   "outputs": [
    {
     "name": "stderr",
     "output_type": "stream",
     "text": [
      "pybullet build time: Oct 28 2022 16:11:27\n"
     ]
    }
   ],
   "source": [
    "from matplotlib import pyplot as plt\n",
    "from scipy.spatial.transform import Rotation as R\n",
    "\n",
    "from alr_sim.sims.SimFactory import SimRepository\n",
    "from alr_sim.sims.universal_sim.PrimitiveObjects import Box\n",
    "from alr_sim.core import Scene\n",
    "from alr_sim.sims.mj_beta import MjCamera"
   ]
  },
  {
   "cell_type": "code",
   "execution_count": 2,
   "metadata": {},
   "outputs": [],
   "source": [
    "robot_quat = R.from_euler(\"xyz\", [180, 0, 0], degrees=True).as_quat()[[3, 0, 1, 2]]\n",
    "robot_pos = [0.5, 0, 0.5]"
   ]
  },
  {
   "cell_type": "code",
   "execution_count": 3,
   "metadata": {},
   "outputs": [],
   "source": [
    "box1 = Box(\n",
    "    name=\"box1\",\n",
    "    init_pos=[0.5, -0.2, 0.0],\n",
    "    init_quat=[0, 1, 0, 0],\n",
    "    rgba=[0.1, 0.25, 0.3, 1],\n",
    ")\n",
    "object_list = [box1]\n",
    "\n",
    "# Generate the chosen Scene and Agent\n",
    "sim_factory = SimRepository.get_factory(\"mj_beta\")\n",
    "scene = sim_factory.create_scene(\n",
    "    object_list=object_list, dt=0.0002, render=Scene.RenderMode.HUMAN\n",
    ")\n",
    "agent = sim_factory.create_robot(scene, dt=0.0002)\n",
    "\n",
    "cam = MjCamera(\n",
    "    \"my_cam\",\n",
    "    init_pos=(1.2, 0, 1),\n",
    "    init_quat=R.from_euler(\"zyx\", (90, 50, 0), degrees=True)\n",
    "    .as_quat()[[3, 0, 1, 2]]\n",
    "    .tolist(),\n",
    ")\n",
    "scene.add_object(cam)\n",
    "# cam.set_cam_params(height=cam_height, width=cam_width)\n",
    "\n",
    "# start simulation\n",
    "scene.start()\n",
    "\n",
    "# go to start position\n",
    "agent.gotoCartPositionAndQuat(robot_pos, robot_quat, duration=2)\n",
    "agent.wait(10)"
   ]
  }
 ],
 "metadata": {
  "kernelspec": {
   "display_name": "alr",
   "language": "python",
   "name": "python3"
  },
  "language_info": {
   "codemirror_mode": {
    "name": "ipython",
    "version": 3
   },
   "file_extension": ".py",
   "mimetype": "text/x-python",
   "name": "python",
   "nbconvert_exporter": "python",
   "pygments_lexer": "ipython3",
   "version": "3.10.9"
  },
  "orig_nbformat": 4,
  "vscode": {
   "interpreter": {
    "hash": "ef7e1541b8e7b6b5672ac838d3c045be09c9245709d40ce12336bbbdd1b51144"
   }
  }
 },
 "nbformat": 4,
 "nbformat_minor": 2
}
