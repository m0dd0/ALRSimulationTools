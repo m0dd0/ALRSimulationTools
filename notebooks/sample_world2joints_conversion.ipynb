{
 "cells": [
  {
   "cell_type": "markdown",
   "metadata": {},
   "source": [
    "This notebook simply goes to a number of positions in workd space and reads out the joint configugarion of the robot at the position.\n",
    "These data is used in `scene_utils` to workaround the limitation of a missing exposed inverse kinematics solver as well as the missing `beam_to_cart_pos` method.\n",
    "The data is collected in a grid pattern in the workspace of the robot."
   ]
  },
  {
   "cell_type": "code",
   "execution_count": 15,
   "metadata": {},
   "outputs": [],
   "source": [
    "from pprint import pprint\n",
    "\n",
    "import numpy as np\n",
    "import glfw\n",
    "\n",
    "from alr_sim.sims.SimFactory import SimRepository\n",
    "from alr_sim.core import Scene\n",
    "\n",
    "from alr_sim_tools.scene_utils import reset_scene"
   ]
  },
  {
   "cell_type": "code",
   "execution_count": 16,
   "metadata": {},
   "outputs": [],
   "source": [
    "FACTORY_SRTING = \"mj_beta\"\n",
    "DT=0.0002\n",
    "RENDER_MODE = Scene.RenderMode.HUMAN\n",
    "CAMERA_POSITION = (0.5, 0.0, 1.0)\n",
    "CAMERA_QUAT = (-0.70710678, 0, 0, 0.70710678)\n",
    "\n",
    "MOVEMENT_DURATION = 2\n",
    "WAIT_DURATIONS_BETWEEN_MOVEMENTS = 0.5\n",
    "TARGET_QUAT = (0, 1, 0, 0)\n",
    "\n",
    "MIN_X = 0.0\n",
    "MAX_X = 0.0\n",
    "DELTA_X = 0.1\n",
    "MIN_Y = 0.5\n",
    "MAX_Y = 0.5\n",
    "DELTA_Y = 0.1\n",
    "MIN_Z = 0.1\n",
    "MAX_Z = 0.6\n",
    "DELTA_Z = 0.05\n",
    "\n",
    "JOINT_VALUE_DECIMALS = 5"
   ]
  },
  {
   "cell_type": "code",
   "execution_count": 17,
   "metadata": {},
   "outputs": [
    {
     "data": {
      "text/plain": [
       "array([[0.  , 0.5 , 0.1 ],\n",
       "       [0.  , 0.5 , 0.15],\n",
       "       [0.  , 0.5 , 0.2 ],\n",
       "       [0.  , 0.5 , 0.25],\n",
       "       [0.  , 0.5 , 0.3 ],\n",
       "       [0.  , 0.5 , 0.35],\n",
       "       [0.  , 0.5 , 0.4 ],\n",
       "       [0.  , 0.5 , 0.45],\n",
       "       [0.  , 0.5 , 0.5 ],\n",
       "       [0.  , 0.5 , 0.55],\n",
       "       [0.  , 0.5 , 0.6 ]])"
      ]
     },
     "execution_count": 17,
     "metadata": {},
     "output_type": "execute_result"
    }
   ],
   "source": [
    "positions = np.meshgrid(\n",
    "    np.arange(MIN_X, MAX_X + DELTA_X, DELTA_X),\n",
    "    np.arange(MIN_Y, MAX_Y + DELTA_Y, DELTA_Y),\n",
    "    np.arange(MIN_Z, MAX_Z + DELTA_Z, DELTA_Z),\n",
    ")\n",
    "positions = np.array(positions).T.reshape(-1, 3)\n",
    "\n",
    "positions\n"
   ]
  },
  {
   "cell_type": "code",
   "execution_count": 18,
   "metadata": {},
   "outputs": [
    {
     "name": "stdout",
     "output_type": "stream",
     "text": [
      "WARNING: mju_openResource: could not open resource '/home/moritz/Documents/SimulationFramework/models/mj/robot/panda_tmp_rb2_d1e0fe4c-c4f2-11ee-ba73-c8ff282b54dd.xml' with default provider at slot 1\n",
      "\n"
     ]
    }
   ],
   "source": [
    "sim_factory = SimRepository.get_factory(FACTORY_SRTING)\n",
    "scene = sim_factory.create_scene(object_list=[], dt=DT, render=RENDER_MODE)\n",
    "agent = sim_factory.create_robot(scene, dt=DT)\n",
    "\n",
    "scene.start()\n",
    "scene.start_logging()"
   ]
  },
  {
   "cell_type": "code",
   "execution_count": 19,
   "metadata": {},
   "outputs": [
    {
     "name": "stdout",
     "output_type": "stream",
     "text": [
      "Going to (0.0, 0.5, 0.1)\n",
      "Going to (0.0, 0.5, 0.15000000000000002)\n",
      "Going to (0.0, 0.5, 0.20000000000000004)\n",
      "Going to (0.0, 0.5, 0.25000000000000006)\n",
      "Going to (0.0, 0.5, 0.30000000000000004)\n",
      "Going to (0.0, 0.5, 0.3500000000000001)\n",
      "Going to (0.0, 0.5, 0.40000000000000013)\n",
      "Going to (0.0, 0.5, 0.45000000000000007)\n",
      "Going to (0.0, 0.5, 0.5000000000000001)\n",
      "Going to (0.0, 0.5, 0.5500000000000002)\n",
      "Going to (0.0, 0.5, 0.6000000000000002)\n"
     ]
    }
   ],
   "source": [
    "world_2_joint_coords = {}\n",
    "\n",
    "for pos in positions:\n",
    "    pos = tuple(pos.tolist())\n",
    "    print(f\"Going to {pos}\") \n",
    "    agent.gotoCartPositionAndQuat(pos, TARGET_QUAT, MOVEMENT_DURATION)\n",
    "    agent.wait(WAIT_DURATIONS_BETWEEN_MOVEMENTS)\n",
    "    world_2_joint_coords[pos] = tuple(agent.current_j_pos) \n"
   ]
  },
  {
   "cell_type": "code",
   "execution_count": 20,
   "metadata": {},
   "outputs": [],
   "source": [
    "scene.stop_logging()\n",
    "reset_scene(FACTORY_SRTING, scene, agent)\n",
    "glfw.terminate()"
   ]
  },
  {
   "cell_type": "code",
   "execution_count": 21,
   "metadata": {},
   "outputs": [
    {
     "name": "stdout",
     "output_type": "stream",
     "text": [
      "{((0.0, 0.5, 0.1), (0, 1, 0, 0)): (1.08803, 0.30093, 0.4463, -2.38944, -0.2721, 2.64706, 2.55064),\n",
      " ((0.0, 0.5, 0.15000000000000002), (0, 1, 0, 0)): (0.97897, 0.18506, 0.57862, -2.39467, -0.18042, 2.54396, 2.48678),\n",
      " ((0.0, 0.5, 0.20000000000000004), (0, 1, 0, 0)): (0.87854, 0.06244, 0.69158, -2.37661, -0.06162, 2.42568, 2.4012),\n",
      " ((0.0, 0.5, 0.25000000000000006), (0, 1, 0, 0)): (0.80679, -0.05558, 0.76152, -2.33542, 0.05036, 2.29661, 2.31926),\n",
      " ((0.0, 0.5, 0.30000000000000004), (0, 1, 0, 0)): (0.75482, -0.15696, 0.79618, -2.27291, 0.13406, 2.16064, 2.2552),\n",
      " ((0.0, 0.5, 0.3500000000000001), (0, 1, 0, 0)): (0.70971, -0.23439, 0.81244, -2.19119, 0.18799, 2.02354, 2.21079),\n",
      " ((0.0, 0.5, 0.40000000000000013), (0, 1, 0, 0)): (0.66535, -0.28557, 0.82181, -2.09133, 0.21849, 1.88887, 2.18294),\n",
      " ((0.0, 0.5, 0.45000000000000007), (0, 1, 0, 0)): (0.62226, -0.30905, 0.82974, -1.97321, 0.2301, 1.75794, 2.17018),\n",
      " ((0.0, 0.5, 0.5000000000000001), (0, 1, 0, 0)): (0.5863, -0.30165, 0.83854, -1.83541, 0.22301, 1.63062, 2.17435),\n",
      " ((0.0, 0.5, 0.5500000000000002), (0, 1, 0, 0)): (0.57222, -0.25624, 0.84689, -1.6742, 0.1914, 1.50526, 2.20154),\n",
      " ((0.0, 0.5, 0.6000000000000002), (0, 1, 0, 0)): (0.6178, -0.16087, 0.84007, -1.48072, 0.12192, 1.37567, 2.26157)}\n"
     ]
    }
   ],
   "source": [
    "world_2_joint_coords_ = {}\n",
    "\n",
    "for pos, j_coords in world_2_joint_coords.items():\n",
    "    world_2_joint_coords_[(tuple(pos), tuple(TARGET_QUAT))] = tuple(\n",
    "        round(j, JOINT_VALUE_DECIMALS) for j in j_coords\n",
    "    )\n",
    "\n",
    "pprint(world_2_joint_coords_, width=160)"
   ]
  }
 ],
 "metadata": {
  "kernelspec": {
   "display_name": "alr_tools",
   "language": "python",
   "name": "python3"
  },
  "language_info": {
   "codemirror_mode": {
    "name": "ipython",
    "version": 3
   },
   "file_extension": ".py",
   "mimetype": "text/x-python",
   "name": "python",
   "nbconvert_exporter": "python",
   "pygments_lexer": "ipython3",
   "version": "3.9.18"
  }
 },
 "nbformat": 4,
 "nbformat_minor": 2
}
