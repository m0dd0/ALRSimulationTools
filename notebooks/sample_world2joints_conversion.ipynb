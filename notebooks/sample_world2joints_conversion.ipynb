{
 "cells": [
  {
   "cell_type": "markdown",
   "metadata": {},
   "source": [
    "This notebook simply goes to a number of positions in workd space and reads out the joint configugarion of the robot at the position.\n",
    "These data is used in `scene_utils` to workaround the limitation of a missing exposed inverse kinematics solver as well as the missing `beam_to_cart_pos` method.\n",
    "The data is collected in a grid pattern in the workspace of the robot. Currently only (0,1,0,0) is a supported orientation for the beam workaround."
   ]
  },
  {
   "cell_type": "code",
   "execution_count": 1,
   "metadata": {},
   "outputs": [
    {
     "name": "stderr",
     "output_type": "stream",
     "text": [
      "pybullet build time: May  2 2023 05:55:04\n"
     ]
    }
   ],
   "source": [
    "from pathlib import Path\n",
    "import json\n",
    "\n",
    "import glfw\n",
    "import tqdm\n",
    "\n",
    "from alr_sim.sims.SimFactory import SimRepository\n",
    "from alr_sim.core import Scene\n",
    "\n",
    "from alr_sim_tools.scene_utils import reset_scene"
   ]
  },
  {
   "cell_type": "code",
   "execution_count": 2,
   "metadata": {},
   "outputs": [],
   "source": [
    "FACTORY_SRTING = \"mj_beta\"\n",
    "DT=0.0002\n",
    "RENDER_MODE = Scene.RenderMode.HUMAN\n",
    "CAMERA_POSITION = (0.5, 0.0, 1.0)\n",
    "CAMERA_QUAT = (-0.70710678, 0, 0, 0.70710678)\n",
    "\n",
    "MOVEMENT_DURATION = 2\n",
    "WAIT_DURATIONS_BETWEEN_MOVEMENTS = 0.5\n",
    "TARGET_QUAT = (0, 1, 0, 0)\n",
    "\n",
    "# XS = [i*0.05 for i in range(4, 14)] # 0.2 to 0.6\n",
    "# YS = [i*0.05 for i in range(-10, 12)] # -0.5 to 0.5\n",
    "# ZS = [i*0.05 for i in range(2, 10)] # 0.1 to 0.5\n",
    "XS = [i*0.05 for i in range(8,9)] # 0.1 to 0.6\n",
    "YS = [i*0.05 for i in range(0, 1)] # -0.5 to 0.5\n",
    "ZS = [i*0.05 for i in range(0, 1)] # 0.1 to 0.6\n",
    "\n",
    "\n",
    "JOINT_VALUE_DECIMALS = 5\n",
    "DATA_FILE = Path.cwd().parent / \"alr_sim_tools\" / \"world2joint_coords.json\""
   ]
  },
  {
   "cell_type": "code",
   "execution_count": 3,
   "metadata": {},
   "outputs": [
    {
     "data": {
      "text/plain": [
       "[(0.4, 0.0, 0.0)]"
      ]
     },
     "execution_count": 3,
     "metadata": {},
     "output_type": "execute_result"
    }
   ],
   "source": [
    "positions = []\n",
    "\n",
    "for x in XS:\n",
    "    for y in YS:\n",
    "        for z in ZS:\n",
    "            positions.append((x, y, z))\n",
    "\n",
    "positions\n"
   ]
  },
  {
   "cell_type": "code",
   "execution_count": 4,
   "metadata": {},
   "outputs": [
    {
     "name": "stdout",
     "output_type": "stream",
     "text": [
      "WARNING: mju_openResource: could not open resource '/home/moritz/Documents/SimulationFramework/models/mj/robot/panda_tmp_rb0_f255bb74-cc20-11ee-b391-c8ff282b54dd.xml' with default provider at slot 1\n",
      "\n"
     ]
    }
   ],
   "source": [
    "sim_factory = SimRepository.get_factory(FACTORY_SRTING)\n",
    "scene = sim_factory.create_scene(object_list=[], dt=DT, render=RENDER_MODE)\n",
    "agent = sim_factory.create_robot(scene, dt=DT)\n",
    "\n",
    "scene.start()\n",
    "scene.start_logging()"
   ]
  },
  {
   "cell_type": "code",
   "execution_count": 5,
   "metadata": {},
   "outputs": [
    {
     "name": "stderr",
     "output_type": "stream",
     "text": [
      "100%|██████████| 1/1 [00:13<00:00, 13.54s/it]\n"
     ]
    }
   ],
   "source": [
    "world_2_joint_coords = {}\n",
    "\n",
    "for pos in tqdm.tqdm(positions):\n",
    "    agent.gotoCartPositionAndQuat(pos, TARGET_QUAT, MOVEMENT_DURATION)\n",
    "    agent.wait(WAIT_DURATIONS_BETWEEN_MOVEMENTS)\n",
    "    world_2_joint_coords[pos] = tuple(agent.current_j_pos) \n"
   ]
  },
  {
   "cell_type": "code",
   "execution_count": 6,
   "metadata": {},
   "outputs": [],
   "source": [
    "scene.stop_logging()\n",
    "reset_scene(FACTORY_SRTING, scene, agent)\n",
    "glfw.terminate()"
   ]
  },
  {
   "cell_type": "code",
   "execution_count": 7,
   "metadata": {},
   "outputs": [
    {
     "data": {
      "text/plain": [
       "{((0.4, 0.0, 0.0), (0, 1, 0, 0)): (-0.00021,\n",
       "  0.41263,\n",
       "  -4e-05,\n",
       "  -2.65506,\n",
       "  -1e-05,\n",
       "  3.06489,\n",
       "  0.78521)}"
      ]
     },
     "execution_count": 7,
     "metadata": {},
     "output_type": "execute_result"
    }
   ],
   "source": [
    "\n",
    "world_2_joint_coords_rounded = {\n",
    "    (tuple(round(c, 2) for c in pos), tuple(TARGET_QUAT)): tuple(\n",
    "        round(j, JOINT_VALUE_DECIMALS) for j in j_coords\n",
    "    )\n",
    "    for (pos, j_coords) in world_2_joint_coords.items()\n",
    "}\n",
    "\n",
    "world_2_joint_coords_rounded"
   ]
  },
  {
   "cell_type": "code",
   "execution_count": 8,
   "metadata": {},
   "outputs": [
    {
     "data": {
      "text/plain": [
       "[(((0.4, 0.0, 0.0), (0, 1, 0, 0)),\n",
       "  (-0.00021, 0.41263, -4e-05, -2.65506, -1e-05, 3.06489, 0.78521))]"
      ]
     },
     "execution_count": 8,
     "metadata": {},
     "output_type": "execute_result"
    }
   ],
   "source": [
    "# convert to list of tuples of tuples\n",
    "\n",
    "world_2_joint_coords_list = [(k, v) for k, v in world_2_joint_coords_rounded.items()]\n",
    "\n",
    "world_2_joint_coords_list"
   ]
  },
  {
   "cell_type": "code",
   "execution_count": 9,
   "metadata": {},
   "outputs": [],
   "source": [
    "json.dump(world_2_joint_coords_list, open(DATA_FILE, \"w\"))"
   ]
  }
 ],
 "metadata": {
  "kernelspec": {
   "display_name": "alr_tools",
   "language": "python",
   "name": "python3"
  },
  "language_info": {
   "codemirror_mode": {
    "name": "ipython",
    "version": 3
   },
   "file_extension": ".py",
   "mimetype": "text/x-python",
   "name": "python",
   "nbconvert_exporter": "python",
   "pygments_lexer": "ipython3",
   "version": "3.9.18"
  }
 },
 "nbformat": 4,
 "nbformat_minor": 2
}
