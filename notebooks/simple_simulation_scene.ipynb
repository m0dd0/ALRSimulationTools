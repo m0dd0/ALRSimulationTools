{
 "cells": [
  {
   "cell_type": "markdown",
   "metadata": {},
   "source": [
    "This notebook executes a basic robotic movement scene.\n",
    "Meant to test the functionality of the simulation framework.\n",
    "For now `Mujoco (beta)` is used as other simulators result in some errors.\n",
    "The procedure which the robot executes is defined by a list of positions and orientations."
   ]
  },
  {
   "cell_type": "code",
   "execution_count": 17,
   "metadata": {},
   "outputs": [],
   "source": [
    "from alr_sim.sims.SimFactory import SimRepository\n",
    "from alr_sim.sims.universal_sim.PrimitiveObjects import Box\n",
    "from alr_sim.core import Scene\n",
    "from alr_sim.sims.mj_beta import MjCamera\n",
    "\n",
    "from alr_sim_tools.scene_utils import reset_scene\n",
    "\n",
    "import glfw"
   ]
  },
  {
   "cell_type": "code",
   "execution_count": 18,
   "metadata": {},
   "outputs": [],
   "source": [
    "FACTORY_SRTING = \"mj_beta\"\n",
    "RENDER_MODE = Scene.RenderMode.HUMAN\n",
    "CAMERA_POSITION = (0.5, 0.0, 1.0)\n",
    "CAMERA_QUAT = (-0.70710678, 0, 0, 0.70710678)\n",
    "MOVEMENT_DURATIONS = [2]\n",
    "WAIT_DURATIONS_BETWEEN_MOVEMENTS = [0.5]\n",
    "MOVEMENT_TARGET_POSITIONS = [(0.0, 0.5, 0.2)]\n",
    "MOVEMENT_TARGET_QUATS = [(0, 1, 0, 0)]"
   ]
  },
  {
   "cell_type": "code",
   "execution_count": 19,
   "metadata": {},
   "outputs": [],
   "source": [
    "box = Box(\n",
    "    name=\"box1\",\n",
    "    init_pos=[0.5, -0.2, 0.0],\n",
    "    init_quat=[0, 1, 0, 0],\n",
    "    rgba=[0.1, 0.25, 0.3, 1],\n",
    ")"
   ]
  },
  {
   "cell_type": "code",
   "execution_count": 20,
   "metadata": {},
   "outputs": [],
   "source": [
    "sim_factory = SimRepository.get_factory(FACTORY_SRTING)\n",
    "scene = sim_factory.create_scene(object_list=[box], dt=0.0002, render=RENDER_MODE)\n",
    "agent = sim_factory.create_robot(scene, dt=0.0002)"
   ]
  },
  {
   "cell_type": "code",
   "execution_count": 21,
   "metadata": {},
   "outputs": [],
   "source": [
    "# cam = MujocoCamera(\"my_cam\", init_pos=CAMERA_POSITION, init_quat=CAMERA_QUAT)\n",
    "cam = MjCamera(\"my_cam\", init_pos=CAMERA_POSITION, init_quat=CAMERA_QUAT)\n",
    "cam.set_cam_params(height=480, width=640)\n",
    "scene.add_object(cam)"
   ]
  },
  {
   "cell_type": "code",
   "execution_count": 22,
   "metadata": {},
   "outputs": [
    {
     "name": "stdout",
     "output_type": "stream",
     "text": [
      "WARNING: mju_openResource: could not open resource '/home/moritz/Documents/SimulationFramework/models/mj/robot/panda_tmp_rb2_a701c37c-c4da-11ee-9907-c8ff282b54dd.xml' with default provider at slot 1\n",
      "\n"
     ]
    }
   ],
   "source": [
    "scene.start()\n",
    "scene.start_logging()"
   ]
  },
  {
   "cell_type": "code",
   "execution_count": 23,
   "metadata": {},
   "outputs": [
    {
     "name": "stdout",
     "output_type": "stream",
     "text": [
      "[ 0.86356326  0.05710604  0.70669484 -2.37374594 -0.05613247  2.4140661\n",
      "  2.39223149]\n"
     ]
    }
   ],
   "source": [
    "for target_pos, target_quat, movement_duration, wait_duration in zip(\n",
    "    MOVEMENT_TARGET_POSITIONS,\n",
    "    MOVEMENT_TARGET_QUATS,\n",
    "    MOVEMENT_DURATIONS,\n",
    "    WAIT_DURATIONS_BETWEEN_MOVEMENTS,\n",
    "):\n",
    "    agent.beam_to_joint_pos([0.85267931,0.04887515,0.73727606,-2.39005306,-0.05232943,2.41453241,2.38501806])\n",
    "    agent.gotoCartPositionAndQuat(target_pos, target_quat, duration=movement_duration)\n",
    "    print(agent.current_j_pos)\n",
    "    agent.wait(wait_duration)"
   ]
  },
  {
   "cell_type": "code",
   "execution_count": 24,
   "metadata": {},
   "outputs": [],
   "source": [
    "scene.stop_logging()\n",
    "reset_scene(FACTORY_SRTING, scene, agent)\n",
    "glfw.terminate()"
   ]
  }
 ],
 "metadata": {
  "kernelspec": {
   "display_name": "alr",
   "language": "python",
   "name": "python3"
  },
  "language_info": {
   "codemirror_mode": {
    "name": "ipython",
    "version": 3
   },
   "file_extension": ".py",
   "mimetype": "text/x-python",
   "name": "python",
   "nbconvert_exporter": "python",
   "pygments_lexer": "ipython3",
   "version": "3.9.18"
  }
 },
 "nbformat": 4,
 "nbformat_minor": 2
}
