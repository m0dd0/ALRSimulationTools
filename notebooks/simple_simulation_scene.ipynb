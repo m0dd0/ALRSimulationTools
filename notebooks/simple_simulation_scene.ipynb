{
 "cells": [
  {
   "cell_type": "markdown",
   "metadata": {},
   "source": [
    "This notebook executes a basic robotic movement scene.\n",
    "Meant to test the functionality of the simulation framework.\n",
    "For now `Mujoco (beta)` is used as other simulators result in some errors.\n",
    "The procedure which the robot executes is defined by a list of positions and orientations."
   ]
  },
  {
   "cell_type": "code",
   "execution_count": 1,
   "metadata": {},
   "outputs": [
    {
     "name": "stderr",
     "output_type": "stream",
     "text": [
      "pybullet build time: May  2 2023 05:55:04\n"
     ]
    }
   ],
   "source": [
    "from alr_sim.sims.SimFactory import SimRepository\n",
    "from alr_sim.sims.universal_sim.PrimitiveObjects import Box\n",
    "from alr_sim.core import Scene\n",
    "from alr_sim.sims.mj_beta import MjCamera\n",
    "\n",
    "from alr_sim_tools.scene_utils import reset_scene\n",
    "\n",
    "import glfw"
   ]
  },
  {
   "cell_type": "code",
   "execution_count": 2,
   "metadata": {},
   "outputs": [],
   "source": [
    "FACTORY_SRTING = \"mj_beta\"\n",
    "RENDER_MODE = Scene.RenderMode.HUMAN\n",
    "CAMERA_POSITION = (0.5, 0.0, 1.0)\n",
    "CAMERA_QUAT = (-0.70710678, 0, 0, 0.70710678)\n",
    "MOVEMENT_DURATIONS = [2]\n",
    "WAIT_DURATIONS_BETWEEN_MOVEMENTS = [0.5]\n",
    "MOVEMENT_TARGET_POSITIONS = [(0.0, 0.5, 0.2)]\n",
    "MOVEMENT_TARGET_QUATS = [(0, 1, 0, 0)]"
   ]
  },
  {
   "cell_type": "code",
   "execution_count": 3,
   "metadata": {},
   "outputs": [],
   "source": [
    "box = Box(\n",
    "    name=\"box1\",\n",
    "    init_pos=[0.5, -0.2, 0.0],\n",
    "    init_quat=[0, 1, 0, 0],\n",
    "    rgba=[0.1, 0.25, 0.3, 1],\n",
    ")"
   ]
  },
  {
   "cell_type": "code",
   "execution_count": 4,
   "metadata": {},
   "outputs": [],
   "source": [
    "sim_factory = SimRepository.get_factory(FACTORY_SRTING)\n",
    "scene = sim_factory.create_scene(object_list=[box], dt=0.0002, render=RENDER_MODE)\n",
    "agent = sim_factory.create_robot(scene, dt=0.0002)"
   ]
  },
  {
   "cell_type": "code",
   "execution_count": 5,
   "metadata": {},
   "outputs": [],
   "source": [
    "# cam = MujocoCamera(\"my_cam\", init_pos=CAMERA_POSITION, init_quat=CAMERA_QUAT)\n",
    "cam = MjCamera(\"my_cam\", init_pos=CAMERA_POSITION, init_quat=CAMERA_QUAT)\n",
    "cam.set_cam_params(height=480, width=640)\n",
    "scene.add_object(cam)"
   ]
  },
  {
   "cell_type": "code",
   "execution_count": 6,
   "metadata": {},
   "outputs": [
    {
     "name": "stdout",
     "output_type": "stream",
     "text": [
      "WARNING: mju_openResource: could not open resource '/home/moritz_hesche/Documents/SimulationFramework/models/mj/robot/panda_tmp_rb0_ebc49c22-fbcc-11ee-b026-d45d647c35aa.xml' with default provider at slot 1\n",
      "\n"
     ]
    }
   ],
   "source": [
    "scene.start()\n",
    "scene.start_logging()"
   ]
  },
  {
   "cell_type": "code",
   "execution_count": 7,
   "metadata": {},
   "outputs": [],
   "source": [
    "for target_pos, target_quat, movement_duration, wait_duration in zip(\n",
    "    MOVEMENT_TARGET_POSITIONS,\n",
    "    MOVEMENT_TARGET_QUATS,\n",
    "    MOVEMENT_DURATIONS,\n",
    "    WAIT_DURATIONS_BETWEEN_MOVEMENTS,\n",
    "):\n",
    "    agent.gotoCartPositionAndQuat(target_pos, target_quat, duration=movement_duration)\n",
    "    agent.wait(wait_duration)"
   ]
  },
  {
   "cell_type": "code",
   "execution_count": 8,
   "metadata": {},
   "outputs": [],
   "source": [
    "scene.stop_logging()\n",
    "reset_scene(FACTORY_SRTING, scene, agent)\n",
    "glfw.terminate()"
   ]
  }
 ],
 "metadata": {
  "kernelspec": {
   "display_name": "alr",
   "language": "python",
   "name": "python3"
  },
  "language_info": {
   "codemirror_mode": {
    "name": "ipython",
    "version": 3
   },
   "file_extension": ".py",
   "mimetype": "text/x-python",
   "name": "python",
   "nbconvert_exporter": "python",
   "pygments_lexer": "ipython3",
   "version": "3.9.19"
  }
 },
 "nbformat": 4,
 "nbformat_minor": 2
}
