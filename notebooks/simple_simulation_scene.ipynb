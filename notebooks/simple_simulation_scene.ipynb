{
 "cells": [
  {
   "cell_type": "markdown",
   "metadata": {},
   "source": [
    "This notebook executes a basic robotic movement scene.\n",
    "Meant to test the functionality of the simulation framework.\n",
    "For now `Mujoco` is used as other simulators result in some errors."
   ]
  },
  {
   "cell_type": "code",
   "execution_count": 2,
   "metadata": {},
   "outputs": [
    {
     "ename": "ModuleNotFoundError",
     "evalue": "No module named 'alr_simulation_tools'",
     "output_type": "error",
     "traceback": [
      "\u001b[0;31m---------------------------------------------------------------------------\u001b[0m",
      "\u001b[0;31mModuleNotFoundError\u001b[0m                       Traceback (most recent call last)",
      "\u001b[1;32m/home/ALRSimulationTools/notebooks/simple_simulation_scene.ipynb Cell 2\u001b[0m line \u001b[0;36m6\n\u001b[1;32m      <a href='vscode-notebook-cell://dev-container%2B7b22686f737450617468223a222f686f6d652f6d6f7269747a2f446f63756d656e74732f414c5253696d756c6174696f6e546f6f6c73222c226c6f63616c446f636b6572223a66616c73652c22636f6e66696746696c65223a7b22246d6964223a312c22667350617468223a222f686f6d652f6d6f7269747a2f446f63756d656e74732f414c5253696d756c6174696f6e546f6f6c732f2e646576636f6e7461696e65722f646576636f6e7461696e65722e6a736f6e222c2265787465726e616c223a2266696c653a2f2f2f686f6d652f6d6f7269747a2f446f63756d656e74732f414c5253696d756c6174696f6e546f6f6c732f2e646576636f6e7461696e65722f646576636f6e7461696e65722e6a736f6e222c2270617468223a222f686f6d652f6d6f7269747a2f446f63756d656e74732f414c5253696d756c6174696f6e546f6f6c732f2e646576636f6e7461696e65722f646576636f6e7461696e65722e6a736f6e222c22736368656d65223a2266696c65227d7d/home/ALRSimulationTools/notebooks/simple_simulation_scene.ipynb#W1sdnNjb2RlLXJlbW90ZQ%3D%3D?line=2'>3</a>\u001b[0m \u001b[39mfrom\u001b[39;00m \u001b[39malr_sim\u001b[39;00m\u001b[39m.\u001b[39;00m\u001b[39mcore\u001b[39;00m \u001b[39mimport\u001b[39;00m Scene\n\u001b[1;32m      <a href='vscode-notebook-cell://dev-container%2B7b22686f737450617468223a222f686f6d652f6d6f7269747a2f446f63756d656e74732f414c5253696d756c6174696f6e546f6f6c73222c226c6f63616c446f636b6572223a66616c73652c22636f6e66696746696c65223a7b22246d6964223a312c22667350617468223a222f686f6d652f6d6f7269747a2f446f63756d656e74732f414c5253696d756c6174696f6e546f6f6c732f2e646576636f6e7461696e65722f646576636f6e7461696e65722e6a736f6e222c2265787465726e616c223a2266696c653a2f2f2f686f6d652f6d6f7269747a2f446f63756d656e74732f414c5253696d756c6174696f6e546f6f6c732f2e646576636f6e7461696e65722f646576636f6e7461696e65722e6a736f6e222c2270617468223a222f686f6d652f6d6f7269747a2f446f63756d656e74732f414c5253696d756c6174696f6e546f6f6c732f2e646576636f6e7461696e65722f646576636f6e7461696e65722e6a736f6e222c22736368656d65223a2266696c65227d7d/home/ALRSimulationTools/notebooks/simple_simulation_scene.ipynb#W1sdnNjb2RlLXJlbW90ZQ%3D%3D?line=3'>4</a>\u001b[0m \u001b[39mfrom\u001b[39;00m \u001b[39malr_sim\u001b[39;00m\u001b[39m.\u001b[39;00m\u001b[39msims\u001b[39;00m\u001b[39m.\u001b[39;00m\u001b[39mmj_beta\u001b[39;00m \u001b[39mimport\u001b[39;00m MjCamera\n\u001b[0;32m----> <a href='vscode-notebook-cell://dev-container%2B7b22686f737450617468223a222f686f6d652f6d6f7269747a2f446f63756d656e74732f414c5253696d756c6174696f6e546f6f6c73222c226c6f63616c446f636b6572223a66616c73652c22636f6e66696746696c65223a7b22246d6964223a312c22667350617468223a222f686f6d652f6d6f7269747a2f446f63756d656e74732f414c5253696d756c6174696f6e546f6f6c732f2e646576636f6e7461696e65722f646576636f6e7461696e65722e6a736f6e222c2265787465726e616c223a2266696c653a2f2f2f686f6d652f6d6f7269747a2f446f63756d656e74732f414c5253696d756c6174696f6e546f6f6c732f2e646576636f6e7461696e65722f646576636f6e7461696e65722e6a736f6e222c2270617468223a222f686f6d652f6d6f7269747a2f446f63756d656e74732f414c5253696d756c6174696f6e546f6f6c732f2e646576636f6e7461696e65722f646576636f6e7461696e65722e6a736f6e222c22736368656d65223a2266696c65227d7d/home/ALRSimulationTools/notebooks/simple_simulation_scene.ipynb#W1sdnNjb2RlLXJlbW90ZQ%3D%3D?line=5'>6</a>\u001b[0m \u001b[39mfrom\u001b[39;00m \u001b[39malr_simulation_tools\u001b[39;00m\u001b[39m.\u001b[39;00m\u001b[39mscene_utils\u001b[39;00m \u001b[39mimport\u001b[39;00m reset_scene\n\u001b[1;32m      <a href='vscode-notebook-cell://dev-container%2B7b22686f737450617468223a222f686f6d652f6d6f7269747a2f446f63756d656e74732f414c5253696d756c6174696f6e546f6f6c73222c226c6f63616c446f636b6572223a66616c73652c22636f6e66696746696c65223a7b22246d6964223a312c22667350617468223a222f686f6d652f6d6f7269747a2f446f63756d656e74732f414c5253696d756c6174696f6e546f6f6c732f2e646576636f6e7461696e65722f646576636f6e7461696e65722e6a736f6e222c2265787465726e616c223a2266696c653a2f2f2f686f6d652f6d6f7269747a2f446f63756d656e74732f414c5253696d756c6174696f6e546f6f6c732f2e646576636f6e7461696e65722f646576636f6e7461696e65722e6a736f6e222c2270617468223a222f686f6d652f6d6f7269747a2f446f63756d656e74732f414c5253696d756c6174696f6e546f6f6c732f2e646576636f6e7461696e65722f646576636f6e7461696e65722e6a736f6e222c22736368656d65223a2266696c65227d7d/home/ALRSimulationTools/notebooks/simple_simulation_scene.ipynb#W1sdnNjb2RlLXJlbW90ZQ%3D%3D?line=7'>8</a>\u001b[0m \u001b[39mimport\u001b[39;00m \u001b[39mglfw\u001b[39;00m\n",
      "\u001b[0;31mModuleNotFoundError\u001b[0m: No module named 'alr_simulation_tools'"
     ]
    }
   ],
   "source": [
    "from alr_sim.sims.SimFactory import SimRepository\n",
    "from alr_sim.sims.universal_sim.PrimitiveObjects import Box\n",
    "from alr_sim.core import Scene\n",
    "from alr_sim.sims.mj_beta import MjCamera\n",
    "\n",
    "from alr_sim_tools.scene_utils import reset_scene\n",
    "\n",
    "import glfw"
   ]
  },
  {
   "cell_type": "code",
   "execution_count": null,
   "metadata": {},
   "outputs": [],
   "source": [
    "FACTORY_SRTING = \"mj_beta\"\n",
    "RENDER_MODE = Scene.RenderMode.HUMAN\n",
    "CAMERA_POSITION = (0.5, 0.0, 1.0)\n",
    "CAMERA_QUAT = (-0.70710678, 0, 0, 0.70710678)\n",
    "MOVEMENT_DURATIONS = [2]\n",
    "WAIT_DURATIONS_BETWEEN_MOVEMENTS = [0.5]\n",
    "MOVEMENT_TARGET_POSITIONS = [(0.0, 0.5, -0.01)]\n",
    "MOVEMENT_TARGET_QUATS = [(0, 1, 0, 0)]"
   ]
  },
  {
   "cell_type": "code",
   "execution_count": null,
   "metadata": {},
   "outputs": [],
   "source": [
    "box = Box(\n",
    "    name=\"box1\",\n",
    "    init_pos=[0.5, -0.2, 0.0],\n",
    "    init_quat=[0, 1, 0, 0],\n",
    "    rgba=[0.1, 0.25, 0.3, 1],\n",
    ")"
   ]
  },
  {
   "cell_type": "code",
   "execution_count": null,
   "metadata": {},
   "outputs": [],
   "source": [
    "sim_factory = SimRepository.get_factory(FACTORY_SRTING)\n",
    "scene = sim_factory.create_scene(object_list=[box], dt=0.0002, render=RENDER_MODE)\n",
    "agent = sim_factory.create_robot(scene, dt=0.0002)"
   ]
  },
  {
   "cell_type": "code",
   "execution_count": null,
   "metadata": {},
   "outputs": [],
   "source": [
    "# cam = MujocoCamera(\"my_cam\", init_pos=CAMERA_POSITION, init_quat=CAMERA_QUAT)\n",
    "cam = MjCamera(\"my_cam\", init_pos=CAMERA_POSITION, init_quat=CAMERA_QUAT)\n",
    "cam.set_cam_params(height=480, width=640)\n",
    "scene.add_object(cam)"
   ]
  },
  {
   "cell_type": "code",
   "execution_count": null,
   "metadata": {},
   "outputs": [],
   "source": [
    "scene.start()\n",
    "scene.start_logging()"
   ]
  },
  {
   "cell_type": "code",
   "execution_count": null,
   "metadata": {},
   "outputs": [],
   "source": [
    "for target_pos, target_quat, movement_duration, wait_duration in zip(\n",
    "    MOVEMENT_TARGET_POSITIONS,\n",
    "    MOVEMENT_TARGET_QUATS,\n",
    "    MOVEMENT_DURATIONS,\n",
    "    WAIT_DURATIONS_BETWEEN_MOVEMENTS,\n",
    "):\n",
    "    agent.gotoCartPositionAndQuat(target_pos, target_quat, duration=movement_duration)\n",
    "    agent.wait(wait_duration)"
   ]
  },
  {
   "cell_type": "code",
   "execution_count": null,
   "metadata": {},
   "outputs": [],
   "source": [
    "scene.stop_logging()\n",
    "reset_scene(FACTORY_SRTING, scene, agent)\n",
    "glfw.terminate()"
   ]
  }
 ],
 "metadata": {
  "kernelspec": {
   "display_name": "alr",
   "language": "python",
   "name": "python3"
  },
  "language_info": {
   "codemirror_mode": {
    "name": "ipython",
    "version": 3
   },
   "file_extension": ".py",
   "mimetype": "text/x-python",
   "name": "python",
   "nbconvert_exporter": "python",
   "pygments_lexer": "ipython3",
   "version": "3.8.10"
  }
 },
 "nbformat": 4,
 "nbformat_minor": 2
}
