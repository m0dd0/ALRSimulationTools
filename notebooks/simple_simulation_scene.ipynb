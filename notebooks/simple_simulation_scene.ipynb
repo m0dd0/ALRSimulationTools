{
 "cells": [
  {
   "cell_type": "markdown",
   "metadata": {},
   "source": [
    "This notebook executes a basic robotic movement scene.\n",
    "Meant to test the functionality of the simulation framework.\n",
    "For now `Mujoco` is used as other simulators result in some errors."
   ]
  },
  {
   "cell_type": "code",
   "execution_count": 1,
   "metadata": {},
   "outputs": [
    {
     "name": "stderr",
     "output_type": "stream",
     "text": [
      "pybullet build time: Nov 28 2023 23:51:11\n"
     ]
    }
   ],
   "source": [
    "from alr_sim.sims.SimFactory import SimRepository\n",
    "from alr_sim.sims.universal_sim.PrimitiveObjects import Box\n",
    "from alr_sim.core import Scene\n",
    "from alr_sim.sims.mj_beta import MjCamera\n",
    "\n",
    "from alr_sim_tools.scene_utils import reset_scene\n",
    "\n",
    "import glfw"
   ]
  },
  {
   "cell_type": "code",
   "execution_count": 2,
   "metadata": {},
   "outputs": [],
   "source": [
    "FACTORY_SRTING = \"mj_beta\"\n",
    "RENDER_MODE = Scene.RenderMode.HUMAN\n",
    "CAMERA_POSITION = (0.5, 0.0, 1.0)\n",
    "CAMERA_QUAT = (-0.70710678, 0, 0, 0.70710678)\n",
    "MOVEMENT_DURATIONS = [2]\n",
    "WAIT_DURATIONS_BETWEEN_MOVEMENTS = [0.5]\n",
    "MOVEMENT_TARGET_POSITIONS = [(0.0, 0.5, -0.01)]\n",
    "MOVEMENT_TARGET_QUATS = [(0, 1, 0, 0)]"
   ]
  },
  {
   "cell_type": "code",
   "execution_count": 3,
   "metadata": {},
   "outputs": [],
   "source": [
    "box = Box(\n",
    "    name=\"box1\",\n",
    "    init_pos=[0.5, -0.2, 0.0],\n",
    "    init_quat=[0, 1, 0, 0],\n",
    "    rgba=[0.1, 0.25, 0.3, 1],\n",
    ")"
   ]
  },
  {
   "cell_type": "code",
   "execution_count": 4,
   "metadata": {},
   "outputs": [
    {
     "ename": "AttributeError",
     "evalue": "module 'pinocchio' has no attribute 'buildModelFromUrdf'",
     "output_type": "error",
     "traceback": [
      "\u001b[0;31m---------------------------------------------------------------------------\u001b[0m",
      "\u001b[0;31mAttributeError\u001b[0m                            Traceback (most recent call last)",
      "\u001b[1;32m/workspaces/ALRSimulationTools/notebooks/simple_simulation_scene.ipynb Cell 5\u001b[0m line \u001b[0;36m3\n\u001b[1;32m      <a href='vscode-notebook-cell://dev-container%2B7b22686f737450617468223a222f686f6d652f6d6f7269747a2f446f63756d656e74732f414c5253696d756c6174696f6e546f6f6c73222c226c6f63616c446f636b6572223a66616c73652c22636f6e66696746696c65223a7b22246d6964223a312c22667350617468223a222f686f6d652f6d6f7269747a2f446f63756d656e74732f414c5253696d756c6174696f6e546f6f6c732f2e646576636f6e7461696e65722f646576636f6e7461696e65722e6a736f6e222c2265787465726e616c223a2266696c653a2f2f2f686f6d652f6d6f7269747a2f446f63756d656e74732f414c5253696d756c6174696f6e546f6f6c732f2e646576636f6e7461696e65722f646576636f6e7461696e65722e6a736f6e222c2270617468223a222f686f6d652f6d6f7269747a2f446f63756d656e74732f414c5253696d756c6174696f6e546f6f6c732f2e646576636f6e7461696e65722f646576636f6e7461696e65722e6a736f6e222c22736368656d65223a2266696c65227d7d/workspaces/ALRSimulationTools/notebooks/simple_simulation_scene.ipynb#W4sdnNjb2RlLXJlbW90ZQ%3D%3D?line=0'>1</a>\u001b[0m sim_factory \u001b[39m=\u001b[39m SimRepository\u001b[39m.\u001b[39mget_factory(FACTORY_SRTING)\n\u001b[1;32m      <a href='vscode-notebook-cell://dev-container%2B7b22686f737450617468223a222f686f6d652f6d6f7269747a2f446f63756d656e74732f414c5253696d756c6174696f6e546f6f6c73222c226c6f63616c446f636b6572223a66616c73652c22636f6e66696746696c65223a7b22246d6964223a312c22667350617468223a222f686f6d652f6d6f7269747a2f446f63756d656e74732f414c5253696d756c6174696f6e546f6f6c732f2e646576636f6e7461696e65722f646576636f6e7461696e65722e6a736f6e222c2265787465726e616c223a2266696c653a2f2f2f686f6d652f6d6f7269747a2f446f63756d656e74732f414c5253696d756c6174696f6e546f6f6c732f2e646576636f6e7461696e65722f646576636f6e7461696e65722e6a736f6e222c2270617468223a222f686f6d652f6d6f7269747a2f446f63756d656e74732f414c5253696d756c6174696f6e546f6f6c732f2e646576636f6e7461696e65722f646576636f6e7461696e65722e6a736f6e222c22736368656d65223a2266696c65227d7d/workspaces/ALRSimulationTools/notebooks/simple_simulation_scene.ipynb#W4sdnNjb2RlLXJlbW90ZQ%3D%3D?line=1'>2</a>\u001b[0m scene \u001b[39m=\u001b[39m sim_factory\u001b[39m.\u001b[39mcreate_scene(object_list\u001b[39m=\u001b[39m[box], dt\u001b[39m=\u001b[39m\u001b[39m0.0002\u001b[39m, render\u001b[39m=\u001b[39mRENDER_MODE)\n\u001b[0;32m----> <a href='vscode-notebook-cell://dev-container%2B7b22686f737450617468223a222f686f6d652f6d6f7269747a2f446f63756d656e74732f414c5253696d756c6174696f6e546f6f6c73222c226c6f63616c446f636b6572223a66616c73652c22636f6e66696746696c65223a7b22246d6964223a312c22667350617468223a222f686f6d652f6d6f7269747a2f446f63756d656e74732f414c5253696d756c6174696f6e546f6f6c732f2e646576636f6e7461696e65722f646576636f6e7461696e65722e6a736f6e222c2265787465726e616c223a2266696c653a2f2f2f686f6d652f6d6f7269747a2f446f63756d656e74732f414c5253696d756c6174696f6e546f6f6c732f2e646576636f6e7461696e65722f646576636f6e7461696e65722e6a736f6e222c2270617468223a222f686f6d652f6d6f7269747a2f446f63756d656e74732f414c5253696d756c6174696f6e546f6f6c732f2e646576636f6e7461696e65722f646576636f6e7461696e65722e6a736f6e222c22736368656d65223a2266696c65227d7d/workspaces/ALRSimulationTools/notebooks/simple_simulation_scene.ipynb#W4sdnNjb2RlLXJlbW90ZQ%3D%3D?line=2'>3</a>\u001b[0m agent \u001b[39m=\u001b[39m sim_factory\u001b[39m.\u001b[39;49mcreate_robot(scene, dt\u001b[39m=\u001b[39;49m\u001b[39m0.0002\u001b[39;49m)\n",
      "File \u001b[0;32m/home/SimulationFramework/alr_sim/sims/mj_beta/MjFactory.py:34\u001b[0m, in \u001b[0;36mMjFactory.create_robot\u001b[0;34m(self, scene, *args, **kwargs)\u001b[0m\n\u001b[1;32m     33\u001b[0m \u001b[39mdef\u001b[39;00m \u001b[39mcreate_robot\u001b[39m(\u001b[39mself\u001b[39m, scene, \u001b[39m*\u001b[39margs, \u001b[39m*\u001b[39m\u001b[39m*\u001b[39mkwargs) \u001b[39m-\u001b[39m\u001b[39m>\u001b[39m RobotBase:\n\u001b[0;32m---> 34\u001b[0m     \u001b[39mreturn\u001b[39;00m MjRobot(scene, \u001b[39m*\u001b[39;49margs, \u001b[39m*\u001b[39;49m\u001b[39m*\u001b[39;49mkwargs)\n",
      "File \u001b[0;32m/home/SimulationFramework/alr_sim/sims/mj_beta/MjRobot.py:38\u001b[0m, in \u001b[0;36mMjRobot.__init__\u001b[0;34m(self, scene, dt, num_DoF, base_position, base_orientation, gravity_comp, clip_actions, root, xml_path)\u001b[0m\n\u001b[1;32m     26\u001b[0m \u001b[39mdef\u001b[39;00m \u001b[39m__init__\u001b[39m(\n\u001b[1;32m     27\u001b[0m     \u001b[39mself\u001b[39m,\n\u001b[1;32m     28\u001b[0m     scene,\n\u001b[0;32m   (...)\u001b[0m\n\u001b[1;32m     36\u001b[0m     xml_path\u001b[39m=\u001b[39m\u001b[39mNone\u001b[39;00m,\n\u001b[1;32m     37\u001b[0m ):\n\u001b[0;32m---> 38\u001b[0m     RobotBase\u001b[39m.\u001b[39;49m\u001b[39m__init__\u001b[39;49m(\u001b[39mself\u001b[39;49m, scene, dt, num_DoF, base_position, base_orientation)\n\u001b[1;32m     40\u001b[0m     \u001b[39mif\u001b[39;00m xml_path \u001b[39mis\u001b[39;00m \u001b[39mNone\u001b[39;00m:\n\u001b[1;32m     41\u001b[0m         xml_path \u001b[39m=\u001b[39m sim_path\u001b[39m.\u001b[39msim_framework_path(\u001b[39m\"\u001b[39m\u001b[39m./models/mj/robot/panda.xml\u001b[39m\u001b[39m\"\u001b[39m)\n",
      "File \u001b[0;32m/home/SimulationFramework/alr_sim/core/Robots.py:46\u001b[0m, in \u001b[0;36mRobotBase.__init__\u001b[0;34m(self, scene, dt, num_DoF, base_position, base_orientation)\u001b[0m\n\u001b[1;32m     43\u001b[0m \u001b[39mself\u001b[39m\u001b[39m.\u001b[39mgravity_comp \u001b[39m=\u001b[39m \u001b[39mTrue\u001b[39;00m\n\u001b[1;32m     44\u001b[0m \u001b[39mself\u001b[39m\u001b[39m.\u001b[39mclip_rate \u001b[39m=\u001b[39m \u001b[39mFalse\u001b[39;00m\n\u001b[0;32m---> 46\u001b[0m \u001b[39mself\u001b[39m\u001b[39m.\u001b[39mkinModel \u001b[39m=\u001b[39m model\u001b[39m.\u001b[39;49mRobotModelFromPinochio()\n\u001b[1;32m     47\u001b[0m \u001b[39mself\u001b[39m\u001b[39m.\u001b[39mdynModel \u001b[39m=\u001b[39m \u001b[39mself\u001b[39m\u001b[39m.\u001b[39mkinModel\n\u001b[1;32m     49\u001b[0m \u001b[39m# This attribute is to fix, if we want to use the last planned spline\u001b[39;00m\n\u001b[1;32m     50\u001b[0m \u001b[39m# point, for re-planning another spline. If set to true, we will\u001b[39;00m\n\u001b[1;32m     51\u001b[0m \u001b[39m# obtain smooth splines.\u001b[39;00m\n",
      "File \u001b[0;32m/home/SimulationFramework/alr_sim/core/Model.py:29\u001b[0m, in \u001b[0;36mRobotModelFromPinochio.__init__\u001b[0;34m(self, obj_urdf)\u001b[0m\n\u001b[1;32m     27\u001b[0m \u001b[39mdef\u001b[39;00m \u001b[39m__init__\u001b[39m(\u001b[39mself\u001b[39m, obj_urdf\u001b[39m=\u001b[39m\u001b[39m\"\u001b[39m\u001b[39m./models/common/robots/panda_arm_hand_pinocchio.urdf\u001b[39m\u001b[39m\"\u001b[39m):\n\u001b[1;32m     28\u001b[0m     obj_urdf \u001b[39m=\u001b[39m sim_framework_path(obj_urdf)\n\u001b[0;32m---> 29\u001b[0m     \u001b[39mself\u001b[39m\u001b[39m.\u001b[39mpin_model \u001b[39m=\u001b[39m pinocchio\u001b[39m.\u001b[39;49mbuildModelFromUrdf(obj_urdf)\n\u001b[1;32m     30\u001b[0m     \u001b[39mself\u001b[39m\u001b[39m.\u001b[39mpin_data \u001b[39m=\u001b[39m \u001b[39mself\u001b[39m\u001b[39m.\u001b[39mpin_model\u001b[39m.\u001b[39mcreateData()\n\u001b[1;32m     32\u001b[0m     \u001b[39mself\u001b[39m\u001b[39m.\u001b[39mpin_end_effector_frame_id \u001b[39m=\u001b[39m \u001b[39mself\u001b[39m\u001b[39m.\u001b[39mpin_model\u001b[39m.\u001b[39mgetFrameId(\u001b[39m\"\u001b[39m\u001b[39mpanda_grasptarget\u001b[39m\u001b[39m\"\u001b[39m)\n",
      "\u001b[0;31mAttributeError\u001b[0m: module 'pinocchio' has no attribute 'buildModelFromUrdf'"
     ]
    }
   ],
   "source": [
    "sim_factory = SimRepository.get_factory(FACTORY_SRTING)\n",
    "scene = sim_factory.create_scene(object_list=[box], dt=0.0002, render=RENDER_MODE)\n",
    "agent = sim_factory.create_robot(scene, dt=0.0002)"
   ]
  },
  {
   "cell_type": "code",
   "execution_count": null,
   "metadata": {},
   "outputs": [],
   "source": [
    "# cam = MujocoCamera(\"my_cam\", init_pos=CAMERA_POSITION, init_quat=CAMERA_QUAT)\n",
    "cam = MjCamera(\"my_cam\", init_pos=CAMERA_POSITION, init_quat=CAMERA_QUAT)\n",
    "cam.set_cam_params(height=480, width=640)\n",
    "scene.add_object(cam)"
   ]
  },
  {
   "cell_type": "code",
   "execution_count": null,
   "metadata": {},
   "outputs": [],
   "source": [
    "scene.start()\n",
    "scene.start_logging()"
   ]
  },
  {
   "cell_type": "code",
   "execution_count": null,
   "metadata": {},
   "outputs": [],
   "source": [
    "for target_pos, target_quat, movement_duration, wait_duration in zip(\n",
    "    MOVEMENT_TARGET_POSITIONS,\n",
    "    MOVEMENT_TARGET_QUATS,\n",
    "    MOVEMENT_DURATIONS,\n",
    "    WAIT_DURATIONS_BETWEEN_MOVEMENTS,\n",
    "):\n",
    "    agent.gotoCartPositionAndQuat(target_pos, target_quat, duration=movement_duration)\n",
    "    agent.wait(wait_duration)"
   ]
  },
  {
   "cell_type": "code",
   "execution_count": null,
   "metadata": {},
   "outputs": [],
   "source": [
    "scene.stop_logging()\n",
    "reset_scene(FACTORY_SRTING, scene, agent)\n",
    "glfw.terminate()"
   ]
  }
 ],
 "metadata": {
  "kernelspec": {
   "display_name": "alr",
   "language": "python",
   "name": "python3"
  },
  "language_info": {
   "codemirror_mode": {
    "name": "ipython",
    "version": 3
   },
   "file_extension": ".py",
   "mimetype": "text/x-python",
   "name": "python",
   "nbconvert_exporter": "python",
   "pygments_lexer": "ipython3",
   "version": "3.8.10"
  }
 },
 "nbformat": 4,
 "nbformat_minor": 2
}
