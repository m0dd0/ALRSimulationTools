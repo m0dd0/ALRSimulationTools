{
 "cells": [
  {
   "cell_type": "markdown",
   "metadata": {},
   "source": [
    "This notebook demonstrates how objects from the YCB-dataset can be loaded into a scene using the `ycb_util` from this package."
   ]
  },
  {
   "cell_type": "code",
   "execution_count": null,
   "metadata": {},
   "outputs": [],
   "source": [
    "from pathlib import Path\n",
    "\n",
    "from alr_sim.sims.SimFactory import SimRepository\n",
    "from alr_sim.core import Scene\n",
    "\n",
    "from alr_sim_tools.ycb_utils import YCBLoader\n",
    "from alr_sim_tools.scene_utils import reset_scene\n",
    "\n",
    "import glfw"
   ]
  },
  {
   "cell_type": "code",
   "execution_count": null,
   "metadata": {},
   "outputs": [],
   "source": [
    "FACTORY_STRING = \"mj_beta\"\n",
    "OBJECT_POS = (0.5, 0.0, 0.2)\n",
    "RENDER_MODE = Scene.RenderMode.HUMAN    \n",
    "\n",
    "YCB_FOLDER = Path.home() / \"Documents\" / \"SF-ObjectDataset\" / \"YCB\"\n",
    "YCB_OBJECT_ID = \"002_master_chef_can\""
   ]
  },
  {
   "cell_type": "code",
   "execution_count": null,
   "metadata": {},
   "outputs": [],
   "source": [
    "ycb_loader = YCBLoader(ycb_base_folder=YCB_FOLDER, factory_string=\"mj_beta\")\n",
    "\n",
    "sim_obj = ycb_loader.get_ycb_object(\n",
    "    pos=OBJECT_POS, quat=(0, 1, 0, 0), obj_id=YCB_OBJECT_ID, name=YCB_OBJECT_ID, grounded=True\n",
    ")"
   ]
  },
  {
   "cell_type": "code",
   "execution_count": null,
   "metadata": {},
   "outputs": [],
   "source": [
    "sim_factory = SimRepository.get_factory(FACTORY_STRING)\n",
    "scene = sim_factory.create_scene(dt=0.0002, render=RENDER_MODE, object_list=[sim_obj])\n",
    "agent = sim_factory.create_robot(scene, dt=0.0002)"
   ]
  },
  {
   "cell_type": "code",
   "execution_count": null,
   "metadata": {},
   "outputs": [],
   "source": [
    "scene.start()\n",
    "scene.start_logging()"
   ]
  },
  {
   "cell_type": "code",
   "execution_count": null,
   "metadata": {},
   "outputs": [],
   "source": [
    "agent.gotoCartPositionAndQuat([0, 0.5, 0.2], [0, 1, 0, 0], duration=3)\n",
    "agent.wait(10)"
   ]
  },
  {
   "cell_type": "code",
   "execution_count": null,
   "metadata": {},
   "outputs": [],
   "source": [
    "scene.stop_logging()\n",
    "reset_scene(FACTORY_STRING, scene, agent)\n",
    "glfw.terminate()"
   ]
  }
 ],
 "metadata": {
  "kernelspec": {
   "display_name": "ggcnn",
   "language": "python",
   "name": "python3"
  },
  "language_info": {
   "codemirror_mode": {
    "name": "ipython",
    "version": 3
   },
   "file_extension": ".py",
   "mimetype": "text/x-python",
   "name": "python",
   "nbconvert_exporter": "python",
   "pygments_lexer": "ipython3",
   "version": "3.9.18"
  },
  "orig_nbformat": 4,
  "vscode": {
   "interpreter": {
    "hash": "648fd5414dd759cf455503f1ca8a8d1f6103f81afa3f898375d059feb8b10734"
   }
  }
 },
 "nbformat": 4,
 "nbformat_minor": 2
}
