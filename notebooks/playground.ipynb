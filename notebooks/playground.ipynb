{
 "cells": [
  {
   "cell_type": "markdown",
   "metadata": {},
   "source": [
    "This notebook can be used to make some random experiments with simulation framework. Its content is not important and might be changed at any time."
   ]
  },
  {
   "cell_type": "code",
   "execution_count": 1,
   "metadata": {},
   "outputs": [
    {
     "name": "stderr",
     "output_type": "stream",
     "text": [
      "pybullet build time: May  2 2023 05:55:04\n"
     ]
    }
   ],
   "source": [
    "from alr_sim.sims.SimFactory import SimRepository\n",
    "from alr_sim.sims.universal_sim.PrimitiveObjects import Box\n",
    "from alr_sim.core import Scene\n",
    "from alr_sim.sims.mj_beta import MjCamera\n",
    "\n",
    "from alr_sim_tools.scene_utils import reset_scene, beam_to_pos_quat\n",
    "\n",
    "import glfw"
   ]
  },
  {
   "cell_type": "code",
   "execution_count": 2,
   "metadata": {},
   "outputs": [],
   "source": [
    "FACTORY_SRTING = \"mj_beta\"\n",
    "RENDER_MODE = Scene.RenderMode.HUMAN"
   ]
  },
  {
   "cell_type": "code",
   "execution_count": 3,
   "metadata": {},
   "outputs": [],
   "source": [
    "box = Box(\n",
    "    name=\"box1\",\n",
    "    init_pos=[0.5, -0.5, 0.1 - 0.02],\n",
    "    init_quat=[0, 1, 0, 0],\n",
    "    rgba=[0.1, 0.25, 0.3, 1],\n",
    "    size=[0.1, 0.1, 0.1],\n",
    ")"
   ]
  },
  {
   "cell_type": "code",
   "execution_count": 4,
   "metadata": {},
   "outputs": [],
   "source": [
    "sim_factory = SimRepository.get_factory(FACTORY_SRTING)\n",
    "scene = sim_factory.create_scene(object_list=[box], dt=0.0002, render=RENDER_MODE)\n",
    "agent = sim_factory.create_robot(scene, dt=0.0002)"
   ]
  },
  {
   "cell_type": "code",
   "execution_count": 5,
   "metadata": {},
   "outputs": [
    {
     "name": "stdout",
     "output_type": "stream",
     "text": [
      "WARNING: mju_openResource: could not open resource '/home/moritz/Documents/SimulationFramework/models/mj/robot/panda_tmp_rb0_1f226d8e-cce7-11ee-91ae-c8ff282b54dd.xml' with default provider at slot 1\n",
      "\n"
     ]
    }
   ],
   "source": [
    "scene.start()\n",
    "scene.start_logging()"
   ]
  },
  {
   "cell_type": "code",
   "execution_count": 6,
   "metadata": {},
   "outputs": [
    {
     "name": "stderr",
     "output_type": "stream",
     "text": [
      "WARNING:root:Joint configuration for position (0.5, 0.35, 0.5) and quaternion (0, 1, 0, 0) not found. Moving to position and saving joint configuration.\n"
     ]
    }
   ],
   "source": [
    "\n",
    "# agent.gotoCartPositionAndQuat((0.5,0.5,0.5), (0,1,0,0), duration=5)\n",
    "beam_to_pos_quat(agent, (0.5,0.35,0.5), (0,1,0,0))"
   ]
  },
  {
   "cell_type": "code",
   "execution_count": 7,
   "metadata": {},
   "outputs": [],
   "source": [
    "scene.stop_logging()\n",
    "reset_scene(FACTORY_SRTING, scene, agent)\n",
    "glfw.terminate()"
   ]
  }
 ],
 "metadata": {
  "kernelspec": {
   "display_name": "alr",
   "language": "python",
   "name": "python3"
  },
  "language_info": {
   "codemirror_mode": {
    "name": "ipython",
    "version": 3
   },
   "file_extension": ".py",
   "mimetype": "text/x-python",
   "name": "python",
   "nbconvert_exporter": "python",
   "pygments_lexer": "ipython3",
   "version": "3.9.18"
  }
 },
 "nbformat": 4,
 "nbformat_minor": 2
}
