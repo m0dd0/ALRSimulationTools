{
 "cells": [
  {
   "cell_type": "markdown",
   "metadata": {},
   "source": [
    "This notebook can be used to make some random experiments with simulation framework. Its content is not important and might be changed at any time."
   ]
  },
  {
   "cell_type": "code",
   "execution_count": 51,
   "metadata": {},
   "outputs": [],
   "source": [
    "from alr_sim.sims.SimFactory import SimRepository\n",
    "from alr_sim.sims.universal_sim.PrimitiveObjects import Box\n",
    "from alr_sim.core import Scene\n",
    "from alr_sim.sims.mj_beta import MjCamera\n",
    "\n",
    "from alr_sim_tools.scene_utils import reset_scene\n",
    "\n",
    "import glfw"
   ]
  },
  {
   "cell_type": "code",
   "execution_count": 52,
   "metadata": {},
   "outputs": [],
   "source": [
    "FACTORY_SRTING = \"mj_beta\"\n",
    "RENDER_MODE = Scene.RenderMode.HUMAN"
   ]
  },
  {
   "cell_type": "code",
   "execution_count": 53,
   "metadata": {},
   "outputs": [],
   "source": [
    "box = Box(\n",
    "    name=\"box1\",\n",
    "    init_pos=[0.5, -0.5, 0.1 - 0.02],\n",
    "    init_quat=[0, 1, 0, 0],\n",
    "    rgba=[0.1, 0.25, 0.3, 1],\n",
    "    size=[0.1, 0.1, 0.1],\n",
    ")"
   ]
  },
  {
   "cell_type": "code",
   "execution_count": 54,
   "metadata": {},
   "outputs": [],
   "source": [
    "sim_factory = SimRepository.get_factory(FACTORY_SRTING)\n",
    "scene = sim_factory.create_scene(object_list=[box], dt=0.0002, render=RENDER_MODE)\n",
    "agent = sim_factory.create_robot(scene, dt=0.0002)"
   ]
  },
  {
   "cell_type": "code",
   "execution_count": 55,
   "metadata": {},
   "outputs": [
    {
     "name": "stdout",
     "output_type": "stream",
     "text": [
      "WARNING: mju_openResource: could not open resource '/home/moritz/Documents/SimulationFramework/models/mj/robot/panda_tmp_rb8_949b0d56-ccaf-11ee-9211-c8ff282b54dd.xml' with default provider at slot 1\n",
      "\n"
     ]
    }
   ],
   "source": [
    "scene.start()\n",
    "scene.start_logging()"
   ]
  },
  {
   "cell_type": "code",
   "execution_count": 56,
   "metadata": {},
   "outputs": [
    {
     "ename": "KeyboardInterrupt",
     "evalue": "",
     "output_type": "error",
     "traceback": [
      "\u001b[0;31m---------------------------------------------------------------------------\u001b[0m",
      "\u001b[0;31mKeyboardInterrupt\u001b[0m                         Traceback (most recent call last)",
      "Cell \u001b[0;32mIn[56], line 1\u001b[0m\n\u001b[0;32m----> 1\u001b[0m \u001b[43magent\u001b[49m\u001b[38;5;241;43m.\u001b[39;49m\u001b[43mgotoCartPositionAndQuat\u001b[49m\u001b[43m(\u001b[49m\u001b[43m(\u001b[49m\u001b[38;5;241;43m0.5\u001b[39;49m\u001b[43m,\u001b[49m\u001b[38;5;241;43m0.5\u001b[39;49m\u001b[43m,\u001b[49m\u001b[38;5;241;43m0.2\u001b[39;49m\u001b[43m)\u001b[49m\u001b[43m,\u001b[49m\u001b[43m \u001b[49m\u001b[43m(\u001b[49m\u001b[38;5;241;43m0\u001b[39;49m\u001b[43m,\u001b[49m\u001b[38;5;241;43m1\u001b[39;49m\u001b[43m,\u001b[49m\u001b[38;5;241;43m0\u001b[39;49m\u001b[43m,\u001b[49m\u001b[38;5;241;43m0\u001b[39;49m\u001b[43m)\u001b[49m\u001b[43m,\u001b[49m\u001b[43m \u001b[49m\u001b[43mduration\u001b[49m\u001b[38;5;241;43m=\u001b[39;49m\u001b[38;5;241;43m5\u001b[39;49m\u001b[43m)\u001b[49m\n\u001b[1;32m      2\u001b[0m agent\u001b[38;5;241m.\u001b[39mwait(\u001b[38;5;241m20\u001b[39m)\n",
      "File \u001b[0;32m~/Documents/SimulationFramework/alr_sim/core/Robots.py:329\u001b[0m, in \u001b[0;36mRobotBase.gotoCartPositionAndQuat\u001b[0;34m(self, desiredPos, desiredQuat, duration, global_coord, block)\u001b[0m\n\u001b[1;32m    324\u001b[0m     desiredQuat \u001b[38;5;241m=\u001b[39m \u001b[38;5;28mself\u001b[39m\u001b[38;5;241m.\u001b[39m_localize_cart_quat(desiredQuat)\n\u001b[1;32m    326\u001b[0m \u001b[38;5;28mself\u001b[39m\u001b[38;5;241m.\u001b[39mgotoCartPosQuatController\u001b[38;5;241m.\u001b[39msetDesiredPos(\n\u001b[1;32m    327\u001b[0m     np\u001b[38;5;241m.\u001b[39mhstack((desiredPos, desiredQuat))\n\u001b[1;32m    328\u001b[0m )\n\u001b[0;32m--> 329\u001b[0m \u001b[38;5;28;43mself\u001b[39;49m\u001b[38;5;241;43m.\u001b[39;49m\u001b[43mgotoCartPosQuatController\u001b[49m\u001b[38;5;241;43m.\u001b[39;49m\u001b[43mexecuteController\u001b[49m\u001b[43m(\u001b[49m\u001b[38;5;28;43mself\u001b[39;49m\u001b[43m,\u001b[49m\u001b[43m \u001b[49m\u001b[43mduration\u001b[49m\u001b[43m,\u001b[49m\u001b[43m \u001b[49m\u001b[43mblock\u001b[49m\u001b[38;5;241;43m=\u001b[39;49m\u001b[43mblock\u001b[49m\u001b[43m)\u001b[49m\n",
      "File \u001b[0;32m~/Documents/SimulationFramework/alr_sim/controllers/Controller.py:78\u001b[0m, in \u001b[0;36mControllerBase.executeController\u001b[0;34m(self, robot, maxDuration, block)\u001b[0m\n\u001b[1;32m     75\u001b[0m robot\u001b[38;5;241m.\u001b[39mactiveController \u001b[38;5;241m=\u001b[39m \u001b[38;5;28mself\u001b[39m\n\u001b[1;32m     77\u001b[0m \u001b[38;5;28;01mif\u001b[39;00m block:\n\u001b[0;32m---> 78\u001b[0m     \u001b[38;5;28;43mself\u001b[39;49m\u001b[38;5;241;43m.\u001b[39;49m\u001b[43mrun\u001b[49m\u001b[43m(\u001b[49m\u001b[43mrobot\u001b[49m\u001b[43m)\u001b[49m\n",
      "File \u001b[0;32m~/Documents/SimulationFramework/alr_sim/controllers/Controller.py:60\u001b[0m, in \u001b[0;36mControllerBase.run\u001b[0;34m(self, robot)\u001b[0m\n\u001b[1;32m     54\u001b[0m \u001b[38;5;250m\u001b[39m\u001b[38;5;124;03m\"\"\"Drive the Simulation via the robot.\u001b[39;00m\n\u001b[1;32m     55\u001b[0m \n\u001b[1;32m     56\u001b[0m \u001b[38;5;124;03mArgs:\u001b[39;00m\n\u001b[1;32m     57\u001b[0m \u001b[38;5;124;03m    robot (RobotBase): Robot running the controller\u001b[39;00m\n\u001b[1;32m     58\u001b[0m \u001b[38;5;124;03m\"\"\"\u001b[39;00m\n\u001b[1;32m     59\u001b[0m \u001b[38;5;28;01mwhile\u001b[39;00m \u001b[38;5;129;01mnot\u001b[39;00m \u001b[38;5;28mself\u001b[39m\u001b[38;5;241m.\u001b[39misFinished(robot):\n\u001b[0;32m---> 60\u001b[0m     \u001b[43mrobot\u001b[49m\u001b[38;5;241;43m.\u001b[39;49m\u001b[43mnextStep\u001b[49m\u001b[43m(\u001b[49m\u001b[43m)\u001b[49m\n",
      "File \u001b[0;32m~/Documents/SimulationFramework/alr_sim/core/Robots.py:498\u001b[0m, in \u001b[0;36mRobotBase.nextStep\u001b[0;34m(self)\u001b[0m\n\u001b[1;32m    494\u001b[0m \u001b[38;5;28;01mdef\u001b[39;00m \u001b[38;5;21mnextStep\u001b[39m(\u001b[38;5;28mself\u001b[39m):\n\u001b[1;32m    495\u001b[0m \u001b[38;5;250m    \u001b[39m\u001b[38;5;124;03m\"\"\"legacy method used by the controllers to run the simulation.\u001b[39;00m\n\u001b[1;32m    496\u001b[0m \u001b[38;5;124;03m    The function call is now 'redirected' to the scene to support Multibots.\u001b[39;00m\n\u001b[1;32m    497\u001b[0m \u001b[38;5;124;03m    \"\"\"\u001b[39;00m\n\u001b[0;32m--> 498\u001b[0m     \u001b[38;5;28;43mself\u001b[39;49m\u001b[38;5;241;43m.\u001b[39;49m\u001b[43mscene\u001b[49m\u001b[38;5;241;43m.\u001b[39;49m\u001b[43mnext_step\u001b[49m\u001b[43m(\u001b[49m\u001b[43m)\u001b[49m\n",
      "File \u001b[0;32m~/Documents/SimulationFramework/alr_sim/core/Scene.py:136\u001b[0m, in \u001b[0;36mScene.next_step\u001b[0;34m(self)\u001b[0m\n\u001b[1;32m    133\u001b[0m \u001b[38;5;28;01mfor\u001b[39;00m call_back, kwargs \u001b[38;5;129;01min\u001b[39;00m \u001b[38;5;28mself\u001b[39m\u001b[38;5;241m.\u001b[39mstep_callbacks:\n\u001b[1;32m    134\u001b[0m     call_back(\u001b[38;5;241m*\u001b[39m\u001b[38;5;241m*\u001b[39mkwargs)\n\u001b[0;32m--> 136\u001b[0m \u001b[38;5;28;43mself\u001b[39;49m\u001b[38;5;241;43m.\u001b[39;49m\u001b[43mlog_data\u001b[49m\u001b[43m(\u001b[49m\u001b[43m)\u001b[49m\n\u001b[1;32m    138\u001b[0m \u001b[38;5;28mself\u001b[39m\u001b[38;5;241m.\u001b[39mrender()\n",
      "File \u001b[0;32m~/Documents/SimulationFramework/alr_sim/core/Scene.py:499\u001b[0m, in \u001b[0;36mScene.log_data\u001b[0;34m(self)\u001b[0m\n\u001b[1;32m    497\u001b[0m \u001b[38;5;250m\u001b[39m\u001b[38;5;124;03m\"\"\"calls the log_data function for all loggers in the scene.\"\"\"\u001b[39;00m\n\u001b[1;32m    498\u001b[0m \u001b[38;5;28;01mfor\u001b[39;00m rb \u001b[38;5;129;01min\u001b[39;00m \u001b[38;5;28mself\u001b[39m\u001b[38;5;241m.\u001b[39mrobots:\n\u001b[0;32m--> 499\u001b[0m     \u001b[43mrb\u001b[49m\u001b[38;5;241;43m.\u001b[39;49m\u001b[43mlog_data\u001b[49m\u001b[43m(\u001b[49m\u001b[43m)\u001b[49m\n\u001b[1;32m    500\u001b[0m \u001b[38;5;28;01mfor\u001b[39;00m logger \u001b[38;5;129;01min\u001b[39;00m \u001b[38;5;28mself\u001b[39m\u001b[38;5;241m.\u001b[39madditional_loggers:\n\u001b[1;32m    501\u001b[0m     logger\u001b[38;5;241m.\u001b[39mlog_data()\n",
      "File \u001b[0;32m~/Documents/SimulationFramework/alr_sim/core/Robots.py:223\u001b[0m, in \u001b[0;36mRobotBase.log_data\u001b[0;34m(self)\u001b[0m\n\u001b[1;32m    222\u001b[0m \u001b[38;5;28;01mdef\u001b[39;00m \u001b[38;5;21mlog_data\u001b[39m(\u001b[38;5;28mself\u001b[39m):\n\u001b[0;32m--> 223\u001b[0m     \u001b[38;5;28;43mself\u001b[39;49m\u001b[38;5;241;43m.\u001b[39;49m\u001b[43mrobot_logger\u001b[49m\u001b[38;5;241;43m.\u001b[39;49m\u001b[43mlog_data\u001b[49m\u001b[43m(\u001b[49m\u001b[43m)\u001b[49m\n",
      "File \u001b[0;32m~/Documents/SimulationFramework/alr_sim/core/logger.py:105\u001b[0m, in \u001b[0;36mLoggerBase.log_data\u001b[0;34m(self)\u001b[0m\n\u001b[1;32m     99\u001b[0m \u001b[38;5;250m\u001b[39m\u001b[38;5;124;03m\"\"\"\u001b[39;00m\n\u001b[1;32m    100\u001b[0m \u001b[38;5;124;03mlog the current state\u001b[39;00m\n\u001b[1;32m    101\u001b[0m \u001b[38;5;124;03mCalls internal abstract method _log()\u001b[39;00m\n\u001b[1;32m    102\u001b[0m \u001b[38;5;124;03m:return: no return value\u001b[39;00m\n\u001b[1;32m    103\u001b[0m \u001b[38;5;124;03m\"\"\"\u001b[39;00m\n\u001b[1;32m    104\u001b[0m \u001b[38;5;28;01mif\u001b[39;00m \u001b[38;5;28mself\u001b[39m\u001b[38;5;241m.\u001b[39mis_logging \u001b[38;5;129;01mand\u001b[39;00m \u001b[38;5;28mself\u001b[39m\u001b[38;5;241m.\u001b[39m_check_log_interval():\n\u001b[0;32m--> 105\u001b[0m     \u001b[38;5;28;43mself\u001b[39;49m\u001b[38;5;241;43m.\u001b[39;49m\u001b[43m_log\u001b[49m\u001b[43m(\u001b[49m\u001b[43m)\u001b[49m\n\u001b[1;32m    106\u001b[0m     \u001b[38;5;28mself\u001b[39m\u001b[38;5;241m.\u001b[39mlogged_time_steps \u001b[38;5;241m+\u001b[39m\u001b[38;5;241m=\u001b[39m \u001b[38;5;241m1\u001b[39m\n\u001b[1;32m    107\u001b[0m     \u001b[38;5;28;01mif\u001b[39;00m (\n\u001b[1;32m    108\u001b[0m         \u001b[38;5;28mself\u001b[39m\u001b[38;5;241m.\u001b[39mmax_time_steps \u001b[38;5;129;01mis\u001b[39;00m \u001b[38;5;129;01mnot\u001b[39;00m \u001b[38;5;28;01mNone\u001b[39;00m\n\u001b[1;32m    109\u001b[0m         \u001b[38;5;129;01mand\u001b[39;00m \u001b[38;5;28mself\u001b[39m\u001b[38;5;241m.\u001b[39mlogged_time_steps \u001b[38;5;241m>\u001b[39m\u001b[38;5;241m=\u001b[39m \u001b[38;5;28mself\u001b[39m\u001b[38;5;241m.\u001b[39mmax_time_steps\n\u001b[1;32m    110\u001b[0m     ) \u001b[38;5;129;01mor\u001b[39;00m \u001b[38;5;28mself\u001b[39m\u001b[38;5;241m.\u001b[39mlogged_time \u001b[38;5;241m>\u001b[39m\u001b[38;5;241m=\u001b[39m \u001b[38;5;28mself\u001b[39m\u001b[38;5;241m.\u001b[39mlog_duration:\n",
      "File \u001b[0;32m~/Documents/SimulationFramework/alr_sim/core/logger.py:317\u001b[0m, in \u001b[0;36mRobotLogger._log\u001b[0;34m(self)\u001b[0m\n\u001b[1;32m    314\u001b[0m log_properties \u001b[38;5;241m=\u001b[39m \u001b[38;5;28mself\u001b[39m\u001b[38;5;241m.\u001b[39mlog_dict\n\u001b[1;32m    316\u001b[0m \u001b[38;5;28;01mfor\u001b[39;00m k, v \u001b[38;5;129;01min\u001b[39;00m log_properties\u001b[38;5;241m.\u001b[39mitems():\n\u001b[0;32m--> 317\u001b[0m     \u001b[38;5;28;43mself\u001b[39;49m\u001b[38;5;241;43m.\u001b[39;49m\u001b[43mlog_dict_full\u001b[49m\u001b[43m[\u001b[49m\u001b[43mk\u001b[49m\u001b[43m]\u001b[49m\u001b[43m[\u001b[49m\u001b[38;5;28;43mself\u001b[39;49m\u001b[38;5;241;43m.\u001b[39;49m\u001b[43mlogged_time_steps\u001b[49m\u001b[43m]\u001b[49m \u001b[38;5;241m=\u001b[39m v\n\u001b[1;32m    319\u001b[0m \u001b[38;5;28mself\u001b[39m\u001b[38;5;241m.\u001b[39mlast_log_time \u001b[38;5;241m=\u001b[39m log_properties[\u001b[38;5;124m\"\u001b[39m\u001b[38;5;124mtime_stamp\u001b[39m\u001b[38;5;124m\"\u001b[39m]\n\u001b[1;32m    321\u001b[0m \u001b[38;5;28mself\u001b[39m\u001b[38;5;241m.\u001b[39mlogged_time \u001b[38;5;241m=\u001b[39m \u001b[38;5;28mself\u001b[39m\u001b[38;5;241m.\u001b[39mlast_log_time \u001b[38;5;241m-\u001b[39m \u001b[38;5;28mself\u001b[39m\u001b[38;5;241m.\u001b[39minitial_time_stamp\n",
      "\u001b[0;31mKeyboardInterrupt\u001b[0m: "
     ]
    }
   ],
   "source": [
    "\n",
    "agent.gotoCartPositionAndQuat((0.5,0.5,0.5), (0,1,0,0), duration=5)\n",
    "agent.wait(20)"
   ]
  },
  {
   "cell_type": "code",
   "execution_count": null,
   "metadata": {},
   "outputs": [],
   "source": [
    "scene.stop_logging()\n",
    "reset_scene(FACTORY_SRTING, scene, agent)\n",
    "glfw.terminate()"
   ]
  }
 ],
 "metadata": {
  "kernelspec": {
   "display_name": "alr",
   "language": "python",
   "name": "python3"
  },
  "language_info": {
   "codemirror_mode": {
    "name": "ipython",
    "version": 3
   },
   "file_extension": ".py",
   "mimetype": "text/x-python",
   "name": "python",
   "nbconvert_exporter": "python",
   "pygments_lexer": "ipython3",
   "version": "3.9.18"
  }
 },
 "nbformat": 4,
 "nbformat_minor": 2
}
