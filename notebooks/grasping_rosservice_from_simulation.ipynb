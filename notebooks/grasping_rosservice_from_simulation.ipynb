{
 "cells": [
  {
   "cell_type": "markdown",
   "metadata": {},
   "source": [
    "This notebook contains a demonstration of the fulle procedure to use a grasping service to execute a grap on a loaded ycb object. \n",
    "The procedure is the following:\n",
    "\n",
    "1.) \n",
    "\n",
    "To successfully execute this notebook, a roscore needs to be running on the same machine as the notebook server and the grasping service needs to be running.\n",
    "The grasping services from the `grasping-benchmark-panda` repo can be easily started using the Docker containers provided in the `grasping-benchmark-panda` repo."
   ]
  },
  {
   "cell_type": "code",
   "execution_count": 1,
   "metadata": {},
   "outputs": [
    {
     "name": "stderr",
     "output_type": "stream",
     "text": [
      "pybullet build time: May  2 2023 05:55:04\n"
     ]
    },
    {
     "name": "stdout",
     "output_type": "stream",
     "text": [
      "Jupyter environment detected. Enabling Open3D WebVisualizer.\n",
      "[Open3D INFO] WebRTC GUI backend enabled.\n",
      "[Open3D INFO] WebRTCWindowSystem: HTTP handshake server disabled.\n"
     ]
    }
   ],
   "source": [
    "from pathlib import Path\n",
    "import logging\n",
    "import importlib\n",
    "import sys\n",
    "\n",
    "from scipy.spatial.transform import Rotation as R\n",
    "import numpy as np\n",
    "\n",
    "from alr_sim.core import Scene\n",
    "\n",
    "from alr_sim_tools.ycb_utils import YCBLoader\n",
    "from alr_sim_tools.scene_utils import (\n",
    "    execute_grasping_sequence,\n",
    "    record_camera_data,\n",
    "    reset_scene,\n",
    ")\n",
    "from alr_sim_tools.ros_utils import create_grasp_planner_request\n",
    "\n",
    "sys.path.append(str(Path.cwd().parent / \"alr_sim_tools\" / \"ros_msg_srv_definitions\"))\n",
    "from alr_sim_tools.ros_msg_srv_definitions.grasping_benchmarks_ros.srv import (\n",
    "    GraspPlannerResponse,\n",
    "    GraspPlanner,\n",
    ")\n",
    "\n",
    "import rospy"
   ]
  },
  {
   "cell_type": "code",
   "execution_count": 2,
   "metadata": {},
   "outputs": [],
   "source": [
    "FACTORY_STRING = \"mj_beta\"\n",
    "OBJECT_POS = (0.5, 0.0, 0.2)\n",
    "CAM_POS = (0.5, 0.0, 1)\n",
    "CAM_QUAT = [0.7071067811865476, 0.0, 0.0, -0.7071067811865475]\n",
    "CAM_HEIGHT = 480\n",
    "CAM_WIDTH = 640\n",
    "INITIAL_ROBOT_POS = (0.0, 0.5, 0.2)\n",
    "INITIAL_ROBOT_QUAT = (0, 1, 0, 0)\n",
    "RENDER_MODE = Scene.RenderMode.HUMAN    \n",
    "DATA_RECORDING_WAIT_TIME = 0.5\n",
    "DATA_RECORDING_MOVE_TIME = 2\n",
    "\n",
    "GRASP_PLANNER_SERVICE_ID = \"contact_bench/contact_grasp_planner_service\"\n",
    "\n",
    "YCB_FOLDER = Path.home() / \"Documents\" / \"SF-ObjectDataset\" / \"YCB\"\n",
    "YCB_OBJECT_ID = \"011_banana\""
   ]
  },
  {
   "cell_type": "code",
   "execution_count": 3,
   "metadata": {},
   "outputs": [],
   "source": [
    "ycb_loader = YCBLoader(ycb_base_folder=YCB_FOLDER, factory_string=\"mj_beta\")\n",
    "\n",
    "sim_obj = ycb_loader.get_ycb_object(\n",
    "    pos=(0.5, 0.0, 0.2), quat=(0, 1, 0, 0), obj_id=YCB_OBJECT_ID, name=YCB_OBJECT_ID\n",
    ")"
   ]
  },
  {
   "cell_type": "code",
   "execution_count": 4,
   "metadata": {},
   "outputs": [
    {
     "name": "stdout",
     "output_type": "stream",
     "text": [
      "WARNING: mju_openResource: could not open resource '/home/moritz/Documents/SimulationFramework/models/mj/robot/panda_tmp_rb0_5e1037d8-ada2-11ee-a2d6-c8ff282b54dd.xml' with default provider at slot 1\n",
      "\n"
     ]
    }
   ],
   "source": [
    "camera_data, scene, agent = record_camera_data(\n",
    "    factory_string=FACTORY_STRING,\n",
    "    cam_pos=CAM_POS,\n",
    "    cam_quat=CAM_QUAT,\n",
    "    cam_height=CAM_HEIGHT,\n",
    "    cam_width=CAM_WIDTH,\n",
    "    robot_pos=INITIAL_ROBOT_POS,\n",
    "    robot_quat=INITIAL_ROBOT_QUAT,\n",
    "    object_list=[sim_obj],\n",
    "    target_obj_name=YCB_OBJECT_ID,\n",
    "    render_mode=RENDER_MODE,\n",
    "    wait_time=DATA_RECORDING_WAIT_TIME,\n",
    "    move_duration=DATA_RECORDING_MOVE_TIME,\n",
    ")"
   ]
  },
  {
   "cell_type": "code",
   "execution_count": 5,
   "metadata": {},
   "outputs": [],
   "source": [
    "rospy.init_node(\"grasp_planner_client\")\n",
    "importlib.reload(logging)\n",
    "logging.basicConfig(level=logging.INFO)"
   ]
  },
  {
   "cell_type": "code",
   "execution_count": 6,
   "metadata": {},
   "outputs": [],
   "source": [
    "grasp_req = create_grasp_planner_request(\n",
    "    rgb_img=camera_data[\"rgb_img\"],\n",
    "    depth_img=camera_data[\"depth_img\"],\n",
    "    seg_img=camera_data[\"seg_img\"],\n",
    "    pc_points=camera_data[\"point_cloud_points\"],\n",
    "    pc_colors=camera_data[\"point_cloud_colors\"],\n",
    "    cam_pos=camera_data[\"cam_pos\"],\n",
    "    cam_quat=camera_data[\"cam_quat\"],\n",
    "    cam_intrinsics=camera_data[\"cam_intrinsics\"],\n",
    "    cam_height=CAM_HEIGHT,\n",
    "    cam_width=CAM_WIDTH,\n",
    "    num_of_candidates=1,\n",
    ")"
   ]
  },
  {
   "cell_type": "code",
   "execution_count": 7,
   "metadata": {},
   "outputs": [
    {
     "ename": "ServiceException",
     "evalue": "service [/contact_bench/contact_grasp_planner_service] responded with an error: b\"error processing request: No module named 'tf'\"",
     "output_type": "error",
     "traceback": [
      "\u001b[0;31m---------------------------------------------------------------------------\u001b[0m",
      "\u001b[0;31mServiceException\u001b[0m                          Traceback (most recent call last)",
      "Cell \u001b[0;32mIn[7], line 4\u001b[0m\n\u001b[1;32m      1\u001b[0m rospy\u001b[38;5;241m.\u001b[39mwait_for_service(GRASP_PLANNER_SERVICE_ID, timeout\u001b[38;5;241m=\u001b[39m\u001b[38;5;241m30.0\u001b[39m)\n\u001b[1;32m      2\u001b[0m grasp_planner \u001b[38;5;241m=\u001b[39m rospy\u001b[38;5;241m.\u001b[39mServiceProxy(GRASP_PLANNER_SERVICE_ID, GraspPlanner)\n\u001b[0;32m----> 4\u001b[0m reply: GraspPlannerResponse \u001b[38;5;241m=\u001b[39m \u001b[43mgrasp_planner\u001b[49m\u001b[43m(\u001b[49m\u001b[43mgrasp_req\u001b[49m\u001b[43m)\u001b[49m\n",
      "File \u001b[0;32m~/miniconda3/envs/alr/envs/alr_tools/lib/python3.9/site-packages/rospy/impl/tcpros_service.py:442\u001b[0m, in \u001b[0;36mServiceProxy.__call__\u001b[0;34m(self, *args, **kwds)\u001b[0m\n\u001b[1;32m    428\u001b[0m \u001b[38;5;28;01mdef\u001b[39;00m \u001b[38;5;21m__call__\u001b[39m(\u001b[38;5;28mself\u001b[39m, \u001b[38;5;241m*\u001b[39margs, \u001b[38;5;241m*\u001b[39m\u001b[38;5;241m*\u001b[39mkwds):\n\u001b[1;32m    429\u001b[0m \u001b[38;5;250m    \u001b[39m\u001b[38;5;124;03m\"\"\"\u001b[39;00m\n\u001b[1;32m    430\u001b[0m \u001b[38;5;124;03m    Callable-style version of the service API. This accepts either a request message instance,\u001b[39;00m\n\u001b[1;32m    431\u001b[0m \u001b[38;5;124;03m    or you can call directly with arguments to create a new request instance. e.g.::\u001b[39;00m\n\u001b[0;32m   (...)\u001b[0m\n\u001b[1;32m    440\u001b[0m \u001b[38;5;124;03m    message. This is usually a type error with one of the fields.\u001b[39;00m\n\u001b[1;32m    441\u001b[0m \u001b[38;5;124;03m    \"\"\"\u001b[39;00m\n\u001b[0;32m--> 442\u001b[0m     \u001b[38;5;28;01mreturn\u001b[39;00m \u001b[38;5;28;43mself\u001b[39;49m\u001b[38;5;241;43m.\u001b[39;49m\u001b[43mcall\u001b[49m\u001b[43m(\u001b[49m\u001b[38;5;241;43m*\u001b[39;49m\u001b[43margs\u001b[49m\u001b[43m,\u001b[49m\u001b[43m \u001b[49m\u001b[38;5;241;43m*\u001b[39;49m\u001b[38;5;241;43m*\u001b[39;49m\u001b[43mkwds\u001b[49m\u001b[43m)\u001b[49m\n",
      "File \u001b[0;32m~/miniconda3/envs/alr/envs/alr_tools/lib/python3.9/site-packages/rospy/impl/tcpros_service.py:523\u001b[0m, in \u001b[0;36mServiceProxy.call\u001b[0;34m(self, *args, **kwds)\u001b[0m\n\u001b[1;32m    520\u001b[0m transport\u001b[38;5;241m.\u001b[39msend_message(request, \u001b[38;5;28mself\u001b[39m\u001b[38;5;241m.\u001b[39mseq)\n\u001b[1;32m    522\u001b[0m \u001b[38;5;28;01mtry\u001b[39;00m:\n\u001b[0;32m--> 523\u001b[0m     responses \u001b[38;5;241m=\u001b[39m \u001b[43mtransport\u001b[49m\u001b[38;5;241;43m.\u001b[39;49m\u001b[43mreceive_once\u001b[49m\u001b[43m(\u001b[49m\u001b[43m)\u001b[49m\n\u001b[1;32m    524\u001b[0m     \u001b[38;5;28;01mif\u001b[39;00m \u001b[38;5;28mlen\u001b[39m(responses) \u001b[38;5;241m==\u001b[39m \u001b[38;5;241m0\u001b[39m:\n\u001b[1;32m    525\u001b[0m         \u001b[38;5;28;01mraise\u001b[39;00m ServiceException(\u001b[38;5;124m\"\u001b[39m\u001b[38;5;124mservice [\u001b[39m\u001b[38;5;132;01m%s\u001b[39;00m\u001b[38;5;124m] returned no response\u001b[39m\u001b[38;5;124m\"\u001b[39m\u001b[38;5;241m%\u001b[39m\u001b[38;5;28mself\u001b[39m\u001b[38;5;241m.\u001b[39mresolved_name)\n",
      "File \u001b[0;32m~/miniconda3/envs/alr/envs/alr_tools/lib/python3.9/site-packages/rospy/impl/tcpros_base.py:742\u001b[0m, in \u001b[0;36mTCPROSTransport.receive_once\u001b[0;34m(self)\u001b[0m\n\u001b[1;32m    740\u001b[0m \u001b[38;5;28;01mwhile\u001b[39;00m \u001b[38;5;129;01mnot\u001b[39;00m msg_queue \u001b[38;5;129;01mand\u001b[39;00m \u001b[38;5;129;01mnot\u001b[39;00m \u001b[38;5;28mself\u001b[39m\u001b[38;5;241m.\u001b[39mdone \u001b[38;5;129;01mand\u001b[39;00m \u001b[38;5;129;01mnot\u001b[39;00m is_shutdown():\n\u001b[1;32m    741\u001b[0m     \u001b[38;5;28;01mif\u001b[39;00m b\u001b[38;5;241m.\u001b[39mtell() \u001b[38;5;241m>\u001b[39m\u001b[38;5;241m=\u001b[39m \u001b[38;5;241m4\u001b[39m:\n\u001b[0;32m--> 742\u001b[0m         \u001b[43mp\u001b[49m\u001b[38;5;241;43m.\u001b[39;49m\u001b[43mread_messages\u001b[49m\u001b[43m(\u001b[49m\u001b[43mb\u001b[49m\u001b[43m,\u001b[49m\u001b[43m \u001b[49m\u001b[43mmsg_queue\u001b[49m\u001b[43m,\u001b[49m\u001b[43m \u001b[49m\u001b[43msock\u001b[49m\u001b[43m)\u001b[49m \n\u001b[1;32m    743\u001b[0m     \u001b[38;5;28;01mif\u001b[39;00m \u001b[38;5;129;01mnot\u001b[39;00m msg_queue:\n\u001b[1;32m    744\u001b[0m         \u001b[38;5;28mself\u001b[39m\u001b[38;5;241m.\u001b[39mstat_bytes \u001b[38;5;241m+\u001b[39m\u001b[38;5;241m=\u001b[39m recv_buff(sock, b, p\u001b[38;5;241m.\u001b[39mbuff_size)\n",
      "File \u001b[0;32m~/miniconda3/envs/alr/envs/alr_tools/lib/python3.9/site-packages/rospy/impl/tcpros_service.py:360\u001b[0m, in \u001b[0;36mTCPROSServiceClient.read_messages\u001b[0;34m(self, b, msg_queue, sock)\u001b[0m\n\u001b[1;32m    348\u001b[0m \u001b[38;5;28;01mdef\u001b[39;00m \u001b[38;5;21mread_messages\u001b[39m(\u001b[38;5;28mself\u001b[39m, b, msg_queue, sock):\n\u001b[1;32m    349\u001b[0m \u001b[38;5;250m    \u001b[39m\u001b[38;5;124;03m\"\"\"\u001b[39;00m\n\u001b[1;32m    350\u001b[0m \u001b[38;5;124;03m    In service implementation, reads in OK byte that precedes each\u001b[39;00m\n\u001b[1;32m    351\u001b[0m \u001b[38;5;124;03m    response. The OK byte allows for the passing of error messages\u001b[39;00m\n\u001b[0;32m   (...)\u001b[0m\n\u001b[1;32m    358\u001b[0m \u001b[38;5;124;03m    @type  sock: socket.socket\u001b[39;00m\n\u001b[1;32m    359\u001b[0m \u001b[38;5;124;03m    \"\"\"\u001b[39;00m\n\u001b[0;32m--> 360\u001b[0m     \u001b[38;5;28;43mself\u001b[39;49m\u001b[38;5;241;43m.\u001b[39;49m\u001b[43m_read_ok_byte\u001b[49m\u001b[43m(\u001b[49m\u001b[43mb\u001b[49m\u001b[43m,\u001b[49m\u001b[43m \u001b[49m\u001b[43msock\u001b[49m\u001b[43m)\u001b[49m\n\u001b[1;32m    361\u001b[0m     rospy\u001b[38;5;241m.\u001b[39mmsg\u001b[38;5;241m.\u001b[39mdeserialize_messages(b, msg_queue, \u001b[38;5;28mself\u001b[39m\u001b[38;5;241m.\u001b[39mrecv_data_class, queue_size\u001b[38;5;241m=\u001b[39m\u001b[38;5;28mself\u001b[39m\u001b[38;5;241m.\u001b[39mqueue_size, max_msgs\u001b[38;5;241m=\u001b[39m\u001b[38;5;241m1\u001b[39m, start\u001b[38;5;241m=\u001b[39m\u001b[38;5;241m1\u001b[39m) \u001b[38;5;66;03m#rospy.msg\u001b[39;00m\n\u001b[1;32m    362\u001b[0m     \u001b[38;5;66;03m#deserialize_messages only resets the buffer to the start\u001b[39;00m\n\u001b[1;32m    363\u001b[0m     \u001b[38;5;66;03m#point if everything was consumed, so we have to further reset\u001b[39;00m\n\u001b[1;32m    364\u001b[0m     \u001b[38;5;66;03m#it.\u001b[39;00m\n",
      "File \u001b[0;32m~/miniconda3/envs/alr/envs/alr_tools/lib/python3.9/site-packages/rospy/impl/tcpros_service.py:343\u001b[0m, in \u001b[0;36mTCPROSServiceClient._read_ok_byte\u001b[0;34m(self, b, sock)\u001b[0m\n\u001b[1;32m    341\u001b[0m     b\u001b[38;5;241m.\u001b[39mseek(\u001b[38;5;241m0\u001b[39m)\n\u001b[1;32m    342\u001b[0m     b\u001b[38;5;241m.\u001b[39mtruncate(\u001b[38;5;241m0\u001b[39m)\n\u001b[0;32m--> 343\u001b[0m     \u001b[38;5;28;01mraise\u001b[39;00m ServiceException(\u001b[38;5;124m\"\u001b[39m\u001b[38;5;124mservice [\u001b[39m\u001b[38;5;132;01m%s\u001b[39;00m\u001b[38;5;124m] responded with an error: \u001b[39m\u001b[38;5;132;01m%s\u001b[39;00m\u001b[38;5;124m\"\u001b[39m\u001b[38;5;241m%\u001b[39m(\u001b[38;5;28mself\u001b[39m\u001b[38;5;241m.\u001b[39mresolved_name, \u001b[38;5;28mstr\u001b[39m))\n\u001b[1;32m    344\u001b[0m \u001b[38;5;28;01melse\u001b[39;00m:\n\u001b[1;32m    345\u001b[0m     \u001b[38;5;66;03m# success, set seek point to start of message\u001b[39;00m\n\u001b[1;32m    346\u001b[0m     b\u001b[38;5;241m.\u001b[39mseek(pos)\n",
      "\u001b[0;31mServiceException\u001b[0m: service [/contact_bench/contact_grasp_planner_service] responded with an error: b\"error processing request: No module named 'tf'\""
     ]
    }
   ],
   "source": [
    "rospy.wait_for_service(GRASP_PLANNER_SERVICE_ID, timeout=30.0)\n",
    "grasp_planner = rospy.ServiceProxy(GRASP_PLANNER_SERVICE_ID, GraspPlanner)\n",
    "\n",
    "reply: GraspPlannerResponse = grasp_planner(grasp_req)"
   ]
  },
  {
   "cell_type": "code",
   "execution_count": null,
   "metadata": {},
   "outputs": [],
   "source": [
    "best_grasp = sorted(reply.grasp_candidates, key=lambda x: x.score.data)[-1]\n",
    "\n",
    "grasp_pos = best_grasp.pose.pose.position\n",
    "grasp_pos = np.array((grasp_pos.x, grasp_pos.y, grasp_pos.z))\n",
    "\n",
    "grasp_quat = best_grasp.pose.pose.orientation\n",
    "grasp_quat = np.array((grasp_quat.w, grasp_quat.x, grasp_quat.y, grasp_quat.z))\n",
    "\n",
    "grasp_rot = R.from_quat(grasp_quat[[1,2,3,0]]).as_matrix()"
   ]
  },
  {
   "cell_type": "code",
   "execution_count": null,
   "metadata": {},
   "outputs": [],
   "source": [
    "print(grasp_rot)"
   ]
  },
  {
   "cell_type": "code",
   "execution_count": null,
   "metadata": {},
   "outputs": [],
   "source": [
    "# hover_pos = grasp_pos + np.array([0, 0, 0.2])\n",
    "# agent.gotoCartPositionAndQuat(hover_pos, grasp_quat)\n",
    "# agent.wait(100)"
   ]
  },
  {
   "cell_type": "code",
   "execution_count": null,
   "metadata": {},
   "outputs": [],
   "source": [
    "\n",
    "execute_grasping_sequence(\n",
    "    agent = agent,\n",
    "    grasp_pos = grasp_pos,\n",
    "    grasp_quat = grasp_quat\n",
    ")"
   ]
  },
  {
   "cell_type": "code",
   "execution_count": null,
   "metadata": {},
   "outputs": [],
   "source": [
    "reset_scene(FACTORY_STRING, scene, agent)"
   ]
  }
 ],
 "metadata": {
  "kernelspec": {
   "display_name": "ggcnn",
   "language": "python",
   "name": "python3"
  },
  "language_info": {
   "codemirror_mode": {
    "name": "ipython",
    "version": 3
   },
   "file_extension": ".py",
   "mimetype": "text/x-python",
   "name": "python",
   "nbconvert_exporter": "python",
   "pygments_lexer": "ipython3",
   "version": "3.9.18"
  },
  "orig_nbformat": 4,
  "vscode": {
   "interpreter": {
    "hash": "648fd5414dd759cf455503f1ca8a8d1f6103f81afa3f898375d059feb8b10734"
   }
  }
 },
 "nbformat": 4,
 "nbformat_minor": 2
}
