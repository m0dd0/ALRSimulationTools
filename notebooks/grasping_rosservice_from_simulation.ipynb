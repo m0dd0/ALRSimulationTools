{
 "cells": [
  {
   "cell_type": "markdown",
   "metadata": {},
   "source": [
    "This notebook contains a demonstration of the fulle procedure to use a grasping service to execute a grap on a loaded ycb object. \n",
    "The procedure is the following:\n",
    "\n",
    "1.) load an yccb object\n",
    "\n",
    "2.) put the object into the simulated scene and take a picture from a defined viewpoint\n",
    "\n",
    "3.) create a grasp planner request from the recorded data\n",
    "\n",
    "4.) send the request to the ROS grasping service\n",
    "\n",
    "5.) wait for the result and decompose it\n",
    "\n",
    "6.) execute a grasping sequence based on the decomposed result\n",
    "\n",
    "To successfully execute this notebook, the grasping service needs to be running.\n",
    "The grasping services from the `grasping-benchmark-panda` repo can be easily started using the Docker containers provided in the `grasping-benchmark-panda` repo."
   ]
  },
  {
   "cell_type": "code",
   "execution_count": 10,
   "metadata": {},
   "outputs": [],
   "source": [
    "from pathlib import Path\n",
    "import logging\n",
    "import importlib\n",
    "import sys\n",
    "\n",
    "from scipy.spatial.transform import Rotation as R\n",
    "import numpy as np\n",
    "\n",
    "from alr_sim.core import Scene\n",
    "\n",
    "from alr_sim_tools.ycb_utils import YCBLoader\n",
    "from alr_sim_tools.scene_utils import (\n",
    "    execute_grasping_sequence,\n",
    "    record_camera_data,\n",
    "    reset_scene,\n",
    ")\n",
    "from alr_sim_tools.ros_utils import create_grasp_planner_request\n",
    "\n",
    "sys.path.append(str(Path.cwd().parent / \"alr_sim_tools\" / \"ros_msg_srv_definitions\"))\n",
    "from alr_sim_tools.ros_msg_srv_definitions.grasping_benchmarks_ros.srv import (\n",
    "    GraspPlannerResponse,\n",
    "    GraspPlanner,\n",
    ")\n",
    "\n",
    "import rospy"
   ]
  },
  {
   "cell_type": "code",
   "execution_count": 11,
   "metadata": {},
   "outputs": [],
   "source": [
    "FACTORY_STRING = \"mj_beta\"\n",
    "OBJECT_POS = (0.5, 0.0, 0.2)\n",
    "CAM_POS = (0.5, 0.0, 1)\n",
    "CAM_QUAT = [0.7071067811865476, 0.0, 0.0, -0.7071067811865475]\n",
    "CAM_HEIGHT = 480\n",
    "CAM_WIDTH = 640\n",
    "INITIAL_ROBOT_POS = (0.0, 0.5, 0.2)\n",
    "INITIAL_ROBOT_QUAT = (0, 1, 0, 0)\n",
    "RENDER_MODE = Scene.RenderMode.HUMAN    \n",
    "DATA_RECORDING_WAIT_TIME = 1 #  must not be 0\n",
    "DATA_RECORDING_MOVE_TIME = 2\n",
    "\n",
    "GRASP_ALGO_NAME = \"grconvnet\"\n",
    "GRASP_PLANNER_SERVICE_ID = f\"{GRASP_ALGO_NAME}_bench/{GRASP_ALGO_NAME}_grasp_planner_service\"\n",
    "\n",
    "YCB_FOLDER = Path.home() / \"Documents\" / \"SF-ObjectDataset\" / \"YCB\"\n",
    "YCB_OBJECT_ID = \"011_banana\""
   ]
  },
  {
   "cell_type": "code",
   "execution_count": 12,
   "metadata": {},
   "outputs": [],
   "source": [
    "ycb_loader = YCBLoader(ycb_base_folder=YCB_FOLDER, factory_string=\"mj_beta\")\n",
    "\n",
    "sim_obj = ycb_loader.get_ycb_object(\n",
    "    pos=(0.5, 0.0, 0.2), quat=(0, 1, 0, 0), obj_id=YCB_OBJECT_ID, name=YCB_OBJECT_ID\n",
    ")"
   ]
  },
  {
   "cell_type": "code",
   "execution_count": 13,
   "metadata": {},
   "outputs": [
    {
     "name": "stdout",
     "output_type": "stream",
     "text": [
      "WARNING: mju_openResource: could not open resource '/home/moritz/Documents/SimulationFramework/models/mj/robot/panda_tmp_rb2_83bcd648-cccf-11ee-a6bd-c8ff282b54dd.xml' with default provider at slot 1\n",
      "\n"
     ]
    },
    {
     "ename": "KeyboardInterrupt",
     "evalue": "",
     "output_type": "error",
     "traceback": [
      "\u001b[0;31m---------------------------------------------------------------------------\u001b[0m",
      "\u001b[0;31mKeyboardInterrupt\u001b[0m                         Traceback (most recent call last)",
      "Cell \u001b[0;32mIn[13], line 1\u001b[0m\n\u001b[0;32m----> 1\u001b[0m camera_data, scene, agent \u001b[38;5;241m=\u001b[39m \u001b[43mrecord_camera_data\u001b[49m\u001b[43m(\u001b[49m\n\u001b[1;32m      2\u001b[0m \u001b[43m    \u001b[49m\u001b[43mfactory_string\u001b[49m\u001b[38;5;241;43m=\u001b[39;49m\u001b[43mFACTORY_STRING\u001b[49m\u001b[43m,\u001b[49m\n\u001b[1;32m      3\u001b[0m \u001b[43m    \u001b[49m\u001b[43mcam_pos\u001b[49m\u001b[38;5;241;43m=\u001b[39;49m\u001b[43mCAM_POS\u001b[49m\u001b[43m,\u001b[49m\n\u001b[1;32m      4\u001b[0m \u001b[43m    \u001b[49m\u001b[43mcam_quat\u001b[49m\u001b[38;5;241;43m=\u001b[39;49m\u001b[43mCAM_QUAT\u001b[49m\u001b[43m,\u001b[49m\n\u001b[1;32m      5\u001b[0m \u001b[43m    \u001b[49m\u001b[43mcam_height\u001b[49m\u001b[38;5;241;43m=\u001b[39;49m\u001b[43mCAM_HEIGHT\u001b[49m\u001b[43m,\u001b[49m\n\u001b[1;32m      6\u001b[0m \u001b[43m    \u001b[49m\u001b[43mcam_width\u001b[49m\u001b[38;5;241;43m=\u001b[39;49m\u001b[43mCAM_WIDTH\u001b[49m\u001b[43m,\u001b[49m\n\u001b[1;32m      7\u001b[0m \u001b[43m    \u001b[49m\u001b[43mrobot_pos\u001b[49m\u001b[38;5;241;43m=\u001b[39;49m\u001b[43mINITIAL_ROBOT_POS\u001b[49m\u001b[43m,\u001b[49m\n\u001b[1;32m      8\u001b[0m \u001b[43m    \u001b[49m\u001b[43mrobot_quat\u001b[49m\u001b[38;5;241;43m=\u001b[39;49m\u001b[43mINITIAL_ROBOT_QUAT\u001b[49m\u001b[43m,\u001b[49m\n\u001b[1;32m      9\u001b[0m \u001b[43m    \u001b[49m\u001b[43mobject_list\u001b[49m\u001b[38;5;241;43m=\u001b[39;49m\u001b[43m[\u001b[49m\u001b[43msim_obj\u001b[49m\u001b[43m]\u001b[49m\u001b[43m,\u001b[49m\n\u001b[1;32m     10\u001b[0m \u001b[43m    \u001b[49m\u001b[43mtarget_obj_name\u001b[49m\u001b[38;5;241;43m=\u001b[39;49m\u001b[43mYCB_OBJECT_ID\u001b[49m\u001b[43m,\u001b[49m\n\u001b[1;32m     11\u001b[0m \u001b[43m    \u001b[49m\u001b[43mrender_mode\u001b[49m\u001b[38;5;241;43m=\u001b[39;49m\u001b[43mRENDER_MODE\u001b[49m\u001b[43m,\u001b[49m\n\u001b[1;32m     12\u001b[0m \u001b[43m    \u001b[49m\u001b[43mwait_time\u001b[49m\u001b[38;5;241;43m=\u001b[39;49m\u001b[43mDATA_RECORDING_WAIT_TIME\u001b[49m\u001b[43m,\u001b[49m\n\u001b[1;32m     13\u001b[0m \u001b[43m    \u001b[49m\u001b[43mmove_duration\u001b[49m\u001b[38;5;241;43m=\u001b[39;49m\u001b[43mDATA_RECORDING_MOVE_TIME\u001b[49m\u001b[43m,\u001b[49m\n\u001b[1;32m     14\u001b[0m \u001b[43m)\u001b[49m\n",
      "File \u001b[0;32m~/Documents/ALRSimulationTools/alr_sim_tools/scene_utils.py:137\u001b[0m, in \u001b[0;36mrecord_camera_data\u001b[0;34m(factory_string, cam_pos, cam_quat, cam_height, cam_width, robot_pos, robot_quat, object_list, target_obj_name, render_mode, wait_time, move_duration)\u001b[0m\n\u001b[1;32m    134\u001b[0m scene\u001b[38;5;241m.\u001b[39mstart()\n\u001b[1;32m    136\u001b[0m \u001b[38;5;66;03m# go to start position\u001b[39;00m\n\u001b[0;32m--> 137\u001b[0m \u001b[43mbeam_to_near_pos_quat\u001b[49m\u001b[43m(\u001b[49m\u001b[43magent\u001b[49m\u001b[43m,\u001b[49m\u001b[43m \u001b[49m\u001b[43mrobot_pos\u001b[49m\u001b[43m,\u001b[49m\u001b[43m \u001b[49m\u001b[43mrobot_quat\u001b[49m\u001b[43m,\u001b[49m\u001b[43m \u001b[49m\u001b[43mmove_duration\u001b[49m\u001b[43m)\u001b[49m\n\u001b[1;32m    138\u001b[0m agent\u001b[38;5;241m.\u001b[39mwait(wait_time)\n\u001b[1;32m    140\u001b[0m \u001b[38;5;66;03m# get camera data\u001b[39;00m\n",
      "File \u001b[0;32m~/Documents/ALRSimulationTools/alr_sim_tools/scene_utils.py:297\u001b[0m, in \u001b[0;36mbeam_to_near_pos_quat\u001b[0;34m(agent, pos, quat, duration)\u001b[0m\n\u001b[1;32m    291\u001b[0m         \u001b[38;5;28;01mreturn\u001b[39;00m\n\u001b[1;32m    293\u001b[0m logging\u001b[38;5;241m.\u001b[39mwarning(\n\u001b[1;32m    294\u001b[0m     \u001b[38;5;124mf\u001b[39m\u001b[38;5;124m\"\u001b[39m\u001b[38;5;124mJoint configuration for position \u001b[39m\u001b[38;5;132;01m{\u001b[39;00mpos\u001b[38;5;132;01m}\u001b[39;00m\u001b[38;5;124m and quaternion \u001b[39m\u001b[38;5;132;01m{\u001b[39;00mquat\u001b[38;5;132;01m}\u001b[39;00m\u001b[38;5;124m not found. Moving to position and saving joint configuration.\u001b[39m\u001b[38;5;124m\"\u001b[39m\n\u001b[1;32m    295\u001b[0m )\n\u001b[0;32m--> 297\u001b[0m \u001b[43magent\u001b[49m\u001b[38;5;241;43m.\u001b[39;49m\u001b[43mgotoCartPositionAndQuat\u001b[49m\u001b[43m(\u001b[49m\u001b[43mpos\u001b[49m\u001b[43m,\u001b[49m\u001b[43m \u001b[49m\u001b[43mquat\u001b[49m\u001b[43m,\u001b[49m\u001b[43m \u001b[49m\u001b[43mduration\u001b[49m\u001b[38;5;241;43m=\u001b[39;49m\u001b[43mduration\u001b[49m\u001b[43m)\u001b[49m\n\u001b[1;32m    298\u001b[0m joint_configuration \u001b[38;5;241m=\u001b[39m \u001b[38;5;28mtuple\u001b[39m(agent\u001b[38;5;241m.\u001b[39mcurrent_j_pos)\n\u001b[1;32m    300\u001b[0m joint_configuration_lookup\u001b[38;5;241m.\u001b[39mappend((pos, quat, joint_configuration))\n",
      "File \u001b[0;32m~/Documents/SimulationFramework/alr_sim/core/Robots.py:329\u001b[0m, in \u001b[0;36mRobotBase.gotoCartPositionAndQuat\u001b[0;34m(self, desiredPos, desiredQuat, duration, global_coord, block)\u001b[0m\n\u001b[1;32m    324\u001b[0m     desiredQuat \u001b[38;5;241m=\u001b[39m \u001b[38;5;28mself\u001b[39m\u001b[38;5;241m.\u001b[39m_localize_cart_quat(desiredQuat)\n\u001b[1;32m    326\u001b[0m \u001b[38;5;28mself\u001b[39m\u001b[38;5;241m.\u001b[39mgotoCartPosQuatController\u001b[38;5;241m.\u001b[39msetDesiredPos(\n\u001b[1;32m    327\u001b[0m     np\u001b[38;5;241m.\u001b[39mhstack((desiredPos, desiredQuat))\n\u001b[1;32m    328\u001b[0m )\n\u001b[0;32m--> 329\u001b[0m \u001b[38;5;28;43mself\u001b[39;49m\u001b[38;5;241;43m.\u001b[39;49m\u001b[43mgotoCartPosQuatController\u001b[49m\u001b[38;5;241;43m.\u001b[39;49m\u001b[43mexecuteController\u001b[49m\u001b[43m(\u001b[49m\u001b[38;5;28;43mself\u001b[39;49m\u001b[43m,\u001b[49m\u001b[43m \u001b[49m\u001b[43mduration\u001b[49m\u001b[43m,\u001b[49m\u001b[43m \u001b[49m\u001b[43mblock\u001b[49m\u001b[38;5;241;43m=\u001b[39;49m\u001b[43mblock\u001b[49m\u001b[43m)\u001b[49m\n",
      "File \u001b[0;32m~/Documents/SimulationFramework/alr_sim/controllers/Controller.py:78\u001b[0m, in \u001b[0;36mControllerBase.executeController\u001b[0;34m(self, robot, maxDuration, block)\u001b[0m\n\u001b[1;32m     75\u001b[0m robot\u001b[38;5;241m.\u001b[39mactiveController \u001b[38;5;241m=\u001b[39m \u001b[38;5;28mself\u001b[39m\n\u001b[1;32m     77\u001b[0m \u001b[38;5;28;01mif\u001b[39;00m block:\n\u001b[0;32m---> 78\u001b[0m     \u001b[38;5;28;43mself\u001b[39;49m\u001b[38;5;241;43m.\u001b[39;49m\u001b[43mrun\u001b[49m\u001b[43m(\u001b[49m\u001b[43mrobot\u001b[49m\u001b[43m)\u001b[49m\n",
      "File \u001b[0;32m~/Documents/SimulationFramework/alr_sim/controllers/Controller.py:60\u001b[0m, in \u001b[0;36mControllerBase.run\u001b[0;34m(self, robot)\u001b[0m\n\u001b[1;32m     54\u001b[0m \u001b[38;5;250m\u001b[39m\u001b[38;5;124;03m\"\"\"Drive the Simulation via the robot.\u001b[39;00m\n\u001b[1;32m     55\u001b[0m \n\u001b[1;32m     56\u001b[0m \u001b[38;5;124;03mArgs:\u001b[39;00m\n\u001b[1;32m     57\u001b[0m \u001b[38;5;124;03m    robot (RobotBase): Robot running the controller\u001b[39;00m\n\u001b[1;32m     58\u001b[0m \u001b[38;5;124;03m\"\"\"\u001b[39;00m\n\u001b[1;32m     59\u001b[0m \u001b[38;5;28;01mwhile\u001b[39;00m \u001b[38;5;129;01mnot\u001b[39;00m \u001b[38;5;28mself\u001b[39m\u001b[38;5;241m.\u001b[39misFinished(robot):\n\u001b[0;32m---> 60\u001b[0m     \u001b[43mrobot\u001b[49m\u001b[38;5;241;43m.\u001b[39;49m\u001b[43mnextStep\u001b[49m\u001b[43m(\u001b[49m\u001b[43m)\u001b[49m\n",
      "File \u001b[0;32m~/Documents/SimulationFramework/alr_sim/core/Robots.py:498\u001b[0m, in \u001b[0;36mRobotBase.nextStep\u001b[0;34m(self)\u001b[0m\n\u001b[1;32m    494\u001b[0m \u001b[38;5;28;01mdef\u001b[39;00m \u001b[38;5;21mnextStep\u001b[39m(\u001b[38;5;28mself\u001b[39m):\n\u001b[1;32m    495\u001b[0m \u001b[38;5;250m    \u001b[39m\u001b[38;5;124;03m\"\"\"legacy method used by the controllers to run the simulation.\u001b[39;00m\n\u001b[1;32m    496\u001b[0m \u001b[38;5;124;03m    The function call is now 'redirected' to the scene to support Multibots.\u001b[39;00m\n\u001b[1;32m    497\u001b[0m \u001b[38;5;124;03m    \"\"\"\u001b[39;00m\n\u001b[0;32m--> 498\u001b[0m     \u001b[38;5;28;43mself\u001b[39;49m\u001b[38;5;241;43m.\u001b[39;49m\u001b[43mscene\u001b[49m\u001b[38;5;241;43m.\u001b[39;49m\u001b[43mnext_step\u001b[49m\u001b[43m(\u001b[49m\u001b[43m)\u001b[49m\n",
      "File \u001b[0;32m~/Documents/SimulationFramework/alr_sim/core/Scene.py:123\u001b[0m, in \u001b[0;36mScene.next_step\u001b[0;34m(self)\u001b[0m\n\u001b[1;32m    121\u001b[0m \u001b[38;5;28;01mdef\u001b[39;00m \u001b[38;5;21mnext_step\u001b[39m(\u001b[38;5;28mself\u001b[39m):\n\u001b[1;32m    122\u001b[0m     \u001b[38;5;28;01mfor\u001b[39;00m rb \u001b[38;5;129;01min\u001b[39;00m \u001b[38;5;28mself\u001b[39m\u001b[38;5;241m.\u001b[39mrobots:\n\u001b[0;32m--> 123\u001b[0m         \u001b[43mrb\u001b[49m\u001b[38;5;241;43m.\u001b[39;49m\u001b[43mprepare_step\u001b[49m\u001b[43m(\u001b[49m\u001b[43m)\u001b[49m\n\u001b[1;32m    125\u001b[0m     \u001b[38;5;28mself\u001b[39m\u001b[38;5;241m.\u001b[39m_sim_step()\n\u001b[1;32m    127\u001b[0m     \u001b[38;5;28mself\u001b[39m\u001b[38;5;241m.\u001b[39mtime_keeper\u001b[38;5;241m.\u001b[39mtick()\n",
      "File \u001b[0;32m~/Documents/SimulationFramework/alr_sim/sims/mj_beta/MjRobot.py:126\u001b[0m, in \u001b[0;36mMjRobot.prepare_step\u001b[0;34m(self)\u001b[0m\n\u001b[1;32m    125\u001b[0m \u001b[38;5;28;01mdef\u001b[39;00m \u001b[38;5;21mprepare_step\u001b[39m(\u001b[38;5;28mself\u001b[39m):\n\u001b[0;32m--> 126\u001b[0m     \u001b[38;5;28mself\u001b[39m\u001b[38;5;241m.\u001b[39mcommand \u001b[38;5;241m=\u001b[39m \u001b[38;5;28;43mself\u001b[39;49m\u001b[38;5;241;43m.\u001b[39;49m\u001b[43mactiveController\u001b[49m\u001b[38;5;241;43m.\u001b[39;49m\u001b[43mgetControl\u001b[49m\u001b[43m(\u001b[49m\u001b[38;5;28;43mself\u001b[39;49m\u001b[43m)\u001b[49m\n\u001b[1;32m    128\u001b[0m     \u001b[38;5;28mself\u001b[39m\u001b[38;5;241m.\u001b[39mpreprocessCommand(\u001b[38;5;28mself\u001b[39m\u001b[38;5;241m.\u001b[39mcommand)\n\u001b[1;32m    129\u001b[0m     \u001b[38;5;28mself\u001b[39m\u001b[38;5;241m.\u001b[39mscene\u001b[38;5;241m.\u001b[39mdata\u001b[38;5;241m.\u001b[39mctrl[\u001b[38;5;28mself\u001b[39m\u001b[38;5;241m.\u001b[39mjoint_act_indices] \u001b[38;5;241m=\u001b[39m \u001b[38;5;28mself\u001b[39m\u001b[38;5;241m.\u001b[39muff\u001b[38;5;241m.\u001b[39mcopy()[: \u001b[38;5;28mself\u001b[39m\u001b[38;5;241m.\u001b[39mnum_DoF]\n",
      "File \u001b[0;32m~/Documents/SimulationFramework/alr_sim/controllers/TrajectoryTracking.py:121\u001b[0m, in \u001b[0;36mTrajectoryTracker.getControl\u001b[0;34m(self, robot)\u001b[0m\n\u001b[1;32m    117\u001b[0m \u001b[38;5;28mself\u001b[39m\u001b[38;5;241m.\u001b[39mset_point_for_time_step(robot, timeStep)\n\u001b[1;32m    119\u001b[0m \u001b[38;5;28mself\u001b[39m\u001b[38;5;241m.\u001b[39mparamsLock\u001b[38;5;241m.\u001b[39mrelease()\n\u001b[0;32m--> 121\u001b[0m \u001b[38;5;28;01mreturn\u001b[39;00m \u001b[38;5;28;43mself\u001b[39;49m\u001b[38;5;241;43m.\u001b[39;49m\u001b[43mget_tracking_controller\u001b[49m\u001b[43m(\u001b[49m\u001b[43mrobot\u001b[49m\u001b[43m)\u001b[49m\u001b[38;5;241;43m.\u001b[39;49m\u001b[43mgetControl\u001b[49m\u001b[43m(\u001b[49m\u001b[43mrobot\u001b[49m\u001b[43m)\u001b[49m\n",
      "File \u001b[0;32m~/Documents/SimulationFramework/alr_sim/controllers/Controller.py:163\u001b[0m, in \u001b[0;36mJointPDController.getControl\u001b[0;34m(self, robot)\u001b[0m\n\u001b[1;32m    160\u001b[0m qd_d \u001b[38;5;241m=\u001b[39m \u001b[38;5;28mself\u001b[39m\u001b[38;5;241m.\u001b[39mdesired_joint_pos \u001b[38;5;241m-\u001b[39m robot\u001b[38;5;241m.\u001b[39mcurrent_j_pos\n\u001b[1;32m    161\u001b[0m vd_d \u001b[38;5;241m=\u001b[39m \u001b[38;5;28mself\u001b[39m\u001b[38;5;241m.\u001b[39mdesired_joint_vel \u001b[38;5;241m-\u001b[39m robot\u001b[38;5;241m.\u001b[39mcurrent_j_vel\n\u001b[0;32m--> 163\u001b[0m target_j_acc \u001b[38;5;241m=\u001b[39m \u001b[38;5;28mself\u001b[39m\u001b[38;5;241m.\u001b[39mpgain \u001b[38;5;241m*\u001b[39m qd_d \u001b[38;5;241m+\u001b[39m \u001b[38;5;28;43mself\u001b[39;49m\u001b[38;5;241;43m.\u001b[39;49m\u001b[43mdgain\u001b[49m\u001b[43m \u001b[49m\u001b[38;5;241;43m*\u001b[39;49m\u001b[43m \u001b[49m\u001b[43mvd_d\u001b[49m  \u001b[38;5;66;03m# original\u001b[39;00m\n\u001b[1;32m    165\u001b[0m robot\u001b[38;5;241m.\u001b[39mdes_joint_pos \u001b[38;5;241m=\u001b[39m \u001b[38;5;28mself\u001b[39m\u001b[38;5;241m.\u001b[39mdesired_joint_pos\u001b[38;5;241m.\u001b[39mcopy()\n\u001b[1;32m    166\u001b[0m robot\u001b[38;5;241m.\u001b[39mdes_joint_vel \u001b[38;5;241m=\u001b[39m \u001b[38;5;28mself\u001b[39m\u001b[38;5;241m.\u001b[39mdesired_joint_vel\u001b[38;5;241m.\u001b[39mcopy()\n",
      "\u001b[0;31mKeyboardInterrupt\u001b[0m: "
     ]
    }
   ],
   "source": [
    "camera_data, scene, agent = record_camera_data(\n",
    "    factory_string=FACTORY_STRING,\n",
    "    cam_pos=CAM_POS,\n",
    "    cam_quat=CAM_QUAT,\n",
    "    cam_height=CAM_HEIGHT,\n",
    "    cam_width=CAM_WIDTH,\n",
    "    robot_pos=INITIAL_ROBOT_POS,\n",
    "    robot_quat=INITIAL_ROBOT_QUAT,\n",
    "    object_list=[sim_obj],\n",
    "    target_obj_name=YCB_OBJECT_ID,\n",
    "    render_mode=RENDER_MODE,\n",
    "    wait_time=DATA_RECORDING_WAIT_TIME,\n",
    "    move_duration=DATA_RECORDING_MOVE_TIME,\n",
    ")"
   ]
  },
  {
   "cell_type": "code",
   "execution_count": null,
   "metadata": {},
   "outputs": [],
   "source": [
    "rospy.init_node(\"grasp_planner_client\")\n",
    "importlib.reload(logging)\n",
    "logging.basicConfig(level=logging.INFO)"
   ]
  },
  {
   "cell_type": "code",
   "execution_count": null,
   "metadata": {},
   "outputs": [],
   "source": [
    "grasp_req = create_grasp_planner_request(\n",
    "    rgb_img=camera_data.rgb_img,\n",
    "    depth_img=camera_data.depth_img,\n",
    "    seg_img=camera_data.seg_img,\n",
    "    pc_points=camera_data.point_cloud_points,\n",
    "    pc_colors=camera_data.point_cloud_colors,\n",
    "    cam_pos=camera_data.cam_pos,\n",
    "    cam_quat=camera_data.cam_quat,\n",
    "    cam_intrinsics=camera_data.cam_intrinsics,\n",
    "    cam_height=CAM_HEIGHT,\n",
    "    cam_width=CAM_WIDTH,\n",
    "    num_of_candidates=1,\n",
    ")"
   ]
  },
  {
   "cell_type": "code",
   "execution_count": null,
   "metadata": {},
   "outputs": [],
   "source": [
    "rospy.wait_for_service(GRASP_PLANNER_SERVICE_ID, timeout=30.0)\n",
    "grasp_planner = rospy.ServiceProxy(GRASP_PLANNER_SERVICE_ID, GraspPlanner)\n",
    "\n",
    "reply: GraspPlannerResponse = grasp_planner(grasp_req)"
   ]
  },
  {
   "cell_type": "code",
   "execution_count": null,
   "metadata": {},
   "outputs": [],
   "source": [
    "best_grasp = sorted(reply.grasp_candidates, key=lambda x: x.score.data)[-1]\n",
    "\n",
    "grasp_pos = best_grasp.pose.pose.position\n",
    "grasp_pos = np.array((grasp_pos.x, grasp_pos.y, grasp_pos.z))\n",
    "\n",
    "grasp_quat = best_grasp.pose.pose.orientation\n",
    "grasp_quat = np.array((grasp_quat.w, grasp_quat.x, grasp_quat.y, grasp_quat.z))\n",
    "\n",
    "grasp_rot = R.from_quat(grasp_quat[[1,2,3,0]]).as_matrix()"
   ]
  },
  {
   "cell_type": "code",
   "execution_count": null,
   "metadata": {},
   "outputs": [],
   "source": [
    "execute_grasping_sequence(\n",
    "    agent = agent,\n",
    "    grasp_pos = grasp_pos,\n",
    "    grasp_quat = grasp_quat\n",
    ")"
   ]
  },
  {
   "cell_type": "code",
   "execution_count": null,
   "metadata": {},
   "outputs": [],
   "source": [
    "reset_scene(FACTORY_STRING, scene, agent)"
   ]
  }
 ],
 "metadata": {
  "kernelspec": {
   "display_name": "ggcnn",
   "language": "python",
   "name": "python3"
  },
  "language_info": {
   "codemirror_mode": {
    "name": "ipython",
    "version": 3
   },
   "file_extension": ".py",
   "mimetype": "text/x-python",
   "name": "python",
   "nbconvert_exporter": "python",
   "pygments_lexer": "ipython3",
   "version": "3.9.18"
  },
  "orig_nbformat": 4,
  "vscode": {
   "interpreter": {
    "hash": "648fd5414dd759cf455503f1ca8a8d1f6103f81afa3f898375d059feb8b10734"
   }
  }
 },
 "nbformat": 4,
 "nbformat_minor": 2
}
