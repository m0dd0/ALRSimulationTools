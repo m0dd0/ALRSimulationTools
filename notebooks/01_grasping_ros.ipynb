{
 "cells": [
  {
   "cell_type": "code",
   "execution_count": 1,
   "metadata": {},
   "outputs": [
    {
     "name": "stderr",
     "output_type": "stream",
     "text": [
      "pybullet build time: Oct 28 2022 16:12:21\n"
     ]
    },
    {
     "name": "stdout",
     "output_type": "stream",
     "text": [
      "[Warning] Since Open3D 0.15, installing Open3D via conda is deprecated. Please re-install Open3D via: `pip install open3d -U`.\n",
      "Jupyter environment detected. Enabling Open3D WebVisualizer.\n",
      "[Open3D INFO] WebRTC GUI backend enabled.\n",
      "[Open3D INFO] WebRTCWindowSystem: HTTP handshake server disabled.\n"
     ]
    }
   ],
   "source": [
    "from pathlib import Path\n",
    "import logging\n",
    "import importlib\n",
    "\n",
    "from matplotlib import pyplot as plt\n",
    "import rospy\n",
    "from scipy.spatial.transform import Rotation as R\n",
    "import numpy as np\n",
    "\n",
    "from alr_sim.sims.SimFactory import SimRepository\n",
    "from alr_sim.core import Scene\n",
    "from alr_sim.sims.universal_sim.PrimitiveObjects import Box\n",
    "from alr_sim.sims.mj_beta import MjCamera\n",
    "\n",
    "from grasp_benchmark.utils.ycb_utils import YCBLoader\n",
    "from alr_simulation_tools.scene_utils import execute_grasping_sequence, create_sample_data, reset_scene\n",
    "\n",
    "import ros_numpy\n",
    "from grasping_benchmarks_ros.srv import (\n",
    "    GraspPlanner,\n",
    "    GraspPlannerRequest,\n",
    "    GraspPlannerResponse,\n",
    ")\n",
    "\n",
    "from grasp_benchmark.utils.ros_utils import (\n",
    "    transform_pc,\n",
    "    create_grasp_planner_request,\n",
    "    calc_point_cloud_from_images\n",
    ") "
   ]
  },
  {
   "cell_type": "code",
   "execution_count": 2,
   "metadata": {},
   "outputs": [],
   "source": [
    "# define scene parameters\n",
    "\n",
    "factory_string = \"mj_beta\"\n",
    "object_pos = (0.5, 0.0, 0.2)\n",
    "adhust_object_position = True\n",
    "cam_pos = (0.5, 0.0, 1)\n",
    "cam_quat = [0.7071067811865476, 0.0, 0.0, -0.7071067811865475]\n",
    "# cam_quat = R.from_euler(\"xyz\", (0, 0, -90), degrees=True).as_quat()[\n",
    "#         [3, 0, 1, 2]\n",
    "#     ].tolist(),\n",
    "# cam_quat = R.from_euler(\"zyx\", (-90, -30, 0), degrees=True).as_quat()[\n",
    "#         [3, 0, 1, 2]\n",
    "#     ].tolist(),\n",
    "# cam_quat = (\n",
    "#     R.from_euler(\"zyx\", (90, 50, 0), degrees=True).as_quat()[[3, 0, 1, 2]].tolist()\n",
    "# )\n",
    "cam_height = 480\n",
    "cam_width = 640\n",
    "robot_pos = (0.0, 0.5, 0.2)\n",
    "robot_quat = (0, 1, 0, 0)\n",
    "render_mode = Scene.RenderMode.HUMAN    \n",
    "wait_time = 0.5\n",
    "move_duration = 2\n",
    "\n",
    "#\n",
    "grasp_planner_service_id = \"grconvnet_bench/grconvnet_grasp_planner_service\""
   ]
  },
  {
   "cell_type": "code",
   "execution_count": 3,
   "metadata": {},
   "outputs": [],
   "source": [
    "ycb_loader = YCBLoader(\n",
    "    ycb_base_folder=Path.home() / \"Documents\" / \"SF-ObjectDataset\" / \"YCB\", factory_string=\"mj_beta\"\n",
    ")\n",
    "obj_ids = [p.name for p in ycb_loader.ycb_base_folder.iterdir() if p.is_dir()]"
   ]
  },
  {
   "cell_type": "code",
   "execution_count": 4,
   "metadata": {},
   "outputs": [],
   "source": [
    "rospy.init_node(\"grasp_planner_client\")\n",
    "\n",
    "importlib.reload(logging)\n",
    "logging.basicConfig(level=logging.INFO)"
   ]
  },
  {
   "cell_type": "code",
   "execution_count": 5,
   "metadata": {},
   "outputs": [
    {
     "name": "stderr",
     "output_type": "stream",
     "text": [
      "INFO:root:Starting\n",
      "INFO:root:Creating sample data for 002_master_chef_can\n"
     ]
    },
    {
     "ename": "NameError",
     "evalue": "name 'name' is not defined",
     "output_type": "error",
     "traceback": [
      "\u001b[0;31m---------------------------------------------------------------------------\u001b[0m",
      "\u001b[0;31mNameError\u001b[0m                                 Traceback (most recent call last)",
      "Cell \u001b[0;32mIn[5], line 17\u001b[0m\n\u001b[1;32m      4\u001b[0m logging\u001b[39m.\u001b[39minfo(\u001b[39mf\u001b[39m\u001b[39m\"\u001b[39m\u001b[39mCreating sample data for \u001b[39m\u001b[39m{\u001b[39;00mobj_id\u001b[39m}\u001b[39;00m\u001b[39m\"\u001b[39m)\n\u001b[1;32m      6\u001b[0m sim_obj \u001b[39m=\u001b[39m ycb_loader\u001b[39m.\u001b[39mget_ycb_object(pos \u001b[39m=\u001b[39m (\u001b[39m0.5\u001b[39m, \u001b[39m0.0\u001b[39m, \u001b[39m0.2\u001b[39m), quat \u001b[39m=\u001b[39m (\u001b[39m0\u001b[39m,\u001b[39m1\u001b[39m,\u001b[39m0\u001b[39m,\u001b[39m0\u001b[39m), obj_id\u001b[39m=\u001b[39mobj_id, name\u001b[39m=\u001b[39mobj_id)\n\u001b[1;32m      8\u001b[0m results, scene, agent \u001b[39m=\u001b[39m create_sample_data(\n\u001b[1;32m      9\u001b[0m     factory_string\u001b[39m=\u001b[39mfactory_string,\n\u001b[1;32m     10\u001b[0m     cam_pos\u001b[39m=\u001b[39mcam_pos,\n\u001b[1;32m     11\u001b[0m     cam_quat\u001b[39m=\u001b[39mcam_quat,\n\u001b[1;32m     12\u001b[0m     cam_height\u001b[39m=\u001b[39mcam_height,\n\u001b[1;32m     13\u001b[0m     cam_width\u001b[39m=\u001b[39mcam_width,\n\u001b[1;32m     14\u001b[0m     robot_pos\u001b[39m=\u001b[39mrobot_pos,\n\u001b[1;32m     15\u001b[0m     robot_quat\u001b[39m=\u001b[39mrobot_quat,\n\u001b[1;32m     16\u001b[0m     object_list\u001b[39m=\u001b[39m[sim_obj],\n\u001b[0;32m---> 17\u001b[0m     target_obj_name\u001b[39m=\u001b[39mname,\n\u001b[1;32m     18\u001b[0m     render_mode\u001b[39m=\u001b[39mrender_mode,\n\u001b[1;32m     19\u001b[0m     wait_time\u001b[39m=\u001b[39mwait_time,\n\u001b[1;32m     20\u001b[0m     move_duration\u001b[39m=\u001b[39mmove_duration,\n\u001b[1;32m     21\u001b[0m )\n\u001b[1;32m     22\u001b[0m logging\u001b[39m.\u001b[39minfo(\u001b[39m\"\u001b[39m\u001b[39mSample data created\u001b[39m\u001b[39m\"\u001b[39m)\n\u001b[1;32m     24\u001b[0m pc_points, pc_colors \u001b[39m=\u001b[39m calc_point_cloud_from_images(\n\u001b[1;32m     25\u001b[0m     rgb_img\u001b[39m=\u001b[39mresults[\u001b[39m\"\u001b[39m\u001b[39mrgb_img\u001b[39m\u001b[39m\"\u001b[39m], depth_img\u001b[39m=\u001b[39mresults[\u001b[39m\"\u001b[39m\u001b[39mdepth_img\u001b[39m\u001b[39m\"\u001b[39m], cam_intrinsics\u001b[39m=\u001b[39mresults[\u001b[39m\"\u001b[39m\u001b[39mcam_intrinsics\u001b[39m\u001b[39m\"\u001b[39m]\n\u001b[1;32m     26\u001b[0m )\n",
      "\u001b[0;31mNameError\u001b[0m: name 'name' is not defined"
     ]
    }
   ],
   "source": [
    "logging.info(\"Starting\")\n",
    "for obj_id in obj_ids:\n",
    "\n",
    "    logging.info(f\"Creating sample data for {obj_id}\")\n",
    "\n",
    "    sim_obj = ycb_loader.get_ycb_object(pos = (0.5, 0.0, 0.2), quat = (0,1,0,0), obj_id=obj_id, name=obj_id)\n",
    "\n",
    "    results, scene, agent = create_sample_data(\n",
    "        factory_string=factory_string,\n",
    "        cam_pos=cam_pos,\n",
    "        cam_quat=cam_quat,\n",
    "        cam_height=cam_height,\n",
    "        cam_width=cam_width,\n",
    "        robot_pos=robot_pos,\n",
    "        robot_quat=robot_quat,\n",
    "        object_list=[sim_obj],\n",
    "        target_obj_name=obj_id,\n",
    "        render_mode=render_mode,\n",
    "        wait_time=wait_time,\n",
    "        move_duration=move_duration,\n",
    "    )\n",
    "    logging.info(\"Sample data created\")\n",
    "\n",
    "    pc_points, pc_colors = calc_point_cloud_from_images(\n",
    "        rgb_img=results[\"rgb_img\"], depth_img=results[\"depth_img\"], cam_intrinsics=results[\"cam_intrinsics\"]\n",
    "    )\n",
    "\n",
    "    grasp_req = create_grasp_planner_request(\n",
    "        rgb_img=results[\"rgb_img\"],\n",
    "        depth_img=results[\"depth_img\"],\n",
    "        seg_img=results[\"seg_img\"],\n",
    "        pc_points=pc_points,\n",
    "        pc_colors=pc_colors,\n",
    "        cam_pos=results[\"cam_pos\"],\n",
    "        cam_quat=results[\"cam_quat\"],\n",
    "        cam_intrinsics=results[\"cam_intrinsics\"],\n",
    "        cam_height=cam_height,\n",
    "        cam_width=cam_width,\n",
    "        num_of_candidates=10_000,\n",
    "    )\n",
    "\n",
    "    rospy.wait_for_service(grasp_planner_service_id, timeout=30.0)\n",
    "    grasp_planner = rospy.ServiceProxy(grasp_planner_service_id, GraspPlanner)\n",
    "\n",
    "    reply: GraspPlannerResponse = grasp_planner(grasp_req)\n",
    "    logging.info(\"Received grasp candidates\")\n",
    "\n",
    "    best_grasp = sorted(reply.grasp_candidates, key=lambda x: x.score.data)[-1]\n",
    "    grasp_pos = best_grasp.pose.pose.position\n",
    "    grasp_pos = (grasp_pos.x, grasp_pos.y, grasp_pos.z)\n",
    "    grasp_quat = best_grasp.pose.pose.orientation\n",
    "    grasp_quat = (grasp_quat.w, grasp_quat.x, grasp_quat.y, grasp_quat.z)\n",
    "\n",
    "    execute_grasping_sequence(\n",
    "        agent = agent,\n",
    "        grasp_pos = grasp_pos,\n",
    "        grasp_quat = grasp_quat\n",
    "    )\n",
    "\n",
    "    reset_scene(factory_string, scene, agent)\n",
    "        "
   ]
  }
 ],
 "metadata": {
  "kernelspec": {
   "display_name": "benchmark",
   "language": "python",
   "name": "python3"
  },
  "language_info": {
   "codemirror_mode": {
    "name": "ipython",
    "version": 3
   },
   "file_extension": ".py",
   "mimetype": "text/x-python",
   "name": "python",
   "nbconvert_exporter": "python",
   "pygments_lexer": "ipython3",
   "version": "3.9.16"
  },
  "orig_nbformat": 4,
  "vscode": {
   "interpreter": {
    "hash": "96361501184a06229a7d6ad5729629afa32655127681c80903108d359eca8b02"
   }
  }
 },
 "nbformat": 4,
 "nbformat_minor": 2
}
