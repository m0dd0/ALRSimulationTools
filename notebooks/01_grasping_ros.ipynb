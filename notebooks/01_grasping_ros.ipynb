{
 "cells": [
  {
   "cell_type": "code",
   "execution_count": 1,
   "metadata": {},
   "outputs": [
    {
     "name": "stderr",
     "output_type": "stream",
     "text": [
      "pybullet build time: Oct 28 2022 16:11:27\n"
     ]
    },
    {
     "name": "stdout",
     "output_type": "stream",
     "text": [
      "Jupyter environment detected. Enabling Open3D WebVisualizer.\n",
      "[Open3D INFO] WebRTC GUI backend enabled.\n",
      "[Open3D INFO] WebRTCWindowSystem: HTTP handshake server disabled.\n"
     ]
    }
   ],
   "source": [
    "from pathlib import Path\n",
    "import logging\n",
    "import importlib\n",
    "\n",
    "from matplotlib import pyplot as plt\n",
    "import rospy\n",
    "from scipy.spatial.transform import Rotation as R\n",
    "import numpy as np\n",
    "\n",
    "from alr_sim.sims.SimFactory import SimRepository\n",
    "from alr_sim.core import Scene\n",
    "from alr_sim.sims.universal_sim.PrimitiveObjects import Box\n",
    "from alr_sim.sims.mj_beta import MjCamera\n",
    "\n",
    "from alr_simulation_tools.ycb_utils import YCBLoader\n",
    "from alr_simulation_tools.scene_utils import execute_grasping_sequence, create_sample_data, reset_scene\n",
    "\n",
    "import ros_numpy\n",
    "from grasping_benchmarks_ros.srv import (\n",
    "    GraspPlanner,\n",
    "    GraspPlannerRequest,\n",
    "    GraspPlannerResponse,\n",
    ")\n",
    "\n",
    "from grasp_benchmark.utils.ros_utils import (\n",
    "    transform_pc,\n",
    "    create_grasp_planner_request,\n",
    "    calc_point_cloud_from_images\n",
    ") "
   ]
  },
  {
   "cell_type": "code",
   "execution_count": 2,
   "metadata": {},
   "outputs": [],
   "source": [
    "# define scene parameters\n",
    "\n",
    "factory_string = \"mj_beta\"\n",
    "object_pos = (0.5, 0.0, 0.2)\n",
    "adhust_object_position = True\n",
    "cam_pos = (0.5, 0.0, 1)\n",
    "cam_quat = [0.7071067811865476, 0.0, 0.0, -0.7071067811865475]\n",
    "# cam_quat = R.from_euler(\"xyz\", (0, 0, -90), degrees=True).as_quat()[\n",
    "#         [3, 0, 1, 2]\n",
    "#     ].tolist(),\n",
    "# cam_quat = R.from_euler(\"zyx\", (-90, -30, 0), degrees=True).as_quat()[\n",
    "#         [3, 0, 1, 2]\n",
    "#     ].tolist(),\n",
    "# cam_quat = (\n",
    "#     R.from_euler(\"zyx\", (90, 50, 0), degrees=True).as_quat()[[3, 0, 1, 2]].tolist()\n",
    "# )\n",
    "cam_height = 480\n",
    "cam_width = 640\n",
    "robot_pos = (0.0, 0.5, 0.2)\n",
    "robot_quat = (0, 1, 0, 0)\n",
    "render_mode = Scene.RenderMode.HUMAN    \n",
    "wait_time = 0.5\n",
    "move_duration = 2\n",
    "\n",
    "#\n",
    "grasp_planner_service_id = \"grconvnet_bench/grconvnet_grasp_planner_service\""
   ]
  },
  {
   "cell_type": "code",
   "execution_count": 3,
   "metadata": {},
   "outputs": [],
   "source": [
    "# define the objects in the scene\n",
    "ycb_loader = YCBLoader(\n",
    "    ycb_base_folder=Path.home() / \"Documents\" / \"ycb\", factory_string=factory_string\n",
    ")\n",
    "\n",
    "sim_obj, obj_name = ycb_loader.get_ycb_object(\n",
    "    index=9, adjust_object_position=adhust_object_position, pos=object_pos\n",
    ")"
   ]
  },
  {
   "cell_type": "code",
   "execution_count": 4,
   "metadata": {},
   "outputs": [
    {
     "name": "stdout",
     "output_type": "stream",
     "text": [
      "Unable to register with master node [http://localhost:11311]: master may not be running yet. Will keep trying.\n"
     ]
    }
   ],
   "source": [
    "rospy.init_node(\"grasp_planner_client\")\n",
    "\n",
    "importlib.reload(logging)\n",
    "logging.basicConfig(level=logging.INFO)"
   ]
  },
  {
   "cell_type": "code",
   "execution_count": null,
   "metadata": {},
   "outputs": [
    {
     "name": "stderr",
     "output_type": "stream",
     "text": [
      "INFO:root:Starting\n",
      "INFO:root:Skipping broken object 001_chips_can\n",
      "INFO:root:Creating sample data for 002_master_chef_can\n",
      "INFO:root:Sample data created\n",
      "INFO:root:Received grasp candidates\n",
      "INFO:root:Going to home position (0.5, 0, 0.5)\n",
      "INFO:root:Going to hover_ position [0.50652386 0.04717872 0.13799997]\n",
      "INFO:root:Opening gripper\n",
      "INFO:root:Going to grasp position (0.5065238638225237, 0.047178719510564335, 0.0879999709129338)\n",
      "INFO:root:Closing gripper\n",
      "INFO:root:Going to hover position [0.50652386 0.04717872 0.13799997]\n",
      "INFO:root:Going to home position (0.5, 0, 0.5)\n",
      "INFO:root:Going to drop position (0, 0.5, 0.5)\n",
      "INFO:root:Opening gripper\n",
      "INFO:root:Closing gripper\n",
      "INFO:root:Creating sample data for 003_cracker_box\n",
      "INFO:root:Sample data created\n",
      "INFO:root:Received grasp candidates\n",
      "INFO:root:Going to home position (0.5, 0, 0.5)\n",
      "INFO:root:Going to hover_ position [0.51788515 0.03079531 0.21400001]\n",
      "INFO:root:Opening gripper\n",
      "INFO:root:Going to grasp position (0.5178851497626374, 0.030795308067308742, 0.16400000572204623)\n",
      "INFO:root:Closing gripper\n",
      "INFO:root:Going to hover position [0.51788515 0.03079531 0.21400001]\n"
     ]
    },
    {
     "ename": "KeyboardInterrupt",
     "evalue": "",
     "output_type": "error",
     "traceback": [
      "\u001b[0;31m---------------------------------------------------------------------------\u001b[0m",
      "\u001b[0;31mKeyboardInterrupt\u001b[0m                         Traceback (most recent call last)",
      "Cell \u001b[0;32mIn[6], line 60\u001b[0m\n\u001b[1;32m     57\u001b[0m grasp_quat \u001b[39m=\u001b[39m best_grasp\u001b[39m.\u001b[39mpose\u001b[39m.\u001b[39mpose\u001b[39m.\u001b[39morientation\n\u001b[1;32m     58\u001b[0m grasp_quat \u001b[39m=\u001b[39m (grasp_quat\u001b[39m.\u001b[39mw, grasp_quat\u001b[39m.\u001b[39mx, grasp_quat\u001b[39m.\u001b[39my, grasp_quat\u001b[39m.\u001b[39mz)\n\u001b[0;32m---> 60\u001b[0m execute_grasping_sequence(\n\u001b[1;32m     61\u001b[0m     agent \u001b[39m=\u001b[39;49m agent,\n\u001b[1;32m     62\u001b[0m     grasp_pos \u001b[39m=\u001b[39;49m grasp_pos,\n\u001b[1;32m     63\u001b[0m     grasp_quat \u001b[39m=\u001b[39;49m grasp_quat\n\u001b[1;32m     64\u001b[0m )\n\u001b[1;32m     66\u001b[0m reset_scene(factory_string, scene, agent)\n",
      "File \u001b[0;32m~/Documents/ALRSimulationTools/alr_simulation_tools/scene_utils.py:160\u001b[0m, in \u001b[0;36mexecute_grasping_sequence\u001b[0;34m(agent, grasp_pos, grasp_quat, home_pos, home_quat, drop_pos, drop_quat, hover_offset, movement_time, grasp_movement_time, wait_time)\u001b[0m\n\u001b[1;32m    157\u001b[0m agent\u001b[39m.\u001b[39mwait(wait_time)\n\u001b[1;32m    159\u001b[0m logging\u001b[39m.\u001b[39minfo(\u001b[39mf\u001b[39m\u001b[39m\"\u001b[39m\u001b[39mGoing to hover position \u001b[39m\u001b[39m{\u001b[39;00mhover_positon\u001b[39m}\u001b[39;00m\u001b[39m\"\u001b[39m)\n\u001b[0;32m--> 160\u001b[0m agent\u001b[39m.\u001b[39;49mgotoCartPositionAndQuat(\n\u001b[1;32m    161\u001b[0m     hover_positon, grasp_quat, duration\u001b[39m=\u001b[39;49mgrasp_movement_time\n\u001b[1;32m    162\u001b[0m )\n\u001b[1;32m    163\u001b[0m agent\u001b[39m.\u001b[39mwait(wait_time)\n\u001b[1;32m    165\u001b[0m logging\u001b[39m.\u001b[39minfo(\u001b[39mf\u001b[39m\u001b[39m\"\u001b[39m\u001b[39mGoing to home position \u001b[39m\u001b[39m{\u001b[39;00mhome_pos\u001b[39m}\u001b[39;00m\u001b[39m\"\u001b[39m)\n",
      "File \u001b[0;32m~/Documents/SimulationFramework/alr_sim/core/Robots.py:329\u001b[0m, in \u001b[0;36mRobotBase.gotoCartPositionAndQuat\u001b[0;34m(self, desiredPos, desiredQuat, duration, global_coord, block)\u001b[0m\n\u001b[1;32m    324\u001b[0m     desiredQuat \u001b[39m=\u001b[39m \u001b[39mself\u001b[39m\u001b[39m.\u001b[39m_localize_cart_quat(desiredQuat)\n\u001b[1;32m    326\u001b[0m \u001b[39mself\u001b[39m\u001b[39m.\u001b[39mgotoCartPosQuatController\u001b[39m.\u001b[39msetDesiredPos(\n\u001b[1;32m    327\u001b[0m     np\u001b[39m.\u001b[39mhstack((desiredPos, desiredQuat))\n\u001b[1;32m    328\u001b[0m )\n\u001b[0;32m--> 329\u001b[0m \u001b[39mself\u001b[39;49m\u001b[39m.\u001b[39;49mgotoCartPosQuatController\u001b[39m.\u001b[39;49mexecuteController(\u001b[39mself\u001b[39;49m, duration, block\u001b[39m=\u001b[39;49mblock)\n",
      "File \u001b[0;32m~/Documents/SimulationFramework/alr_sim/controllers/Controller.py:78\u001b[0m, in \u001b[0;36mControllerBase.executeController\u001b[0;34m(self, robot, maxDuration, block)\u001b[0m\n\u001b[1;32m     75\u001b[0m robot\u001b[39m.\u001b[39mactiveController \u001b[39m=\u001b[39m \u001b[39mself\u001b[39m\n\u001b[1;32m     77\u001b[0m \u001b[39mif\u001b[39;00m block:\n\u001b[0;32m---> 78\u001b[0m     \u001b[39mself\u001b[39;49m\u001b[39m.\u001b[39;49mrun(robot)\n",
      "File \u001b[0;32m~/Documents/SimulationFramework/alr_sim/controllers/Controller.py:60\u001b[0m, in \u001b[0;36mControllerBase.run\u001b[0;34m(self, robot)\u001b[0m\n\u001b[1;32m     54\u001b[0m \u001b[39m\u001b[39m\u001b[39m\"\"\"Drive the Simulation via the robot.\u001b[39;00m\n\u001b[1;32m     55\u001b[0m \n\u001b[1;32m     56\u001b[0m \u001b[39mArgs:\u001b[39;00m\n\u001b[1;32m     57\u001b[0m \u001b[39m    robot (RobotBase): Robot running the controller\u001b[39;00m\n\u001b[1;32m     58\u001b[0m \u001b[39m\"\"\"\u001b[39;00m\n\u001b[1;32m     59\u001b[0m \u001b[39mwhile\u001b[39;00m \u001b[39mnot\u001b[39;00m \u001b[39mself\u001b[39m\u001b[39m.\u001b[39misFinished(robot):\n\u001b[0;32m---> 60\u001b[0m     robot\u001b[39m.\u001b[39;49mnextStep()\n",
      "File \u001b[0;32m~/Documents/SimulationFramework/alr_sim/core/Robots.py:498\u001b[0m, in \u001b[0;36mRobotBase.nextStep\u001b[0;34m(self)\u001b[0m\n\u001b[1;32m    494\u001b[0m \u001b[39mdef\u001b[39;00m \u001b[39mnextStep\u001b[39m(\u001b[39mself\u001b[39m):\n\u001b[1;32m    495\u001b[0m \u001b[39m    \u001b[39m\u001b[39m\"\"\"legacy method used by the controllers to run the simulation.\u001b[39;00m\n\u001b[1;32m    496\u001b[0m \u001b[39m    The function call is now 'redirected' to the scene to support Multibots.\u001b[39;00m\n\u001b[1;32m    497\u001b[0m \u001b[39m    \"\"\"\u001b[39;00m\n\u001b[0;32m--> 498\u001b[0m     \u001b[39mself\u001b[39;49m\u001b[39m.\u001b[39;49mscene\u001b[39m.\u001b[39;49mnext_step()\n",
      "File \u001b[0;32m~/Documents/SimulationFramework/alr_sim/core/Scene.py:131\u001b[0m, in \u001b[0;36mScene.next_step\u001b[0;34m(self)\u001b[0m\n\u001b[1;32m    129\u001b[0m \u001b[39mfor\u001b[39;00m rb \u001b[39min\u001b[39;00m \u001b[39mself\u001b[39m\u001b[39m.\u001b[39mrobots:\n\u001b[1;32m    130\u001b[0m     rb\u001b[39m.\u001b[39mtick()\n\u001b[0;32m--> 131\u001b[0m     rb\u001b[39m.\u001b[39;49mreceiveState()\n\u001b[1;32m    133\u001b[0m \u001b[39mfor\u001b[39;00m call_back, kwargs \u001b[39min\u001b[39;00m \u001b[39mself\u001b[39m\u001b[39m.\u001b[39mstep_callbacks:\n\u001b[1;32m    134\u001b[0m     call_back(\u001b[39m*\u001b[39m\u001b[39m*\u001b[39mkwargs)\n",
      "File \u001b[0;32m~/Documents/SimulationFramework/alr_sim/sims/mj_beta/MjRobot.py:177\u001b[0m, in \u001b[0;36mMjRobot.receiveState\u001b[0;34m(self)\u001b[0m\n\u001b[1;32m    175\u001b[0m \u001b[39m### ENDEFFECTOR GLOBAL\u001b[39;00m\n\u001b[1;32m    176\u001b[0m \u001b[39mself\u001b[39m\u001b[39m.\u001b[39mcurrent_c_pos_global \u001b[39m=\u001b[39m \u001b[39mself\u001b[39m\u001b[39m.\u001b[39mscene\u001b[39m.\u001b[39mdata\u001b[39m.\u001b[39mbody(tcp_name)\u001b[39m.\u001b[39mxpos\u001b[39m.\u001b[39mcopy()\n\u001b[0;32m--> 177\u001b[0m \u001b[39mself\u001b[39m\u001b[39m.\u001b[39mcurrent_c_vel_global \u001b[39m=\u001b[39m get_body_xvelp(\n\u001b[1;32m    178\u001b[0m     \u001b[39mself\u001b[39;49m\u001b[39m.\u001b[39;49mscene\u001b[39m.\u001b[39;49mmodel,\n\u001b[1;32m    179\u001b[0m     \u001b[39mself\u001b[39;49m\u001b[39m.\u001b[39;49mscene\u001b[39m.\u001b[39;49mdata,\n\u001b[1;32m    180\u001b[0m     tcp_name,\n\u001b[1;32m    181\u001b[0m )\n\u001b[1;32m    182\u001b[0m \u001b[39mself\u001b[39m\u001b[39m.\u001b[39mcurrent_c_quat_global \u001b[39m=\u001b[39m \u001b[39mself\u001b[39m\u001b[39m.\u001b[39mscene\u001b[39m.\u001b[39mdata\u001b[39m.\u001b[39mbody(tcp_name)\u001b[39m.\u001b[39mxquat\u001b[39m.\u001b[39mcopy()\n\u001b[1;32m    183\u001b[0m \u001b[39mself\u001b[39m\u001b[39m.\u001b[39mcurrent_c_quat_vel_global \u001b[39m=\u001b[39m np\u001b[39m.\u001b[39mzeros(\u001b[39m4\u001b[39m)\n",
      "File \u001b[0;32m~/Documents/SimulationFramework/alr_sim/sims/mj_beta/mj_utils/mj_helper.py:115\u001b[0m, in \u001b[0;36mget_body_xvelp\u001b[0;34m(model, data, name)\u001b[0m\n\u001b[1;32m    114\u001b[0m \u001b[39mdef\u001b[39;00m \u001b[39mget_body_xvelp\u001b[39m(model, data, name):\n\u001b[0;32m--> 115\u001b[0m     jacp \u001b[39m=\u001b[39m get_body_jacp(model, data, name)\u001b[39m.\u001b[39;49mreshape((\u001b[39m3\u001b[39;49m, model\u001b[39m.\u001b[39;49mnv))\n\u001b[1;32m    116\u001b[0m     xvelp \u001b[39m=\u001b[39m np\u001b[39m.\u001b[39mdot(jacp, data\u001b[39m.\u001b[39mqvel\u001b[39m.\u001b[39mcopy())\n\u001b[1;32m    117\u001b[0m     \u001b[39mreturn\u001b[39;00m xvelp\n",
      "\u001b[0;31mKeyboardInterrupt\u001b[0m: "
     ]
    },
    {
     "ename": "",
     "evalue": "",
     "output_type": "error",
     "traceback": [
      "\u001b[1;31mThe Kernel crashed while executing code in the the current cell or a previous cell. Please review the code in the cell(s) to identify a possible cause of the failure. Click <a href='https://aka.ms/vscodeJupyterKernelCrash'>here</a> for more info. View Jupyter <a href='command:jupyter.viewOutput'>log</a> for further details."
     ]
    }
   ],
   "source": [
    "logging.info(\"Starting\")\n",
    "# for i in range(len(ycb_loader)):\n",
    "for i in [1]:\n",
    "    if ycb_loader.is_broken(i):\n",
    "        logging.info(f\"Skipping broken object {ycb_loader.get_obj_name(i)}\")\n",
    "        continue\n",
    "    logging.info(f\"Creating sample data for {ycb_loader.get_obj_name(i)}\")\n",
    "\n",
    "\n",
    "    sim_obj, name = ycb_loader.get_ycb_object(\n",
    "        index=i, adjust_object_position=adhust_object_position, pos=object_pos\n",
    "    )\n",
    "\n",
    "    results, scene, agent = create_sample_data(\n",
    "        factory_string=factory_string,\n",
    "        cam_pos=cam_pos,\n",
    "        cam_quat=cam_quat,\n",
    "        cam_height=cam_height,\n",
    "        cam_width=cam_width,\n",
    "        robot_pos=robot_pos,\n",
    "        robot_quat=robot_quat,\n",
    "        object_list=[sim_obj],\n",
    "        target_obj_name=name,\n",
    "        render_mode=render_mode,\n",
    "        wait_time=wait_time,\n",
    "        move_duration=move_duration,\n",
    "    )\n",
    "    logging.info(\"Sample data created\")\n",
    "\n",
    "    pc_points, pc_colors = calc_point_cloud_from_images(\n",
    "        rgb_img=results[\"rgb_img\"], depth_img=results[\"depth_img\"], cam_intrinsics=results[\"cam_intrinsics\"]\n",
    "    )\n",
    "\n",
    "    grasp_req = create_grasp_planner_request(\n",
    "        rgb_img=results[\"rgb_img\"],\n",
    "        depth_img=results[\"depth_img\"],\n",
    "        seg_img=results[\"seg_img\"],\n",
    "        pc_points=pc_points,\n",
    "        pc_colors=pc_colors,\n",
    "        cam_pos=results[\"cam_pos\"],\n",
    "        cam_quat=results[\"cam_quat\"],\n",
    "        cam_intrinsics=results[\"cam_intrinsics\"],\n",
    "        cam_height=cam_height,\n",
    "        cam_width=cam_width,\n",
    "        num_of_candidates=10_000,\n",
    "    )\n",
    "\n",
    "    rospy.wait_for_service(grasp_planner_service_id, timeout=30.0)\n",
    "    grasp_planner = rospy.ServiceProxy(grasp_planner_service_id, GraspPlanner)\n",
    "\n",
    "    reply: GraspPlannerResponse = grasp_planner(grasp_req)\n",
    "    logging.info(\"Received grasp candidates\")\n",
    "\n",
    "    best_grasp = sorted(reply.grasp_candidates, key=lambda x: x.score.data)[-1]\n",
    "    grasp_pos = best_grasp.pose.pose.position\n",
    "    grasp_pos = (grasp_pos.x, grasp_pos.y, grasp_pos.z)\n",
    "    grasp_quat = best_grasp.pose.pose.orientation\n",
    "    grasp_quat = (grasp_quat.w, grasp_quat.x, grasp_quat.y, grasp_quat.z)\n",
    "\n",
    "    execute_grasping_sequence(\n",
    "        agent = agent,\n",
    "        grasp_pos = grasp_pos,\n",
    "        grasp_quat = grasp_quat\n",
    "    )\n",
    "\n",
    "    reset_scene(factory_string, scene, agent)\n",
    "        "
   ]
  }
 ],
 "metadata": {
  "kernelspec": {
   "display_name": "Python 3",
   "language": "python",
   "name": "python3"
  },
  "language_info": {
   "codemirror_mode": {
    "name": "ipython",
    "version": 3
   },
   "file_extension": ".py",
   "mimetype": "text/x-python",
   "name": "python",
   "nbconvert_exporter": "python",
   "pygments_lexer": "ipython3",
   "version": "3.10.9"
  },
  "orig_nbformat": 4,
  "vscode": {
   "interpreter": {
    "hash": "ef7e1541b8e7b6b5672ac838d3c045be09c9245709d40ce12336bbbdd1b51144"
   }
  }
 },
 "nbformat": 4,
 "nbformat_minor": 2
}
