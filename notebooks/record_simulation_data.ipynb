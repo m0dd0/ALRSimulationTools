{
 "cells": [
  {
   "cell_type": "markdown",
   "metadata": {},
   "source": [
    "This notebook sets up a simulation scene with a ycb object, records relevant camera data and saves the captured data in a serialized format to the drive."
   ]
  },
  {
   "cell_type": "code",
   "execution_count": 2,
   "metadata": {},
   "outputs": [],
   "source": [
    "from pathlib import Path\n",
    "import importlib\n",
    "import logging\n",
    "\n",
    "from alr_sim.core import Scene\n",
    "\n",
    "from alr_sim_tools.ycb_utils import YCBLoader\n",
    "from alr_sim_tools.scene_utils import (\n",
    "    record_camera_data,\n",
    "    reset_scene,\n",
    ")\n",
    "from alr_sim_tools.ros_utils import (\n",
    "    create_grasp_planner_request\n",
    ")\n",
    "\n",
    "import rospy"
   ]
  },
  {
   "cell_type": "code",
   "execution_count": 3,
   "metadata": {},
   "outputs": [],
   "source": [
    "FACTORY_STRING = \"mj_beta\"\n",
    "OBJECT_POS = (0.5, 0.0, 0.2)\n",
    "CAM_POS = (0.5, 0.0, 1)\n",
    "CAM_QUAT = [0.7071067811865476, 0.0, 0.0, -0.7071067811865475]\n",
    "CAM_HEIGHT = 480\n",
    "CAM_WIDTH = 640\n",
    "ROBOT_POS = (0.0, 0.5, 0.2)\n",
    "ROBOT_QUAT = (0, 1, 0, 0)\n",
    "RENDER_MODE = Scene.RenderMode.HUMAN    \n",
    "DATA_RECORDING_WAIT_TIME = 0.5\n",
    "DATA_RECORDING_MOVE_TIME = 2\n",
    "GRASP_PLANNER_SERVICE_ID = \"contact_bench/contact_grasp_planner_service\"\n",
    "\n",
    "YCB_FOLDER = Path.home() / \"Documents\" / \"SF-ObjectDataset\" / \"YCB\"\n",
    "YCB_OBJECT_ID = \"011_banana\""
   ]
  },
  {
   "cell_type": "code",
   "execution_count": 4,
   "metadata": {},
   "outputs": [],
   "source": [
    "ycb_loader = YCBLoader(ycb_base_folder=YCB_FOLDER, factory_string=\"mj_beta\")\n",
    "\n",
    "sim_obj = ycb_loader.get_ycb_object(\n",
    "    pos=(0.5, 0.0, 0.2), quat=(0, 1, 0, 0), obj_id=YCB_OBJECT_ID, name=YCB_OBJECT_ID\n",
    ")"
   ]
  },
  {
   "cell_type": "code",
   "execution_count": 5,
   "metadata": {},
   "outputs": [
    {
     "name": "stdout",
     "output_type": "stream",
     "text": [
      "WARNING: mju_openResource: could not open resource '/home/moritz/Documents/SimulationFramework/models/mj/robot/panda_tmp_rb0_dbc0458e-c4cb-11ee-a193-c8ff282b54dd.xml' with default provider at slot 1\n",
      "\n"
     ]
    }
   ],
   "source": [
    "camera_data, scene, agent = record_camera_data(\n",
    "    factory_string=FACTORY_STRING,\n",
    "    cam_pos=CAM_POS,\n",
    "    cam_quat=CAM_QUAT,\n",
    "    cam_height=CAM_HEIGHT,\n",
    "    cam_width=CAM_WIDTH,\n",
    "    robot_pos=ROBOT_POS,\n",
    "    robot_quat=ROBOT_QUAT,\n",
    "    object_list=[sim_obj],\n",
    "    target_obj_name=YCB_OBJECT_ID,\n",
    "    render_mode=RENDER_MODE,\n",
    "    wait_time=DATA_RECORDING_WAIT_TIME,\n",
    "    move_duration=DATA_RECORDING_MOVE_TIME,\n",
    ")\n",
    "reset_scene(FACTORY_STRING, scene, agent)"
   ]
  },
  {
   "cell_type": "code",
   "execution_count": 6,
   "metadata": {},
   "outputs": [
    {
     "name": "stdout",
     "output_type": "stream",
     "text": [
      "Unable to register with master node [http://localhost:11311]: master may not be running yet. Will keep trying.\n"
     ]
    }
   ],
   "source": [
    "rospy.init_node(\"grasp_planner_client\")\n",
    "importlib.reload(logging)\n",
    "logging.basicConfig(level=logging.INFO)"
   ]
  },
  {
   "cell_type": "code",
   "execution_count": 8,
   "metadata": {},
   "outputs": [
    {
     "ename": "AttributeError",
     "evalue": "'GraspPlannerRequest' object has no attribute 'header'",
     "output_type": "error",
     "traceback": [
      "\u001b[0;31m---------------------------------------------------------------------------\u001b[0m",
      "\u001b[0;31mAttributeError\u001b[0m                            Traceback (most recent call last)",
      "Cell \u001b[0;32mIn[8], line 1\u001b[0m\n\u001b[0;32m----> 1\u001b[0m grasp_req \u001b[38;5;241m=\u001b[39m \u001b[43mcreate_grasp_planner_request\u001b[49m\u001b[43m(\u001b[49m\n\u001b[1;32m      2\u001b[0m \u001b[43m    \u001b[49m\u001b[43mrgb_img\u001b[49m\u001b[38;5;241;43m=\u001b[39;49m\u001b[43mcamera_data\u001b[49m\u001b[38;5;241;43m.\u001b[39;49m\u001b[43mrgb_img\u001b[49m\u001b[43m,\u001b[49m\n\u001b[1;32m      3\u001b[0m \u001b[43m    \u001b[49m\u001b[43mdepth_img\u001b[49m\u001b[38;5;241;43m=\u001b[39;49m\u001b[43mcamera_data\u001b[49m\u001b[38;5;241;43m.\u001b[39;49m\u001b[43mdepth_img\u001b[49m\u001b[43m,\u001b[49m\n\u001b[1;32m      4\u001b[0m \u001b[43m    \u001b[49m\u001b[43mseg_img\u001b[49m\u001b[38;5;241;43m=\u001b[39;49m\u001b[43mcamera_data\u001b[49m\u001b[38;5;241;43m.\u001b[39;49m\u001b[43mseg_img\u001b[49m\u001b[43m,\u001b[49m\n\u001b[1;32m      5\u001b[0m \u001b[43m    \u001b[49m\u001b[43mpc_points\u001b[49m\u001b[38;5;241;43m=\u001b[39;49m\u001b[43mcamera_data\u001b[49m\u001b[38;5;241;43m.\u001b[39;49m\u001b[43mpoint_cloud_points\u001b[49m\u001b[43m,\u001b[49m\n\u001b[1;32m      6\u001b[0m \u001b[43m    \u001b[49m\u001b[43mpc_colors\u001b[49m\u001b[38;5;241;43m=\u001b[39;49m\u001b[43mcamera_data\u001b[49m\u001b[38;5;241;43m.\u001b[39;49m\u001b[43mpoint_cloud_colors\u001b[49m\u001b[43m,\u001b[49m\n\u001b[1;32m      7\u001b[0m \u001b[43m    \u001b[49m\u001b[43mcam_pos\u001b[49m\u001b[38;5;241;43m=\u001b[39;49m\u001b[43mcamera_data\u001b[49m\u001b[38;5;241;43m.\u001b[39;49m\u001b[43mcam_pos\u001b[49m\u001b[43m,\u001b[49m\n\u001b[1;32m      8\u001b[0m \u001b[43m    \u001b[49m\u001b[43mcam_quat\u001b[49m\u001b[38;5;241;43m=\u001b[39;49m\u001b[43mcamera_data\u001b[49m\u001b[38;5;241;43m.\u001b[39;49m\u001b[43mcam_quat\u001b[49m\u001b[43m,\u001b[49m\n\u001b[1;32m      9\u001b[0m \u001b[43m    \u001b[49m\u001b[43mcam_intrinsics\u001b[49m\u001b[38;5;241;43m=\u001b[39;49m\u001b[43mcamera_data\u001b[49m\u001b[38;5;241;43m.\u001b[39;49m\u001b[43mcam_intrinsics\u001b[49m\u001b[43m,\u001b[49m\n\u001b[1;32m     10\u001b[0m \u001b[43m    \u001b[49m\u001b[43mcam_height\u001b[49m\u001b[38;5;241;43m=\u001b[39;49m\u001b[43mCAM_HEIGHT\u001b[49m\u001b[43m,\u001b[49m\n\u001b[1;32m     11\u001b[0m \u001b[43m    \u001b[49m\u001b[43mcam_width\u001b[49m\u001b[38;5;241;43m=\u001b[39;49m\u001b[43mCAM_WIDTH\u001b[49m\u001b[43m,\u001b[49m\n\u001b[1;32m     12\u001b[0m \u001b[43m    \u001b[49m\u001b[43mnum_of_candidates\u001b[49m\u001b[38;5;241;43m=\u001b[39;49m\u001b[38;5;241;43m1\u001b[39;49m\u001b[43m,\u001b[49m\n\u001b[1;32m     13\u001b[0m \u001b[43m)\u001b[49m\n",
      "File \u001b[0;32m~/Documents/ALRSimulationTools/alr_sim_tools/ros_utils.py:72\u001b[0m, in \u001b[0;36mcreate_grasp_planner_request\u001b[0;34m(rgb_img, depth_img, seg_img, pc_points, pc_colors, cam_pos, cam_quat, cam_intrinsics, cam_height, cam_width, num_of_candidates)\u001b[0m\n\u001b[1;32m     70\u001b[0m header\u001b[38;5;241m.\u001b[39mstamp \u001b[38;5;241m=\u001b[39m rospy\u001b[38;5;241m.\u001b[39mTime\u001b[38;5;241m.\u001b[39mnow()\n\u001b[1;32m     71\u001b[0m header\u001b[38;5;241m.\u001b[39mframe_id \u001b[38;5;241m=\u001b[39m \u001b[38;5;124m\"\u001b[39m\u001b[38;5;124mrgbd_cam\u001b[39m\u001b[38;5;124m\"\u001b[39m\n\u001b[0;32m---> 72\u001b[0m \u001b[43mplanner_req\u001b[49m\u001b[38;5;241;43m.\u001b[39;49m\u001b[43mheader\u001b[49m \u001b[38;5;241m=\u001b[39m header\n\u001b[1;32m     74\u001b[0m planner_req\u001b[38;5;241m.\u001b[39mcolor_image \u001b[38;5;241m=\u001b[39m ros_numpy\u001b[38;5;241m.\u001b[39mmsgify(Image, rgb_img, \u001b[38;5;124m\"\u001b[39m\u001b[38;5;124mrgb8\u001b[39m\u001b[38;5;124m\"\u001b[39m)\n\u001b[1;32m     76\u001b[0m planner_req\u001b[38;5;241m.\u001b[39mdepth_image \u001b[38;5;241m=\u001b[39m ros_numpy\u001b[38;5;241m.\u001b[39mmsgify(\n\u001b[1;32m     77\u001b[0m     Image, (depth_img \u001b[38;5;241m*\u001b[39m \u001b[38;5;241m1000\u001b[39m)\u001b[38;5;241m.\u001b[39mastype(\u001b[38;5;124m\"\u001b[39m\u001b[38;5;124muint16\u001b[39m\u001b[38;5;124m\"\u001b[39m), \u001b[38;5;124m\"\u001b[39m\u001b[38;5;124m16UC1\u001b[39m\u001b[38;5;124m\"\u001b[39m\n\u001b[1;32m     78\u001b[0m )\n",
      "\u001b[0;31mAttributeError\u001b[0m: 'GraspPlannerRequest' object has no attribute 'header'"
     ]
    }
   ],
   "source": [
    "grasp_req = create_grasp_planner_request(\n",
    "    rgb_img=camera_data.rgb_img,\n",
    "    depth_img=camera_data.depth_img,\n",
    "    seg_img=camera_data.seg_img,\n",
    "    pc_points=camera_data.point_cloud_points,\n",
    "    pc_colors=camera_data.point_cloud_colors,\n",
    "    cam_pos=camera_data.cam_pos,\n",
    "    cam_quat=camera_data.cam_quat,\n",
    "    cam_intrinsics=camera_data.cam_intrinsics,\n",
    "    cam_height=CAM_HEIGHT,\n",
    "    cam_width=CAM_WIDTH,\n",
    "    num_of_candidates=1,\n",
    ")"
   ]
  },
  {
   "cell_type": "code",
   "execution_count": null,
   "metadata": {},
   "outputs": [],
   "source": []
  }
 ],
 "metadata": {
  "kernelspec": {
   "display_name": "alr_tools",
   "language": "python",
   "name": "python3"
  },
  "language_info": {
   "codemirror_mode": {
    "name": "ipython",
    "version": 3
   },
   "file_extension": ".py",
   "mimetype": "text/x-python",
   "name": "python",
   "nbconvert_exporter": "python",
   "pygments_lexer": "ipython3",
   "version": "3.9.18"
  }
 },
 "nbformat": 4,
 "nbformat_minor": 2
}
