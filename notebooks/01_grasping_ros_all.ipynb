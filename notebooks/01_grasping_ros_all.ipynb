{
 "cells": [
  {
   "cell_type": "code",
   "execution_count": 1,
   "metadata": {},
   "outputs": [
    {
     "name": "stderr",
     "output_type": "stream",
     "text": [
      "pybullet build time: Oct 28 2022 16:11:27\n"
     ]
    },
    {
     "name": "stdout",
     "output_type": "stream",
     "text": [
      "Jupyter environment detected. Enabling Open3D WebVisualizer.\n",
      "[Open3D INFO] WebRTC GUI backend enabled.\n",
      "[Open3D INFO] WebRTCWindowSystem: HTTP handshake server disabled.\n"
     ]
    }
   ],
   "source": [
    "from pathlib import Path\n",
    "import logging\n",
    "import importlib\n",
    "\n",
    "import rospy\n",
    "from scipy.spatial.transform import Rotation as R\n",
    "\n",
    "from alr_sim.core import Scene\n",
    "\n",
    "from grasp_benchmark.utils.ycb_utils import YCBLoader\n",
    "from alr_simulation_tools.scene_utils import execute_grasping_sequence, create_sample_data, reset_scene\n",
    "\n",
    "from grasping_benchmarks_ros.srv import (\n",
    "    GraspPlanner,\n",
    "    GraspPlannerResponse,\n",
    ")\n",
    "\n",
    "from grasp_benchmark.utils.ros_utils import (\n",
    "    create_grasp_planner_request,\n",
    "    calc_point_cloud_from_images\n",
    ") "
   ]
  },
  {
   "cell_type": "code",
   "execution_count": 2,
   "metadata": {},
   "outputs": [],
   "source": [
    "# define scene parameters\n",
    "\n",
    "factory_string = \"mj_beta\"\n",
    "object_pos = (0.5, 0.0, 0.2)\n",
    "adhust_object_position = True\n",
    "cam_pos = (0.5, 0.0, 1)\n",
    "cam_quat = [0.7071067811865476, 0.0, 0.0, -0.7071067811865475]\n",
    "# cam_quat = R.from_euler(\"xyz\", (0, 0, -90), degrees=True).as_quat()[\n",
    "#         [3, 0, 1, 2]\n",
    "#     ].tolist(),\n",
    "# cam_quat = R.from_euler(\"zyx\", (-90, -30, 0), degrees=True).as_quat()[\n",
    "#         [3, 0, 1, 2]\n",
    "#     ].tolist(),\n",
    "# cam_quat = (\n",
    "#     R.from_euler(\"zyx\", (90, 50, 0), degrees=True).as_quat()[[3, 0, 1, 2]].tolist()\n",
    "# )\n",
    "cam_height = 480\n",
    "cam_width = 640\n",
    "robot_pos = (0.0, 0.5, 0.2)\n",
    "robot_quat = (0, 1, 0, 0)\n",
    "render_mode = Scene.RenderMode.HUMAN    \n",
    "wait_time = 0.5\n",
    "move_duration = 2\n",
    "\n",
    "#\n",
    "# grasp_planner_service_id = \"grconvnet_bench/grconvnet_grasp_planner_service\"\n",
    "# grasp_planner_service_id = \"ggcnn_bench/ggcnn_grasp_planner_service\"\n",
    "grasp_planner_service_id = \"contact_bench/contact_grasp_planner_service\"\n"
   ]
  },
  {
   "cell_type": "code",
   "execution_count": 3,
   "metadata": {},
   "outputs": [],
   "source": [
    "ycb_loader = YCBLoader(\n",
    "    ycb_base_folder=Path.home() / \"Documents\" / \"SF-ObjectDataset\" / \"YCB\", factory_string=\"mj_beta\"\n",
    ")\n",
    "# obj_ids = [p.name for p in ycb_loader.ycb_base_folder.iterdir() if p.is_dir()]\n",
    "obj_ids = [\"011_banana\"]"
   ]
  },
  {
   "cell_type": "code",
   "execution_count": 4,
   "metadata": {},
   "outputs": [],
   "source": [
    "rospy.init_node(\"grasp_planner_client\")\n",
    "\n",
    "importlib.reload(logging)\n",
    "logging.basicConfig(level=logging.INFO)"
   ]
  },
  {
   "cell_type": "code",
   "execution_count": 5,
   "metadata": {},
   "outputs": [
    {
     "name": "stderr",
     "output_type": "stream",
     "text": [
      "INFO:root:Starting\n",
      "INFO:root:Creating sample data for 011_banana\n",
      "INFO:root:Sample data created\n",
      "INFO:root:Created request, sending request ...\n"
     ]
    },
    {
     "ename": "ServiceException",
     "evalue": "service [/contact_bench/contact_grasp_planner_service] responded with an error: b\"error processing request: __call__() missing 2 required positional arguments: 'cam_pos' and 'cam_rot'\"",
     "output_type": "error",
     "traceback": [
      "\u001b[0;31m---------------------------------------------------------------------------\u001b[0m",
      "\u001b[0;31mServiceException\u001b[0m                          Traceback (most recent call last)",
      "Cell \u001b[0;32mIn[5], line 47\u001b[0m\n\u001b[1;32m     44\u001b[0m rospy\u001b[39m.\u001b[39mwait_for_service(grasp_planner_service_id, timeout\u001b[39m=\u001b[39m\u001b[39m30.0\u001b[39m)\n\u001b[1;32m     45\u001b[0m grasp_planner \u001b[39m=\u001b[39m rospy\u001b[39m.\u001b[39mServiceProxy(grasp_planner_service_id, GraspPlanner)\n\u001b[0;32m---> 47\u001b[0m reply: GraspPlannerResponse \u001b[39m=\u001b[39m grasp_planner(grasp_req)\n\u001b[1;32m     48\u001b[0m logging\u001b[39m.\u001b[39minfo(\u001b[39m\"\u001b[39m\u001b[39mReceived grasp candidates\u001b[39m\u001b[39m\"\u001b[39m)\n\u001b[1;32m     50\u001b[0m best_grasp \u001b[39m=\u001b[39m \u001b[39msorted\u001b[39m(reply\u001b[39m.\u001b[39mgrasp_candidates, key\u001b[39m=\u001b[39m\u001b[39mlambda\u001b[39;00m x: x\u001b[39m.\u001b[39mscore\u001b[39m.\u001b[39mdata)[\u001b[39m-\u001b[39m\u001b[39m1\u001b[39m]\n",
      "File \u001b[0;32m/opt/ros/noetic/lib/python3/dist-packages/rospy/impl/tcpros_service.py:442\u001b[0m, in \u001b[0;36mServiceProxy.__call__\u001b[0;34m(self, *args, **kwds)\u001b[0m\n\u001b[1;32m    428\u001b[0m \u001b[39mdef\u001b[39;00m \u001b[39m__call__\u001b[39m(\u001b[39mself\u001b[39m, \u001b[39m*\u001b[39margs, \u001b[39m*\u001b[39m\u001b[39m*\u001b[39mkwds):\n\u001b[1;32m    429\u001b[0m \u001b[39m    \u001b[39m\u001b[39m\"\"\"\u001b[39;00m\n\u001b[1;32m    430\u001b[0m \u001b[39m    Callable-style version of the service API. This accepts either a request message instance,\u001b[39;00m\n\u001b[1;32m    431\u001b[0m \u001b[39m    or you can call directly with arguments to create a new request instance. e.g.::\u001b[39;00m\n\u001b[0;32m   (...)\u001b[0m\n\u001b[1;32m    440\u001b[0m \u001b[39m    message. This is usually a type error with one of the fields.\u001b[39;00m\n\u001b[1;32m    441\u001b[0m \u001b[39m    \"\"\"\u001b[39;00m\n\u001b[0;32m--> 442\u001b[0m     \u001b[39mreturn\u001b[39;00m \u001b[39mself\u001b[39;49m\u001b[39m.\u001b[39;49mcall(\u001b[39m*\u001b[39;49margs, \u001b[39m*\u001b[39;49m\u001b[39m*\u001b[39;49mkwds)\n",
      "File \u001b[0;32m/opt/ros/noetic/lib/python3/dist-packages/rospy/impl/tcpros_service.py:523\u001b[0m, in \u001b[0;36mServiceProxy.call\u001b[0;34m(self, *args, **kwds)\u001b[0m\n\u001b[1;32m    520\u001b[0m transport\u001b[39m.\u001b[39msend_message(request, \u001b[39mself\u001b[39m\u001b[39m.\u001b[39mseq)\n\u001b[1;32m    522\u001b[0m \u001b[39mtry\u001b[39;00m:\n\u001b[0;32m--> 523\u001b[0m     responses \u001b[39m=\u001b[39m transport\u001b[39m.\u001b[39;49mreceive_once()\n\u001b[1;32m    524\u001b[0m     \u001b[39mif\u001b[39;00m \u001b[39mlen\u001b[39m(responses) \u001b[39m==\u001b[39m \u001b[39m0\u001b[39m:\n\u001b[1;32m    525\u001b[0m         \u001b[39mraise\u001b[39;00m ServiceException(\u001b[39m\"\u001b[39m\u001b[39mservice [\u001b[39m\u001b[39m%s\u001b[39;00m\u001b[39m] returned no response\u001b[39m\u001b[39m\"\u001b[39m\u001b[39m%\u001b[39m\u001b[39mself\u001b[39m\u001b[39m.\u001b[39mresolved_name)\n",
      "File \u001b[0;32m/opt/ros/noetic/lib/python3/dist-packages/rospy/impl/tcpros_base.py:742\u001b[0m, in \u001b[0;36mTCPROSTransport.receive_once\u001b[0;34m(self)\u001b[0m\n\u001b[1;32m    740\u001b[0m \u001b[39mwhile\u001b[39;00m \u001b[39mnot\u001b[39;00m msg_queue \u001b[39mand\u001b[39;00m \u001b[39mnot\u001b[39;00m \u001b[39mself\u001b[39m\u001b[39m.\u001b[39mdone \u001b[39mand\u001b[39;00m \u001b[39mnot\u001b[39;00m is_shutdown():\n\u001b[1;32m    741\u001b[0m     \u001b[39mif\u001b[39;00m b\u001b[39m.\u001b[39mtell() \u001b[39m>\u001b[39m\u001b[39m=\u001b[39m \u001b[39m4\u001b[39m:\n\u001b[0;32m--> 742\u001b[0m         p\u001b[39m.\u001b[39;49mread_messages(b, msg_queue, sock) \n\u001b[1;32m    743\u001b[0m     \u001b[39mif\u001b[39;00m \u001b[39mnot\u001b[39;00m msg_queue:\n\u001b[1;32m    744\u001b[0m         \u001b[39mself\u001b[39m\u001b[39m.\u001b[39mstat_bytes \u001b[39m+\u001b[39m\u001b[39m=\u001b[39m recv_buff(sock, b, p\u001b[39m.\u001b[39mbuff_size)\n",
      "File \u001b[0;32m/opt/ros/noetic/lib/python3/dist-packages/rospy/impl/tcpros_service.py:360\u001b[0m, in \u001b[0;36mTCPROSServiceClient.read_messages\u001b[0;34m(self, b, msg_queue, sock)\u001b[0m\n\u001b[1;32m    348\u001b[0m \u001b[39mdef\u001b[39;00m \u001b[39mread_messages\u001b[39m(\u001b[39mself\u001b[39m, b, msg_queue, sock):\n\u001b[1;32m    349\u001b[0m \u001b[39m    \u001b[39m\u001b[39m\"\"\"\u001b[39;00m\n\u001b[1;32m    350\u001b[0m \u001b[39m    In service implementation, reads in OK byte that precedes each\u001b[39;00m\n\u001b[1;32m    351\u001b[0m \u001b[39m    response. The OK byte allows for the passing of error messages\u001b[39;00m\n\u001b[0;32m   (...)\u001b[0m\n\u001b[1;32m    358\u001b[0m \u001b[39m    @type  sock: socket.socket\u001b[39;00m\n\u001b[1;32m    359\u001b[0m \u001b[39m    \"\"\"\u001b[39;00m\n\u001b[0;32m--> 360\u001b[0m     \u001b[39mself\u001b[39;49m\u001b[39m.\u001b[39;49m_read_ok_byte(b, sock)\n\u001b[1;32m    361\u001b[0m     rospy\u001b[39m.\u001b[39mmsg\u001b[39m.\u001b[39mdeserialize_messages(b, msg_queue, \u001b[39mself\u001b[39m\u001b[39m.\u001b[39mrecv_data_class, queue_size\u001b[39m=\u001b[39m\u001b[39mself\u001b[39m\u001b[39m.\u001b[39mqueue_size, max_msgs\u001b[39m=\u001b[39m\u001b[39m1\u001b[39m, start\u001b[39m=\u001b[39m\u001b[39m1\u001b[39m) \u001b[39m#rospy.msg\u001b[39;00m\n\u001b[1;32m    362\u001b[0m     \u001b[39m#deserialize_messages only resets the buffer to the start\u001b[39;00m\n\u001b[1;32m    363\u001b[0m     \u001b[39m#point if everything was consumed, so we have to further reset\u001b[39;00m\n\u001b[1;32m    364\u001b[0m     \u001b[39m#it.\u001b[39;00m\n",
      "File \u001b[0;32m/opt/ros/noetic/lib/python3/dist-packages/rospy/impl/tcpros_service.py:343\u001b[0m, in \u001b[0;36mTCPROSServiceClient._read_ok_byte\u001b[0;34m(self, b, sock)\u001b[0m\n\u001b[1;32m    341\u001b[0m     b\u001b[39m.\u001b[39mseek(\u001b[39m0\u001b[39m)\n\u001b[1;32m    342\u001b[0m     b\u001b[39m.\u001b[39mtruncate(\u001b[39m0\u001b[39m)\n\u001b[0;32m--> 343\u001b[0m     \u001b[39mraise\u001b[39;00m ServiceException(\u001b[39m\"\u001b[39m\u001b[39mservice [\u001b[39m\u001b[39m%s\u001b[39;00m\u001b[39m] responded with an error: \u001b[39m\u001b[39m%s\u001b[39;00m\u001b[39m\"\u001b[39m\u001b[39m%\u001b[39m(\u001b[39mself\u001b[39m\u001b[39m.\u001b[39mresolved_name, \u001b[39mstr\u001b[39m))\n\u001b[1;32m    344\u001b[0m \u001b[39melse\u001b[39;00m:\n\u001b[1;32m    345\u001b[0m     \u001b[39m# success, set seek point to start of message\u001b[39;00m\n\u001b[1;32m    346\u001b[0m     b\u001b[39m.\u001b[39mseek(pos)\n",
      "\u001b[0;31mServiceException\u001b[0m: service [/contact_bench/contact_grasp_planner_service] responded with an error: b\"error processing request: __call__() missing 2 required positional arguments: 'cam_pos' and 'cam_rot'\""
     ]
    },
    {
     "ename": "",
     "evalue": "",
     "output_type": "error",
     "traceback": [
      "\u001b[1;31mThe Kernel crashed while executing code in the the current cell or a previous cell. Please review the code in the cell(s) to identify a possible cause of the failure. Click <a href='https://aka.ms/vscodeJupyterKernelCrash'>here</a> for more info. View Jupyter <a href='command:jupyter.viewOutput'>log</a> for further details."
     ]
    }
   ],
   "source": [
    "logging.info(\"Starting\")\n",
    "for obj_id in obj_ids:\n",
    "\n",
    "    logging.info(f\"Creating sample data for {obj_id}\")\n",
    "\n",
    "    sim_obj = ycb_loader.get_ycb_object(pos = (0.5, 0.0, 0.2), quat = (0,1,0,0), obj_id=obj_id, name=obj_id)\n",
    "\n",
    "    results, scene, agent = create_sample_data(\n",
    "        factory_string=factory_string,\n",
    "        cam_pos=cam_pos,\n",
    "        cam_quat=cam_quat,\n",
    "        cam_height=cam_height,\n",
    "        cam_width=cam_width,\n",
    "        robot_pos=robot_pos,\n",
    "        robot_quat=robot_quat,\n",
    "        object_list=[sim_obj],\n",
    "        target_obj_name=obj_id,\n",
    "        render_mode=render_mode,\n",
    "        wait_time=wait_time,\n",
    "        move_duration=move_duration,\n",
    "    )\n",
    "    logging.info(\"Sample data created\")\n",
    "\n",
    "    pc_points, pc_colors = calc_point_cloud_from_images(\n",
    "        rgb_img=results[\"rgb_img\"], depth_img=results[\"depth_img\"], cam_intrinsics=results[\"cam_intrinsics\"]\n",
    "    )\n",
    "\n",
    "    grasp_req = create_grasp_planner_request(\n",
    "        rgb_img=results[\"rgb_img\"],\n",
    "        depth_img=results[\"depth_img\"],\n",
    "        seg_img=results[\"seg_img\"],\n",
    "        pc_points=pc_points,\n",
    "        pc_colors=pc_colors,\n",
    "        cam_pos=results[\"cam_pos\"],\n",
    "        cam_quat=results[\"cam_quat\"],\n",
    "        cam_intrinsics=results[\"cam_intrinsics\"],\n",
    "        cam_height=cam_height,\n",
    "        cam_width=cam_width,\n",
    "        num_of_candidates=10_000,\n",
    "    )\n",
    "\n",
    "    logging.info(\"Created request, sending request ...\")\n",
    "\n",
    "    rospy.wait_for_service(grasp_planner_service_id, timeout=30.0)\n",
    "    grasp_planner = rospy.ServiceProxy(grasp_planner_service_id, GraspPlanner)\n",
    "\n",
    "    reply: GraspPlannerResponse = grasp_planner(grasp_req)\n",
    "    logging.info(\"Received grasp candidates\")\n",
    "\n",
    "    best_grasp = sorted(reply.grasp_candidates, key=lambda x: x.score.data)[-1]\n",
    "    grasp_pos = best_grasp.pose.pose.position\n",
    "    grasp_pos = (grasp_pos.x, grasp_pos.y, grasp_pos.z)\n",
    "    grasp_quat = best_grasp.pose.pose.orientation\n",
    "    grasp_quat = (grasp_quat.w, grasp_quat.x, grasp_quat.y, grasp_quat.z)\n",
    "\n",
    "    execute_grasping_sequence(\n",
    "        agent = agent,\n",
    "        grasp_pos = grasp_pos,\n",
    "        grasp_quat = grasp_quat\n",
    "    )\n",
    "\n",
    "    reset_scene(factory_string, scene, agent)\n",
    "        "
   ]
  }
 ],
 "metadata": {
  "kernelspec": {
   "display_name": "alr",
   "language": "python",
   "name": "python3"
  },
  "language_info": {
   "codemirror_mode": {
    "name": "ipython",
    "version": 3
   },
   "file_extension": ".py",
   "mimetype": "text/x-python",
   "name": "python",
   "nbconvert_exporter": "python",
   "pygments_lexer": "ipython3",
   "version": "3.10.9"
  },
  "orig_nbformat": 4,
  "vscode": {
   "interpreter": {
    "hash": "ef7e1541b8e7b6b5672ac838d3c045be09c9245709d40ce12336bbbdd1b51144"
   }
  }
 },
 "nbformat": 4,
 "nbformat_minor": 2
}
