{
 "cells": [
  {
   "cell_type": "code",
   "execution_count": 1,
   "metadata": {},
   "outputs": [
    {
     "name": "stderr",
     "output_type": "stream",
     "text": [
      "pybullet build time: Oct 28 2022 16:11:27\n"
     ]
    },
    {
     "name": "stdout",
     "output_type": "stream",
     "text": [
      "Jupyter environment detected. Enabling Open3D WebVisualizer.\n",
      "[Open3D INFO] WebRTC GUI backend enabled.\n",
      "[Open3D INFO] WebRTCWindowSystem: HTTP handshake server disabled.\n"
     ]
    }
   ],
   "source": [
    "from pathlib import Path\n",
    "import logging\n",
    "import importlib\n",
    "\n",
    "import rospy\n",
    "from scipy.spatial.transform import Rotation as R\n",
    "\n",
    "from alr_sim.core import Scene\n",
    "\n",
    "from grasp_benchmark.utils.ycb_utils import YCBLoader\n",
    "from alr_simulation_tools.scene_utils import execute_grasping_sequence, create_sample_data, reset_scene\n",
    "\n",
    "from grasping_benchmarks_ros.srv import (\n",
    "    GraspPlanner,\n",
    "    GraspPlannerResponse,\n",
    ")\n",
    "\n",
    "from grasp_benchmark.utils.ros_utils import (\n",
    "    create_grasp_planner_request,\n",
    "    calc_point_cloud_from_images\n",
    ") "
   ]
  },
  {
   "cell_type": "code",
   "execution_count": 2,
   "metadata": {},
   "outputs": [],
   "source": [
    "# define scene parameters\n",
    "\n",
    "factory_string = \"mj_beta\"\n",
    "object_pos = (0.5, 0.0, 0.2)\n",
    "adhust_object_position = True\n",
    "cam_pos = (0.5, 0.0, 1)\n",
    "cam_quat = [0.7071067811865476, 0.0, 0.0, -0.7071067811865475]\n",
    "cam_height = 480\n",
    "cam_width = 640\n",
    "robot_pos = (0.0, 0.5, 0.2)\n",
    "robot_quat = (0, 1, 0, 0)\n",
    "render_mode = Scene.RenderMode.HUMAN    \n",
    "wait_time = 0.5\n",
    "move_duration = 2\n",
    "\n",
    "# grasp_planner_service_id = \"grconvnet_bench/grconvnet_grasp_planner_service\"\n",
    "grasp_planner_service_id = \"ggcnn_bench/ggcnn_grasp_planner_service\"\n",
    "# grasp_planner_service_id = \"contact_bench/contact_grasp_planner_service\"\n"
   ]
  },
  {
   "cell_type": "code",
   "execution_count": 3,
   "metadata": {},
   "outputs": [],
   "source": [
    "ycb_loader = YCBLoader(\n",
    "    ycb_base_folder=Path.home() / \"Documents\" / \"SF-ObjectDataset\" / \"YCB\", factory_string=\"mj_beta\"\n",
    ")\n",
    "obj_ids = sorted([p.name for p in ycb_loader.ycb_base_folder.iterdir() if p.is_dir()])\n",
    "# obj_ids = [\"011_banana\"]"
   ]
  },
  {
   "cell_type": "code",
   "execution_count": 4,
   "metadata": {},
   "outputs": [],
   "source": [
    "rospy.init_node(\"grasp_planner_client\")\n",
    "\n",
    "importlib.reload(logging)\n",
    "logging.basicConfig(level=logging.INFO)"
   ]
  },
  {
   "cell_type": "code",
   "execution_count": 5,
   "metadata": {},
   "outputs": [
    {
     "name": "stderr",
     "output_type": "stream",
     "text": [
      "INFO:root:Starting\n",
      "INFO:root:Creating sample data for 002_master_chef_can\n",
      "INFO:root:Sample data created\n",
      "INFO:root:Created request, sending request ...\n"
     ]
    },
    {
     "ename": "ROSException",
     "evalue": "timeout exceeded while waiting for service /contact_bench/contact_grasp_planner_service",
     "output_type": "error",
     "traceback": [
      "\u001b[0;31m---------------------------------------------------------------------------\u001b[0m",
      "\u001b[0;31mROSException\u001b[0m                              Traceback (most recent call last)",
      "Cell \u001b[0;32mIn[5], line 44\u001b[0m\n\u001b[1;32m     28\u001b[0m grasp_req \u001b[39m=\u001b[39m create_grasp_planner_request(\n\u001b[1;32m     29\u001b[0m     rgb_img\u001b[39m=\u001b[39mresults[\u001b[39m\"\u001b[39m\u001b[39mrgb_img\u001b[39m\u001b[39m\"\u001b[39m],\n\u001b[1;32m     30\u001b[0m     depth_img\u001b[39m=\u001b[39mresults[\u001b[39m\"\u001b[39m\u001b[39mdepth_img\u001b[39m\u001b[39m\"\u001b[39m],\n\u001b[0;32m   (...)\u001b[0m\n\u001b[1;32m     39\u001b[0m     num_of_candidates\u001b[39m=\u001b[39m\u001b[39m10_000\u001b[39m,\n\u001b[1;32m     40\u001b[0m )\n\u001b[1;32m     42\u001b[0m logging\u001b[39m.\u001b[39minfo(\u001b[39m\"\u001b[39m\u001b[39mCreated request, sending request ...\u001b[39m\u001b[39m\"\u001b[39m)\n\u001b[0;32m---> 44\u001b[0m rospy\u001b[39m.\u001b[39;49mwait_for_service(grasp_planner_service_id, timeout\u001b[39m=\u001b[39;49m\u001b[39m30.0\u001b[39;49m)\n\u001b[1;32m     45\u001b[0m grasp_planner \u001b[39m=\u001b[39m rospy\u001b[39m.\u001b[39mServiceProxy(grasp_planner_service_id, GraspPlanner)\n\u001b[1;32m     47\u001b[0m reply: GraspPlannerResponse \u001b[39m=\u001b[39m grasp_planner(grasp_req)\n",
      "File \u001b[0;32m/opt/ros/noetic/lib/python3/dist-packages/rospy/impl/tcpros_service.py:148\u001b[0m, in \u001b[0;36mwait_for_service\u001b[0;34m(service, timeout)\u001b[0m\n\u001b[1;32m    146\u001b[0m         \u001b[39mraise\u001b[39;00m ROSInterruptException(\u001b[39m\"\u001b[39m\u001b[39mrospy shutdown\u001b[39m\u001b[39m\"\u001b[39m)\n\u001b[1;32m    147\u001b[0m     \u001b[39melse\u001b[39;00m:\n\u001b[0;32m--> 148\u001b[0m         \u001b[39mraise\u001b[39;00m ROSException(\u001b[39m\"\u001b[39m\u001b[39mtimeout exceeded while waiting for service \u001b[39m\u001b[39m%s\u001b[39;00m\u001b[39m\"\u001b[39m\u001b[39m%\u001b[39mresolved_name)\n\u001b[1;32m    149\u001b[0m \u001b[39melse\u001b[39;00m:\n\u001b[1;32m    150\u001b[0m     \u001b[39mwhile\u001b[39;00m \u001b[39mnot\u001b[39;00m rospy\u001b[39m.\u001b[39mcore\u001b[39m.\u001b[39mis_shutdown():\n",
      "\u001b[0;31mROSException\u001b[0m: timeout exceeded while waiting for service /contact_bench/contact_grasp_planner_service"
     ]
    }
   ],
   "source": [
    "logging.info(\"Starting\")\n",
    "for obj_id in obj_ids:\n",
    "\n",
    "    logging.info(f\"Creating sample data for {obj_id}\")\n",
    "\n",
    "    sim_obj = ycb_loader.get_ycb_object(pos = (0.5, 0.0, 0.2), quat = (0,1,0,0), obj_id=obj_id, name=obj_id)\n",
    "\n",
    "    results, scene, agent = create_sample_data(\n",
    "        factory_string=factory_string,\n",
    "        cam_pos=cam_pos,\n",
    "        cam_quat=cam_quat,\n",
    "        cam_height=cam_height,\n",
    "        cam_width=cam_width,\n",
    "        robot_pos=robot_pos,\n",
    "        robot_quat=robot_quat,\n",
    "        object_list=[sim_obj],\n",
    "        target_obj_name=obj_id,\n",
    "        render_mode=render_mode,\n",
    "        wait_time=wait_time,\n",
    "        move_duration=move_duration,\n",
    "    )\n",
    "    logging.info(\"Sample data created\")\n",
    "\n",
    "    pc_points, pc_colors = calc_point_cloud_from_images(\n",
    "        rgb_img=results[\"rgb_img\"], depth_img=results[\"depth_img\"], cam_intrinsics=results[\"cam_intrinsics\"]\n",
    "    )\n",
    "\n",
    "    grasp_req = create_grasp_planner_request(\n",
    "        rgb_img=results[\"rgb_img\"],\n",
    "        depth_img=results[\"depth_img\"],\n",
    "        seg_img=results[\"seg_img\"],\n",
    "        pc_points=pc_points,\n",
    "        pc_colors=pc_colors,\n",
    "        cam_pos=results[\"cam_pos\"],\n",
    "        cam_quat=results[\"cam_quat\"],\n",
    "        cam_intrinsics=results[\"cam_intrinsics\"],\n",
    "        cam_height=cam_height,\n",
    "        cam_width=cam_width,\n",
    "        num_of_candidates=10_000,\n",
    "    )\n",
    "\n",
    "    logging.info(\"Created request, sending request ...\")\n",
    "\n",
    "    rospy.wait_for_service(grasp_planner_service_id, timeout=30.0)\n",
    "    grasp_planner = rospy.ServiceProxy(grasp_planner_service_id, GraspPlanner)\n",
    "\n",
    "    reply: GraspPlannerResponse = grasp_planner(grasp_req)\n",
    "    logging.info(\"Received grasp candidates\")\n",
    "\n",
    "    # best_grasp = sorted(reply.grasp_candidates, key=lambda x: x.score.data)[-1]\n",
    "    # grasp_pos = best_grasp.pose.pose.position\n",
    "    # grasp_pos = (grasp_pos.x, grasp_pos.y, grasp_pos.z)\n",
    "    # grasp_quat = best_grasp.pose.pose.orientation\n",
    "    # grasp_quat = (grasp_quat.w, grasp_quat.x, grasp_quat.y, grasp_quat.z)\n",
    "\n",
    "    # execute_grasping_sequence(\n",
    "    #     agent = agent,\n",
    "    #     grasp_pos = grasp_pos,\n",
    "    #     grasp_quat = grasp_quat\n",
    "    # )\n",
    "\n",
    "    reset_scene(factory_string, scene, agent)\n",
    "        "
   ]
  }
 ],
 "metadata": {
  "kernelspec": {
   "display_name": "ggcnn",
   "language": "python",
   "name": "python3"
  },
  "language_info": {
   "codemirror_mode": {
    "name": "ipython",
    "version": 3
   },
   "file_extension": ".py",
   "mimetype": "text/x-python",
   "name": "python",
   "nbconvert_exporter": "python",
   "pygments_lexer": "ipython3",
   "version": "3.10.9"
  },
  "orig_nbformat": 4,
  "vscode": {
   "interpreter": {
    "hash": "648fd5414dd759cf455503f1ca8a8d1f6103f81afa3f898375d059feb8b10734"
   }
  }
 },
 "nbformat": 4,
 "nbformat_minor": 2
}
