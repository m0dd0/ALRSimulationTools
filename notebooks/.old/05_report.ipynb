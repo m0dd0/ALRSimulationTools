{
 "cells": [
  {
   "cell_type": "code",
   "execution_count": 1,
   "metadata": {},
   "outputs": [
    {
     "name": "stderr",
     "output_type": "stream",
     "text": [
      "pybullet build time: Oct 28 2022 16:11:27\n"
     ]
    }
   ],
   "source": [
    "from pathlib import Path\n",
    "\n",
    "from matplotlib import pyplot as plt\n",
    "from scipy.spatial.transform import Rotation as R\n",
    "import numpy as np\n",
    "\n",
    "from alr_sim.sims.SimFactory import SimRepository\n",
    "from alr_sim.sims.universal_sim.PrimitiveObjects import Box\n",
    "from alr_sim.core import Scene\n",
    "from alr_sim.sims.mj_beta import MjCamera\n",
    "\n",
    "from grasp_benchmark.utils.ycb_utils import YCBLoader"
   ]
  },
  {
   "cell_type": "code",
   "execution_count": 2,
   "metadata": {},
   "outputs": [
    {
     "ename": "NameError",
     "evalue": "name 'Path' is not defined",
     "output_type": "error",
     "traceback": [
      "\u001b[0;31m---------------------------------------------------------------------------\u001b[0m",
      "\u001b[0;31mNameError\u001b[0m                                 Traceback (most recent call last)",
      "Cell \u001b[0;32mIn[2], line 2\u001b[0m\n\u001b[1;32m      1\u001b[0m ycb_loader \u001b[39m=\u001b[39m YCBLoader(\n\u001b[0;32m----> 2\u001b[0m     ycb_base_folder\u001b[39m=\u001b[39mPath\u001b[39m.\u001b[39mhome() \u001b[39m/\u001b[39m \u001b[39m\"\u001b[39m\u001b[39mDocuments\u001b[39m\u001b[39m\"\u001b[39m \u001b[39m/\u001b[39m \u001b[39m\"\u001b[39m\u001b[39mycb\u001b[39m\u001b[39m\"\u001b[39m,\n\u001b[1;32m      3\u001b[0m     factory_string\u001b[39m=\u001b[39m\u001b[39m\"\u001b[39m\u001b[39mmj_beta\u001b[39m\u001b[39m\"\u001b[39m\n\u001b[1;32m      4\u001b[0m )\n\u001b[1;32m      6\u001b[0m \u001b[39m# Generate the chosen Scene and Agent\u001b[39;00m\n\u001b[1;32m      7\u001b[0m sim_factory \u001b[39m=\u001b[39m SimRepository\u001b[39m.\u001b[39mget_factory(\u001b[39m\"\u001b[39m\u001b[39mmj_beta\u001b[39m\u001b[39m\"\u001b[39m)\n",
      "\u001b[0;31mNameError\u001b[0m: name 'Path' is not defined"
     ]
    }
   ],
   "source": [
    "ycb_loader = YCBLoader(\n",
    "    ycb_base_folder=Path.home() / \"Documents\" / \"ycb\",\n",
    "    factory_string=\"mj_beta\"\n",
    ")\n",
    "\n",
    "# Generate the chosen Scene and Agent\n",
    "sim_factory = SimRepository.get_factory(\"mj_beta\")\n",
    "scene = sim_factory.create_scene(\n",
    "    object_list=object_list, dt=0.0002, render=Scene.RenderMode.HUMAN\n",
    ")\n",
    "agent = sim_factory.create_robot(scene, dt=0.0002)\n",
    "\n",
    "cam = MjCamera(\n",
    "    \"my_cam\",\n",
    "    init_pos=(1.2, 0, 1),\n",
    "    init_quat=R.from_euler(\"zyx\", (90, 50, 0), degrees=True)\n",
    "    .as_quat()[[3, 0, 1, 2]]\n",
    "    .tolist(),\n",
    ")\n",
    "scene.add_object(cam)\n",
    "# cam.set_cam_params(height=cam_height, width=cam_width)\n",
    "\n",
    "scene.start()\n",
    "\n",
    "agent.gotoCartPositionAndQuat(np.array([0.5, 0, 0.5]), R.from_matrix(robot_rot).as_quat()[[3, 0, 1, 2]], duration=2)\n",
    "\n",
    "rgb_img, depth_img = cam.get_image()\n",
    "plt.imshow(rgb_img)\n",
    "plt.savefig(\"rgb.png\")\n",
    "\n",
    "\n",
    "# agent.wait(1)\n"
   ]
  }
 ],
 "metadata": {
  "kernelspec": {
   "display_name": "ggcnn",
   "language": "python",
   "name": "python3"
  },
  "language_info": {
   "codemirror_mode": {
    "name": "ipython",
    "version": 3
   },
   "file_extension": ".py",
   "mimetype": "text/x-python",
   "name": "python",
   "nbconvert_exporter": "python",
   "pygments_lexer": "ipython3",
   "version": "3.10.9"
  },
  "orig_nbformat": 4,
  "vscode": {
   "interpreter": {
    "hash": "648fd5414dd759cf455503f1ca8a8d1f6103f81afa3f898375d059feb8b10734"
   }
  }
 },
 "nbformat": 4,
 "nbformat_minor": 2
}
