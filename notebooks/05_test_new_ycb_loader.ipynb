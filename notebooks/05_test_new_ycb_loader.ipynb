{
 "cells": [
  {
   "cell_type": "code",
   "execution_count": 1,
   "metadata": {},
   "outputs": [
    {
     "name": "stderr",
     "output_type": "stream",
     "text": [
      "pybullet build time: Oct 28 2022 16:12:21\n"
     ]
    }
   ],
   "source": [
    "from pathlib import Path\n",
    "\n",
    "from alr_simulation_tools.ycb_utils import YCBLoader as LegacyYCBLoader\n",
    "from grasp_benchmark.utils.ycb_utils import YCBLoader\n",
    "\n",
    "from alr_sim.sims.SimFactory import SimRepository\n",
    "from alr_sim.core import Scene"
   ]
  },
  {
   "cell_type": "code",
   "execution_count": 2,
   "metadata": {},
   "outputs": [],
   "source": [
    "# ycb_loader_legacy = LegacyYCBLoader(\n",
    "#     ycb_base_folder=Path.home() / \"Documents\" / \"ycb\", factory_string=\"mj_beta\"\n",
    "# )\n",
    "# sim_obj, name = ycb_loader_legacy.get_ycb_object(index=9, pos = (0.5, 0.0, 0.2))\n",
    "\n",
    "ycb_loader = YCBLoader(\n",
    "    ycb_base_folder=Path.home() / \"Documents\" / \"SF-ObjectDataset\" / \"YCB\", factory_string=\"mj_beta\"\n",
    ")\n",
    "sim_obj = ycb_loader.get_ycb_object(pos = (0.5, 0.0, 0.2), quat = (0,1,0,0), obj_id=\"011_banana\", name=\"a ycb object\")\n"
   ]
  },
  {
   "cell_type": "code",
   "execution_count": 3,
   "metadata": {},
   "outputs": [
    {
     "name": "stderr",
     "output_type": "stream",
     "text": [
      "/home/i53/student/m_hesche/mambaforge/envs/benchmark/lib/python3.9/site-packages/glfw/__init__.py:912: GLFWError: (65537) b'The GLFW library is not initialized'\n",
      "  warnings.warn(message, GLFWError)\n"
     ]
    }
   ],
   "source": [
    "sim_factory = SimRepository.get_factory(\"mj_beta\")\n",
    "scene = sim_factory.create_scene(\n",
    "    object_list=[sim_obj], dt=0.0002, render=Scene.RenderMode.HUMAN\n",
    ")\n",
    "agent = sim_factory.create_robot(scene, dt=0.0002)\n",
    "\n",
    "scene.start()\n",
    "\n",
    "agent.gotoCartPositionAndQuat((0.0, 0.5, 0.2), (0, 1, 0, 0), duration=2)\n",
    "agent.wait(10)"
   ]
  }
 ],
 "metadata": {
  "kernelspec": {
   "display_name": "benchmark",
   "language": "python",
   "name": "python3"
  },
  "language_info": {
   "codemirror_mode": {
    "name": "ipython",
    "version": 3
   },
   "file_extension": ".py",
   "mimetype": "text/x-python",
   "name": "python",
   "nbconvert_exporter": "python",
   "pygments_lexer": "ipython3",
   "version": "3.9.16"
  },
  "orig_nbformat": 4,
  "vscode": {
   "interpreter": {
    "hash": "96361501184a06229a7d6ad5729629afa32655127681c80903108d359eca8b02"
   }
  }
 },
 "nbformat": 4,
 "nbformat_minor": 2
}
